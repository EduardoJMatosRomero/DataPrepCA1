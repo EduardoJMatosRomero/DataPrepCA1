{
 "cells": [
  {
   "cell_type": "markdown",
   "id": "GiW7g_y9si4X",
   "metadata": {
    "id": "GiW7g_y9si4X"
   },
   "source": [
    "# Scenario:\n",
    "\n",
    "### You have been retained by a haulage company to analyse a dataset based on data collected from heavy Scania trucks in everyday usage. The system in focus is the Air Pressure system (APS) which generates pressurised air that are utilized in various functions in a truck, such as braking and gear changes. The dataset’s  positive class consists of component failures for a specific component of the APS system.\n",
    "\n",
    "### The negative class consists of trucks with failures for components not related to the APS. The data consists  of a subset of all available data, selected by experts. This analysis will help determine the investment strategy for the company in the upcoming year.\n",
    "\n",
    "### All data wrangling, analysis, and visualizations must generated using python.\n",
    "\n",
    "The companies CTO also requires you to rationalize all the decisions that you have made in your report."
   ]
  },
  {
   "cell_type": "code",
   "execution_count": 1,
   "id": "9b1adebe",
   "metadata": {
    "id": "9b1adebe"
   },
   "outputs": [],
   "source": [
    "import pandas as pd\n",
    "import numpy as np\n",
    "import seaborn as sns #visualisation\n",
    "import matplotlib.pyplot as plt #visualisation\n",
    "%matplotlib inline\n",
    "sns.set(color_codes=True)\n",
    "from sklearn.impute import KNNImputer\n",
    "import math\n",
    "import numpy as np\n",
    "from sklearn.preprocessing import MinMaxScaler\n",
    "from sklearn.decomposition import PCA\n",
    "\n",
    "from sklearn.model_selection import train_test_split\n",
    "from matplotlib import pyplot\n",
    "from sklearn.model_selection import cross_val_score\n",
    "from sklearn.model_selection import StratifiedKFold\n",
    "from sklearn.linear_model import LogisticRegression\n",
    "from sklearn.tree import DecisionTreeClassifier\n",
    "from sklearn.neighbors import KNeighborsClassifier\n",
    "from sklearn.discriminant_analysis import LinearDiscriminantAnalysis\n",
    "from sklearn.naive_bayes import GaussianNB\n",
    "from sklearn.metrics import classification_report\n",
    "from sklearn.metrics import confusion_matrix\n",
    "\n",
    "from sklearn.metrics import accuracy_score\n",
    "from sklearn.svm import SVC\n",
    "from sklearn.metrics import precision_recall_curve\n",
    "from sklearn.ensemble import RandomForestClassifier\n",
    "from sklearn.utils import resample\n",
    "from sklearn.preprocessing import StandardScaler,MinMaxScaler\n",
    "from imblearn import over_sampling\n",
    "from sklearn.model_selection import RandomizedSearchCV,GridSearchCV,KFold"
   ]
  },
  {
   "cell_type": "markdown",
   "id": "919ed8ec",
   "metadata": {
    "id": "919ed8ec"
   },
   "source": [
    "### This is a binary classification problem."
   ]
  },
  {
   "cell_type": "markdown",
   "id": "f485d0d7",
   "metadata": {
    "id": "f485d0d7"
   },
   "source": [
    "### The dataset’s  positive class (1) consists of component failures for a specific component of the APS system."
   ]
  },
  {
   "cell_type": "markdown",
   "id": "221e43dc",
   "metadata": {
    "id": "221e43dc"
   },
   "source": [
    "### The The dataset’s negative class (0) consists of trucks with failures for components not related to the APS."
   ]
  },
  {
   "cell_type": "markdown",
   "id": "x03XvK1foO27",
   "metadata": {
    "id": "x03XvK1foO27"
   },
   "source": [
    "### Hypothesis"
   ]
  },
  {
   "cell_type": "markdown",
   "id": "0L5iu9I42jrE",
   "metadata": {
    "id": "0L5iu9I42jrE"
   },
   "source": [
    "### The hypothesis we are considering is that with our database and the data collected in it, we can analyse how much it costs the company to take our trucks to the mechanic by mistake.\n",
    "### Using machine learning techniques, we carry out data classification algorithms that allow us to classify the problems we have with our trucks and, considering that every time we send our trucks to the mechanic by mistake it costs us €10 (false positives), and missing faulty trucks cost €500 (false negatives) in the long term.\n"
   ]
  },
  {
   "cell_type": "markdown",
   "id": "27CQ69gPseGj",
   "metadata": {
    "id": "27CQ69gPseGj"
   },
   "source": [
    "## Index\n",
    "1. Dataset overview\n",
    "\n",
    "2. Data cleaning\n",
    "\n",
    "> 2.1. NaN cleaning\n",
    "\n",
    "> 2.2. Data types cleaning\n",
    "\n",
    "> 2.3. Renaming of the column label\n",
    "\n",
    "> 2.4. Datatype conversion of the column label\n",
    "\n",
    "> 2.5. NaN values visual analysis and cleaning\n",
    "\n",
    "> 2.6. Conversion of NaN values using the median\n",
    "\n",
    "> 2.7. Outliers analysis\n",
    "\n",
    "> 2.8. Data normalization\n",
    "\n",
    "> 2.9. PCA Analysis\n",
    "\n",
    "> 2.10. Correlation Analysis\n",
    "\n",
    "3. Machine learning classification algorithms analysis\n",
    "\n",
    "> 3.1. Classification algorithms performance comparison\n",
    "\n",
    "> 3.2. Random Forest Optimization\n",
    "\n",
    "> 3.3. Unbalanced Data Optimization\n",
    "\n",
    "> 3.3.1 ROC and Precision-Recall curves\n",
    "\n",
    "4. Conclusion\n",
    "\n",
    "5. Machine learning classification algorithms analysis with dataset balanced"
   ]
  },
  {
   "cell_type": "markdown",
   "id": "tdW7d9UltcHN",
   "metadata": {
    "id": "tdW7d9UltcHN"
   },
   "source": [
    "### Note\n",
    "### We recommend using Google Calab if the computing power of this notebook is too high.\n",
    "### Google Colab is a cloud-based notebook that allows machine learning and individuals to run their machine learning algorithms using cloud services provided by Google."
   ]
  },
  {
   "cell_type": "code",
   "execution_count": 2,
   "id": "EyhwD86YQ9XR",
   "metadata": {
    "colab": {
     "base_uri": "https://localhost:8080/"
    },
    "id": "EyhwD86YQ9XR",
    "outputId": "c185a39d-7468-49f4-efe0-cc165c459940"
   },
   "outputs": [],
   "source": [
    "#from google.colab import drive\n",
    "#drive.mount('/content/drive')"
   ]
  },
  {
   "cell_type": "code",
   "execution_count": 3,
   "id": "4WkZAyqqRvGA",
   "metadata": {
    "colab": {
     "base_uri": "https://localhost:8080/"
    },
    "id": "4WkZAyqqRvGA",
    "outputId": "10e2eb50-3d0c-4c4e-b2e6-aa2d28f6264d"
   },
   "outputs": [],
   "source": [
    "#import os\n",
    "#os.chdir(\"/content/drive/My Drive\")\n",
    "#!ls"
   ]
  },
  {
   "cell_type": "markdown",
   "id": "abc5e16f",
   "metadata": {
    "id": "abc5e16f"
   },
   "source": [
    "1. Dataset overview"
   ]
  },
  {
   "cell_type": "code",
   "execution_count": 4,
   "id": "6fa60563",
   "metadata": {
    "colab": {
     "base_uri": "https://localhost:8080/"
    },
    "id": "5c39a030",
    "outputId": "ec466bc3-3eaa-4368-828d-a6f0bf42a3a7"
   },
   "outputs": [
    {
     "name": "stdout",
     "output_type": "stream",
     "text": [
      "<class 'pandas.core.frame.DataFrame'>\n",
      "RangeIndex: 60000 entries, 0 to 59999\n",
      "Columns: 171 entries, class to eg_000\n",
      "dtypes: int64(1), object(170)\n",
      "memory usage: 78.3+ MB\n"
     ]
    }
   ],
   "source": [
    "#df=pd.read_csv(\"/content/drive/MyDrive/CA1/DataPreparation/aps_failure_set.csv\")\n",
    "df=pd.read_csv(\"aps_failure_set.csv\")\n",
    "df.info()"
   ]
  },
  {
   "cell_type": "code",
   "execution_count": 5,
   "id": "e2cd4507",
   "metadata": {},
   "outputs": [],
   "source": [
    "df.columns = df.columns.astype(str)"
   ]
  },
  {
   "cell_type": "code",
   "execution_count": 6,
   "id": "23bbcd7b",
   "metadata": {
    "colab": {
     "base_uri": "https://localhost:8080/",
     "height": 235
    },
    "id": "23bbcd7b",
    "outputId": "bce6b258-da90-43db-a0c1-1842931ce45a"
   },
   "outputs": [
    {
     "data": {
      "text/html": [
       "<div>\n",
       "<style scoped>\n",
       "    .dataframe tbody tr th:only-of-type {\n",
       "        vertical-align: middle;\n",
       "    }\n",
       "\n",
       "    .dataframe tbody tr th {\n",
       "        vertical-align: top;\n",
       "    }\n",
       "\n",
       "    .dataframe thead th {\n",
       "        text-align: right;\n",
       "    }\n",
       "</style>\n",
       "<table border=\"1\" class=\"dataframe\">\n",
       "  <thead>\n",
       "    <tr style=\"text-align: right;\">\n",
       "      <th></th>\n",
       "      <th>class</th>\n",
       "      <th>aa_000</th>\n",
       "      <th>ab_000</th>\n",
       "      <th>ac_000</th>\n",
       "      <th>ad_000</th>\n",
       "      <th>ae_000</th>\n",
       "      <th>af_000</th>\n",
       "      <th>ag_000</th>\n",
       "      <th>ag_001</th>\n",
       "      <th>ag_002</th>\n",
       "      <th>...</th>\n",
       "      <th>ee_002</th>\n",
       "      <th>ee_003</th>\n",
       "      <th>ee_004</th>\n",
       "      <th>ee_005</th>\n",
       "      <th>ee_006</th>\n",
       "      <th>ee_007</th>\n",
       "      <th>ee_008</th>\n",
       "      <th>ee_009</th>\n",
       "      <th>ef_000</th>\n",
       "      <th>eg_000</th>\n",
       "    </tr>\n",
       "  </thead>\n",
       "  <tbody>\n",
       "    <tr>\n",
       "      <th>0</th>\n",
       "      <td>neg</td>\n",
       "      <td>76698</td>\n",
       "      <td>na</td>\n",
       "      <td>2130706438</td>\n",
       "      <td>280</td>\n",
       "      <td>0</td>\n",
       "      <td>0</td>\n",
       "      <td>0</td>\n",
       "      <td>0</td>\n",
       "      <td>0</td>\n",
       "      <td>...</td>\n",
       "      <td>1240520</td>\n",
       "      <td>493384</td>\n",
       "      <td>721044</td>\n",
       "      <td>469792</td>\n",
       "      <td>339156</td>\n",
       "      <td>157956</td>\n",
       "      <td>73224</td>\n",
       "      <td>0</td>\n",
       "      <td>0</td>\n",
       "      <td>0</td>\n",
       "    </tr>\n",
       "    <tr>\n",
       "      <th>1</th>\n",
       "      <td>neg</td>\n",
       "      <td>33058</td>\n",
       "      <td>na</td>\n",
       "      <td>0</td>\n",
       "      <td>na</td>\n",
       "      <td>0</td>\n",
       "      <td>0</td>\n",
       "      <td>0</td>\n",
       "      <td>0</td>\n",
       "      <td>0</td>\n",
       "      <td>...</td>\n",
       "      <td>421400</td>\n",
       "      <td>178064</td>\n",
       "      <td>293306</td>\n",
       "      <td>245416</td>\n",
       "      <td>133654</td>\n",
       "      <td>81140</td>\n",
       "      <td>97576</td>\n",
       "      <td>1500</td>\n",
       "      <td>0</td>\n",
       "      <td>0</td>\n",
       "    </tr>\n",
       "    <tr>\n",
       "      <th>2</th>\n",
       "      <td>neg</td>\n",
       "      <td>41040</td>\n",
       "      <td>na</td>\n",
       "      <td>228</td>\n",
       "      <td>100</td>\n",
       "      <td>0</td>\n",
       "      <td>0</td>\n",
       "      <td>0</td>\n",
       "      <td>0</td>\n",
       "      <td>0</td>\n",
       "      <td>...</td>\n",
       "      <td>277378</td>\n",
       "      <td>159812</td>\n",
       "      <td>423992</td>\n",
       "      <td>409564</td>\n",
       "      <td>320746</td>\n",
       "      <td>158022</td>\n",
       "      <td>95128</td>\n",
       "      <td>514</td>\n",
       "      <td>0</td>\n",
       "      <td>0</td>\n",
       "    </tr>\n",
       "    <tr>\n",
       "      <th>3</th>\n",
       "      <td>neg</td>\n",
       "      <td>12</td>\n",
       "      <td>0</td>\n",
       "      <td>70</td>\n",
       "      <td>66</td>\n",
       "      <td>0</td>\n",
       "      <td>10</td>\n",
       "      <td>0</td>\n",
       "      <td>0</td>\n",
       "      <td>0</td>\n",
       "      <td>...</td>\n",
       "      <td>240</td>\n",
       "      <td>46</td>\n",
       "      <td>58</td>\n",
       "      <td>44</td>\n",
       "      <td>10</td>\n",
       "      <td>0</td>\n",
       "      <td>0</td>\n",
       "      <td>0</td>\n",
       "      <td>4</td>\n",
       "      <td>32</td>\n",
       "    </tr>\n",
       "    <tr>\n",
       "      <th>4</th>\n",
       "      <td>neg</td>\n",
       "      <td>60874</td>\n",
       "      <td>na</td>\n",
       "      <td>1368</td>\n",
       "      <td>458</td>\n",
       "      <td>0</td>\n",
       "      <td>0</td>\n",
       "      <td>0</td>\n",
       "      <td>0</td>\n",
       "      <td>0</td>\n",
       "      <td>...</td>\n",
       "      <td>622012</td>\n",
       "      <td>229790</td>\n",
       "      <td>405298</td>\n",
       "      <td>347188</td>\n",
       "      <td>286954</td>\n",
       "      <td>311560</td>\n",
       "      <td>433954</td>\n",
       "      <td>1218</td>\n",
       "      <td>0</td>\n",
       "      <td>0</td>\n",
       "    </tr>\n",
       "  </tbody>\n",
       "</table>\n",
       "<p>5 rows × 171 columns</p>\n",
       "</div>"
      ],
      "text/plain": [
       "  class  aa_000 ab_000      ac_000 ad_000 ae_000 af_000 ag_000 ag_001 ag_002  \\\n",
       "0   neg   76698     na  2130706438    280      0      0      0      0      0   \n",
       "1   neg   33058     na           0     na      0      0      0      0      0   \n",
       "2   neg   41040     na         228    100      0      0      0      0      0   \n",
       "3   neg      12      0          70     66      0     10      0      0      0   \n",
       "4   neg   60874     na        1368    458      0      0      0      0      0   \n",
       "\n",
       "   ...   ee_002  ee_003  ee_004  ee_005  ee_006  ee_007  ee_008 ee_009 ef_000  \\\n",
       "0  ...  1240520  493384  721044  469792  339156  157956   73224      0      0   \n",
       "1  ...   421400  178064  293306  245416  133654   81140   97576   1500      0   \n",
       "2  ...   277378  159812  423992  409564  320746  158022   95128    514      0   \n",
       "3  ...      240      46      58      44      10       0       0      0      4   \n",
       "4  ...   622012  229790  405298  347188  286954  311560  433954   1218      0   \n",
       "\n",
       "  eg_000  \n",
       "0      0  \n",
       "1      0  \n",
       "2      0  \n",
       "3     32  \n",
       "4      0  \n",
       "\n",
       "[5 rows x 171 columns]"
      ]
     },
     "execution_count": 6,
     "metadata": {},
     "output_type": "execute_result"
    }
   ],
   "source": [
    "df.head(5)"
   ]
  },
  {
   "cell_type": "code",
   "execution_count": 7,
   "id": "e3a321e4",
   "metadata": {
    "colab": {
     "base_uri": "https://localhost:8080/",
     "height": 235
    },
    "id": "e3a321e4",
    "outputId": "1aea36c2-9167-4580-c0ab-ab6f2eea1b4f"
   },
   "outputs": [
    {
     "data": {
      "text/html": [
       "<div>\n",
       "<style scoped>\n",
       "    .dataframe tbody tr th:only-of-type {\n",
       "        vertical-align: middle;\n",
       "    }\n",
       "\n",
       "    .dataframe tbody tr th {\n",
       "        vertical-align: top;\n",
       "    }\n",
       "\n",
       "    .dataframe thead th {\n",
       "        text-align: right;\n",
       "    }\n",
       "</style>\n",
       "<table border=\"1\" class=\"dataframe\">\n",
       "  <thead>\n",
       "    <tr style=\"text-align: right;\">\n",
       "      <th></th>\n",
       "      <th>class</th>\n",
       "      <th>aa_000</th>\n",
       "      <th>ab_000</th>\n",
       "      <th>ac_000</th>\n",
       "      <th>ad_000</th>\n",
       "      <th>ae_000</th>\n",
       "      <th>af_000</th>\n",
       "      <th>ag_000</th>\n",
       "      <th>ag_001</th>\n",
       "      <th>ag_002</th>\n",
       "      <th>...</th>\n",
       "      <th>ee_002</th>\n",
       "      <th>ee_003</th>\n",
       "      <th>ee_004</th>\n",
       "      <th>ee_005</th>\n",
       "      <th>ee_006</th>\n",
       "      <th>ee_007</th>\n",
       "      <th>ee_008</th>\n",
       "      <th>ee_009</th>\n",
       "      <th>ef_000</th>\n",
       "      <th>eg_000</th>\n",
       "    </tr>\n",
       "  </thead>\n",
       "  <tbody>\n",
       "    <tr>\n",
       "      <th>59995</th>\n",
       "      <td>neg</td>\n",
       "      <td>153002</td>\n",
       "      <td>na</td>\n",
       "      <td>664</td>\n",
       "      <td>186</td>\n",
       "      <td>0</td>\n",
       "      <td>0</td>\n",
       "      <td>0</td>\n",
       "      <td>0</td>\n",
       "      <td>0</td>\n",
       "      <td>...</td>\n",
       "      <td>998500</td>\n",
       "      <td>566884</td>\n",
       "      <td>1290398</td>\n",
       "      <td>1218244</td>\n",
       "      <td>1019768</td>\n",
       "      <td>717762</td>\n",
       "      <td>898642</td>\n",
       "      <td>28588</td>\n",
       "      <td>0</td>\n",
       "      <td>0</td>\n",
       "    </tr>\n",
       "    <tr>\n",
       "      <th>59996</th>\n",
       "      <td>neg</td>\n",
       "      <td>2286</td>\n",
       "      <td>na</td>\n",
       "      <td>2130706538</td>\n",
       "      <td>224</td>\n",
       "      <td>0</td>\n",
       "      <td>0</td>\n",
       "      <td>0</td>\n",
       "      <td>0</td>\n",
       "      <td>0</td>\n",
       "      <td>...</td>\n",
       "      <td>10578</td>\n",
       "      <td>6760</td>\n",
       "      <td>21126</td>\n",
       "      <td>68424</td>\n",
       "      <td>136</td>\n",
       "      <td>0</td>\n",
       "      <td>0</td>\n",
       "      <td>0</td>\n",
       "      <td>0</td>\n",
       "      <td>0</td>\n",
       "    </tr>\n",
       "    <tr>\n",
       "      <th>59997</th>\n",
       "      <td>neg</td>\n",
       "      <td>112</td>\n",
       "      <td>0</td>\n",
       "      <td>2130706432</td>\n",
       "      <td>18</td>\n",
       "      <td>0</td>\n",
       "      <td>0</td>\n",
       "      <td>0</td>\n",
       "      <td>0</td>\n",
       "      <td>0</td>\n",
       "      <td>...</td>\n",
       "      <td>792</td>\n",
       "      <td>386</td>\n",
       "      <td>452</td>\n",
       "      <td>144</td>\n",
       "      <td>146</td>\n",
       "      <td>2622</td>\n",
       "      <td>0</td>\n",
       "      <td>0</td>\n",
       "      <td>0</td>\n",
       "      <td>0</td>\n",
       "    </tr>\n",
       "    <tr>\n",
       "      <th>59998</th>\n",
       "      <td>neg</td>\n",
       "      <td>80292</td>\n",
       "      <td>na</td>\n",
       "      <td>2130706432</td>\n",
       "      <td>494</td>\n",
       "      <td>0</td>\n",
       "      <td>0</td>\n",
       "      <td>0</td>\n",
       "      <td>0</td>\n",
       "      <td>0</td>\n",
       "      <td>...</td>\n",
       "      <td>699352</td>\n",
       "      <td>222654</td>\n",
       "      <td>347378</td>\n",
       "      <td>225724</td>\n",
       "      <td>194440</td>\n",
       "      <td>165070</td>\n",
       "      <td>802280</td>\n",
       "      <td>388422</td>\n",
       "      <td>0</td>\n",
       "      <td>0</td>\n",
       "    </tr>\n",
       "    <tr>\n",
       "      <th>59999</th>\n",
       "      <td>neg</td>\n",
       "      <td>40222</td>\n",
       "      <td>na</td>\n",
       "      <td>698</td>\n",
       "      <td>628</td>\n",
       "      <td>0</td>\n",
       "      <td>0</td>\n",
       "      <td>0</td>\n",
       "      <td>0</td>\n",
       "      <td>0</td>\n",
       "      <td>...</td>\n",
       "      <td>440066</td>\n",
       "      <td>183200</td>\n",
       "      <td>344546</td>\n",
       "      <td>254068</td>\n",
       "      <td>225148</td>\n",
       "      <td>158304</td>\n",
       "      <td>170384</td>\n",
       "      <td>158</td>\n",
       "      <td>0</td>\n",
       "      <td>0</td>\n",
       "    </tr>\n",
       "  </tbody>\n",
       "</table>\n",
       "<p>5 rows × 171 columns</p>\n",
       "</div>"
      ],
      "text/plain": [
       "      class  aa_000 ab_000      ac_000 ad_000 ae_000 af_000 ag_000 ag_001  \\\n",
       "59995   neg  153002     na         664    186      0      0      0      0   \n",
       "59996   neg    2286     na  2130706538    224      0      0      0      0   \n",
       "59997   neg     112      0  2130706432     18      0      0      0      0   \n",
       "59998   neg   80292     na  2130706432    494      0      0      0      0   \n",
       "59999   neg   40222     na         698    628      0      0      0      0   \n",
       "\n",
       "      ag_002  ...  ee_002  ee_003   ee_004   ee_005   ee_006  ee_007  ee_008  \\\n",
       "59995      0  ...  998500  566884  1290398  1218244  1019768  717762  898642   \n",
       "59996      0  ...   10578    6760    21126    68424      136       0       0   \n",
       "59997      0  ...     792     386      452      144      146    2622       0   \n",
       "59998      0  ...  699352  222654   347378   225724   194440  165070  802280   \n",
       "59999      0  ...  440066  183200   344546   254068   225148  158304  170384   \n",
       "\n",
       "       ee_009 ef_000 eg_000  \n",
       "59995   28588      0      0  \n",
       "59996       0      0      0  \n",
       "59997       0      0      0  \n",
       "59998  388422      0      0  \n",
       "59999     158      0      0  \n",
       "\n",
       "[5 rows x 171 columns]"
      ]
     },
     "execution_count": 7,
     "metadata": {},
     "output_type": "execute_result"
    }
   ],
   "source": [
    "df.tail(5)"
   ]
  },
  {
   "cell_type": "code",
   "execution_count": 8,
   "id": "e9fd6048",
   "metadata": {
    "colab": {
     "base_uri": "https://localhost:8080/"
    },
    "id": "e9fd6048",
    "outputId": "5b2375bc-97de-4841-d2bd-8260826ef6a5"
   },
   "outputs": [
    {
     "data": {
      "text/plain": [
       "(60000, 171)"
      ]
     },
     "execution_count": 8,
     "metadata": {},
     "output_type": "execute_result"
    }
   ],
   "source": [
    "df.shape"
   ]
  },
  {
   "cell_type": "code",
   "execution_count": 9,
   "id": "ce231437",
   "metadata": {
    "colab": {
     "base_uri": "https://localhost:8080/"
    },
    "id": "ce231437",
    "outputId": "fd9ffdc7-4028-4828-a9ad-051840b50dba"
   },
   "outputs": [
    {
     "data": {
      "text/plain": [
       "(60000, 171)"
      ]
     },
     "execution_count": 9,
     "metadata": {},
     "output_type": "execute_result"
    }
   ],
   "source": [
    "df = df.drop_duplicates()\n",
    "df.shape"
   ]
  },
  {
   "cell_type": "code",
   "execution_count": 10,
   "id": "21c4c7f2",
   "metadata": {
    "colab": {
     "base_uri": "https://localhost:8080/"
    },
    "id": "21c4c7f2",
    "outputId": "8c19f0de-80c5-4336-bf9c-327517135ffa"
   },
   "outputs": [
    {
     "data": {
      "text/plain": [
       "class     60000\n",
       "aa_000    60000\n",
       "ab_000    60000\n",
       "ac_000    60000\n",
       "ad_000    60000\n",
       "          ...  \n",
       "ee_007    60000\n",
       "ee_008    60000\n",
       "ee_009    60000\n",
       "ef_000    60000\n",
       "eg_000    60000\n",
       "Length: 171, dtype: int64"
      ]
     },
     "execution_count": 10,
     "metadata": {},
     "output_type": "execute_result"
    }
   ],
   "source": [
    "df.count()"
   ]
  },
  {
   "cell_type": "code",
   "execution_count": 11,
   "id": "51bf2cb4",
   "metadata": {
    "colab": {
     "base_uri": "https://localhost:8080/",
     "height": 423
    },
    "id": "51bf2cb4",
    "outputId": "0d813d33-b4f2-49d9-e15d-2336fef9bc04"
   },
   "outputs": [
    {
     "data": {
      "text/html": [
       "<div>\n",
       "<style scoped>\n",
       "    .dataframe tbody tr th:only-of-type {\n",
       "        vertical-align: middle;\n",
       "    }\n",
       "\n",
       "    .dataframe tbody tr th {\n",
       "        vertical-align: top;\n",
       "    }\n",
       "\n",
       "    .dataframe thead th {\n",
       "        text-align: right;\n",
       "    }\n",
       "</style>\n",
       "<table border=\"1\" class=\"dataframe\">\n",
       "  <thead>\n",
       "    <tr style=\"text-align: right;\">\n",
       "      <th></th>\n",
       "      <th>class</th>\n",
       "      <th>aa_000</th>\n",
       "      <th>ab_000</th>\n",
       "      <th>ac_000</th>\n",
       "      <th>ad_000</th>\n",
       "      <th>ae_000</th>\n",
       "      <th>af_000</th>\n",
       "      <th>ag_000</th>\n",
       "      <th>ag_001</th>\n",
       "      <th>ag_002</th>\n",
       "      <th>...</th>\n",
       "      <th>ee_002</th>\n",
       "      <th>ee_003</th>\n",
       "      <th>ee_004</th>\n",
       "      <th>ee_005</th>\n",
       "      <th>ee_006</th>\n",
       "      <th>ee_007</th>\n",
       "      <th>ee_008</th>\n",
       "      <th>ee_009</th>\n",
       "      <th>ef_000</th>\n",
       "      <th>eg_000</th>\n",
       "    </tr>\n",
       "  </thead>\n",
       "  <tbody>\n",
       "    <tr>\n",
       "      <th>count</th>\n",
       "      <td>60000</td>\n",
       "      <td>6.000000e+04</td>\n",
       "      <td>60000</td>\n",
       "      <td>60000</td>\n",
       "      <td>60000</td>\n",
       "      <td>60000</td>\n",
       "      <td>60000</td>\n",
       "      <td>60000</td>\n",
       "      <td>60000</td>\n",
       "      <td>60000</td>\n",
       "      <td>...</td>\n",
       "      <td>60000</td>\n",
       "      <td>60000</td>\n",
       "      <td>60000</td>\n",
       "      <td>60000</td>\n",
       "      <td>60000</td>\n",
       "      <td>60000</td>\n",
       "      <td>60000</td>\n",
       "      <td>60000</td>\n",
       "      <td>60000</td>\n",
       "      <td>60000</td>\n",
       "    </tr>\n",
       "    <tr>\n",
       "      <th>unique</th>\n",
       "      <td>2</td>\n",
       "      <td>NaN</td>\n",
       "      <td>30</td>\n",
       "      <td>2062</td>\n",
       "      <td>1887</td>\n",
       "      <td>334</td>\n",
       "      <td>419</td>\n",
       "      <td>155</td>\n",
       "      <td>618</td>\n",
       "      <td>2423</td>\n",
       "      <td>...</td>\n",
       "      <td>34489</td>\n",
       "      <td>31712</td>\n",
       "      <td>35189</td>\n",
       "      <td>36289</td>\n",
       "      <td>31796</td>\n",
       "      <td>30470</td>\n",
       "      <td>24214</td>\n",
       "      <td>9725</td>\n",
       "      <td>29</td>\n",
       "      <td>50</td>\n",
       "    </tr>\n",
       "    <tr>\n",
       "      <th>top</th>\n",
       "      <td>neg</td>\n",
       "      <td>NaN</td>\n",
       "      <td>na</td>\n",
       "      <td>0</td>\n",
       "      <td>na</td>\n",
       "      <td>0</td>\n",
       "      <td>0</td>\n",
       "      <td>0</td>\n",
       "      <td>0</td>\n",
       "      <td>0</td>\n",
       "      <td>...</td>\n",
       "      <td>0</td>\n",
       "      <td>0</td>\n",
       "      <td>0</td>\n",
       "      <td>0</td>\n",
       "      <td>0</td>\n",
       "      <td>0</td>\n",
       "      <td>0</td>\n",
       "      <td>0</td>\n",
       "      <td>0</td>\n",
       "      <td>0</td>\n",
       "    </tr>\n",
       "    <tr>\n",
       "      <th>freq</th>\n",
       "      <td>59000</td>\n",
       "      <td>NaN</td>\n",
       "      <td>46329</td>\n",
       "      <td>8752</td>\n",
       "      <td>14861</td>\n",
       "      <td>55543</td>\n",
       "      <td>55476</td>\n",
       "      <td>59133</td>\n",
       "      <td>58587</td>\n",
       "      <td>56181</td>\n",
       "      <td>...</td>\n",
       "      <td>1364</td>\n",
       "      <td>1557</td>\n",
       "      <td>1797</td>\n",
       "      <td>2814</td>\n",
       "      <td>4458</td>\n",
       "      <td>7898</td>\n",
       "      <td>17280</td>\n",
       "      <td>31863</td>\n",
       "      <td>57021</td>\n",
       "      <td>56794</td>\n",
       "    </tr>\n",
       "    <tr>\n",
       "      <th>mean</th>\n",
       "      <td>NaN</td>\n",
       "      <td>5.933650e+04</td>\n",
       "      <td>NaN</td>\n",
       "      <td>NaN</td>\n",
       "      <td>NaN</td>\n",
       "      <td>NaN</td>\n",
       "      <td>NaN</td>\n",
       "      <td>NaN</td>\n",
       "      <td>NaN</td>\n",
       "      <td>NaN</td>\n",
       "      <td>...</td>\n",
       "      <td>NaN</td>\n",
       "      <td>NaN</td>\n",
       "      <td>NaN</td>\n",
       "      <td>NaN</td>\n",
       "      <td>NaN</td>\n",
       "      <td>NaN</td>\n",
       "      <td>NaN</td>\n",
       "      <td>NaN</td>\n",
       "      <td>NaN</td>\n",
       "      <td>NaN</td>\n",
       "    </tr>\n",
       "    <tr>\n",
       "      <th>std</th>\n",
       "      <td>NaN</td>\n",
       "      <td>1.454301e+05</td>\n",
       "      <td>NaN</td>\n",
       "      <td>NaN</td>\n",
       "      <td>NaN</td>\n",
       "      <td>NaN</td>\n",
       "      <td>NaN</td>\n",
       "      <td>NaN</td>\n",
       "      <td>NaN</td>\n",
       "      <td>NaN</td>\n",
       "      <td>...</td>\n",
       "      <td>NaN</td>\n",
       "      <td>NaN</td>\n",
       "      <td>NaN</td>\n",
       "      <td>NaN</td>\n",
       "      <td>NaN</td>\n",
       "      <td>NaN</td>\n",
       "      <td>NaN</td>\n",
       "      <td>NaN</td>\n",
       "      <td>NaN</td>\n",
       "      <td>NaN</td>\n",
       "    </tr>\n",
       "    <tr>\n",
       "      <th>min</th>\n",
       "      <td>NaN</td>\n",
       "      <td>0.000000e+00</td>\n",
       "      <td>NaN</td>\n",
       "      <td>NaN</td>\n",
       "      <td>NaN</td>\n",
       "      <td>NaN</td>\n",
       "      <td>NaN</td>\n",
       "      <td>NaN</td>\n",
       "      <td>NaN</td>\n",
       "      <td>NaN</td>\n",
       "      <td>...</td>\n",
       "      <td>NaN</td>\n",
       "      <td>NaN</td>\n",
       "      <td>NaN</td>\n",
       "      <td>NaN</td>\n",
       "      <td>NaN</td>\n",
       "      <td>NaN</td>\n",
       "      <td>NaN</td>\n",
       "      <td>NaN</td>\n",
       "      <td>NaN</td>\n",
       "      <td>NaN</td>\n",
       "    </tr>\n",
       "    <tr>\n",
       "      <th>25%</th>\n",
       "      <td>NaN</td>\n",
       "      <td>8.340000e+02</td>\n",
       "      <td>NaN</td>\n",
       "      <td>NaN</td>\n",
       "      <td>NaN</td>\n",
       "      <td>NaN</td>\n",
       "      <td>NaN</td>\n",
       "      <td>NaN</td>\n",
       "      <td>NaN</td>\n",
       "      <td>NaN</td>\n",
       "      <td>...</td>\n",
       "      <td>NaN</td>\n",
       "      <td>NaN</td>\n",
       "      <td>NaN</td>\n",
       "      <td>NaN</td>\n",
       "      <td>NaN</td>\n",
       "      <td>NaN</td>\n",
       "      <td>NaN</td>\n",
       "      <td>NaN</td>\n",
       "      <td>NaN</td>\n",
       "      <td>NaN</td>\n",
       "    </tr>\n",
       "    <tr>\n",
       "      <th>50%</th>\n",
       "      <td>NaN</td>\n",
       "      <td>3.077600e+04</td>\n",
       "      <td>NaN</td>\n",
       "      <td>NaN</td>\n",
       "      <td>NaN</td>\n",
       "      <td>NaN</td>\n",
       "      <td>NaN</td>\n",
       "      <td>NaN</td>\n",
       "      <td>NaN</td>\n",
       "      <td>NaN</td>\n",
       "      <td>...</td>\n",
       "      <td>NaN</td>\n",
       "      <td>NaN</td>\n",
       "      <td>NaN</td>\n",
       "      <td>NaN</td>\n",
       "      <td>NaN</td>\n",
       "      <td>NaN</td>\n",
       "      <td>NaN</td>\n",
       "      <td>NaN</td>\n",
       "      <td>NaN</td>\n",
       "      <td>NaN</td>\n",
       "    </tr>\n",
       "    <tr>\n",
       "      <th>75%</th>\n",
       "      <td>NaN</td>\n",
       "      <td>4.866800e+04</td>\n",
       "      <td>NaN</td>\n",
       "      <td>NaN</td>\n",
       "      <td>NaN</td>\n",
       "      <td>NaN</td>\n",
       "      <td>NaN</td>\n",
       "      <td>NaN</td>\n",
       "      <td>NaN</td>\n",
       "      <td>NaN</td>\n",
       "      <td>...</td>\n",
       "      <td>NaN</td>\n",
       "      <td>NaN</td>\n",
       "      <td>NaN</td>\n",
       "      <td>NaN</td>\n",
       "      <td>NaN</td>\n",
       "      <td>NaN</td>\n",
       "      <td>NaN</td>\n",
       "      <td>NaN</td>\n",
       "      <td>NaN</td>\n",
       "      <td>NaN</td>\n",
       "    </tr>\n",
       "    <tr>\n",
       "      <th>max</th>\n",
       "      <td>NaN</td>\n",
       "      <td>2.746564e+06</td>\n",
       "      <td>NaN</td>\n",
       "      <td>NaN</td>\n",
       "      <td>NaN</td>\n",
       "      <td>NaN</td>\n",
       "      <td>NaN</td>\n",
       "      <td>NaN</td>\n",
       "      <td>NaN</td>\n",
       "      <td>NaN</td>\n",
       "      <td>...</td>\n",
       "      <td>NaN</td>\n",
       "      <td>NaN</td>\n",
       "      <td>NaN</td>\n",
       "      <td>NaN</td>\n",
       "      <td>NaN</td>\n",
       "      <td>NaN</td>\n",
       "      <td>NaN</td>\n",
       "      <td>NaN</td>\n",
       "      <td>NaN</td>\n",
       "      <td>NaN</td>\n",
       "    </tr>\n",
       "  </tbody>\n",
       "</table>\n",
       "<p>11 rows × 171 columns</p>\n",
       "</div>"
      ],
      "text/plain": [
       "        class        aa_000 ab_000 ac_000 ad_000 ae_000 af_000 ag_000 ag_001  \\\n",
       "count   60000  6.000000e+04  60000  60000  60000  60000  60000  60000  60000   \n",
       "unique      2           NaN     30   2062   1887    334    419    155    618   \n",
       "top       neg           NaN     na      0     na      0      0      0      0   \n",
       "freq    59000           NaN  46329   8752  14861  55543  55476  59133  58587   \n",
       "mean      NaN  5.933650e+04    NaN    NaN    NaN    NaN    NaN    NaN    NaN   \n",
       "std       NaN  1.454301e+05    NaN    NaN    NaN    NaN    NaN    NaN    NaN   \n",
       "min       NaN  0.000000e+00    NaN    NaN    NaN    NaN    NaN    NaN    NaN   \n",
       "25%       NaN  8.340000e+02    NaN    NaN    NaN    NaN    NaN    NaN    NaN   \n",
       "50%       NaN  3.077600e+04    NaN    NaN    NaN    NaN    NaN    NaN    NaN   \n",
       "75%       NaN  4.866800e+04    NaN    NaN    NaN    NaN    NaN    NaN    NaN   \n",
       "max       NaN  2.746564e+06    NaN    NaN    NaN    NaN    NaN    NaN    NaN   \n",
       "\n",
       "       ag_002  ... ee_002 ee_003 ee_004 ee_005 ee_006 ee_007 ee_008 ee_009  \\\n",
       "count   60000  ...  60000  60000  60000  60000  60000  60000  60000  60000   \n",
       "unique   2423  ...  34489  31712  35189  36289  31796  30470  24214   9725   \n",
       "top         0  ...      0      0      0      0      0      0      0      0   \n",
       "freq    56181  ...   1364   1557   1797   2814   4458   7898  17280  31863   \n",
       "mean      NaN  ...    NaN    NaN    NaN    NaN    NaN    NaN    NaN    NaN   \n",
       "std       NaN  ...    NaN    NaN    NaN    NaN    NaN    NaN    NaN    NaN   \n",
       "min       NaN  ...    NaN    NaN    NaN    NaN    NaN    NaN    NaN    NaN   \n",
       "25%       NaN  ...    NaN    NaN    NaN    NaN    NaN    NaN    NaN    NaN   \n",
       "50%       NaN  ...    NaN    NaN    NaN    NaN    NaN    NaN    NaN    NaN   \n",
       "75%       NaN  ...    NaN    NaN    NaN    NaN    NaN    NaN    NaN    NaN   \n",
       "max       NaN  ...    NaN    NaN    NaN    NaN    NaN    NaN    NaN    NaN   \n",
       "\n",
       "       ef_000 eg_000  \n",
       "count   60000  60000  \n",
       "unique     29     50  \n",
       "top         0      0  \n",
       "freq    57021  56794  \n",
       "mean      NaN    NaN  \n",
       "std       NaN    NaN  \n",
       "min       NaN    NaN  \n",
       "25%       NaN    NaN  \n",
       "50%       NaN    NaN  \n",
       "75%       NaN    NaN  \n",
       "max       NaN    NaN  \n",
       "\n",
       "[11 rows x 171 columns]"
      ]
     },
     "execution_count": 11,
     "metadata": {},
     "output_type": "execute_result"
    }
   ],
   "source": [
    "df.describe(include='all')"
   ]
  },
  {
   "cell_type": "code",
   "execution_count": 12,
   "id": "9cd13c08",
   "metadata": {
    "colab": {
     "base_uri": "https://localhost:8080/"
    },
    "id": "9cd13c08",
    "outputId": "d1ddb043-8073-4521-8ea7-354d0204cd25"
   },
   "outputs": [
    {
     "data": {
      "text/plain": [
       "class         2\n",
       "aa_000    22095\n",
       "ab_000       30\n",
       "ac_000     2062\n",
       "ad_000     1887\n",
       "          ...  \n",
       "ee_007    30470\n",
       "ee_008    24214\n",
       "ee_009     9725\n",
       "ef_000       29\n",
       "eg_000       50\n",
       "Length: 171, dtype: int64"
      ]
     },
     "execution_count": 12,
     "metadata": {},
     "output_type": "execute_result"
    }
   ],
   "source": [
    "unique_values = df.nunique()\n",
    "unique_values"
   ]
  },
  {
   "cell_type": "markdown",
   "id": "TFCS-3SP3x9C",
   "metadata": {
    "id": "TFCS-3SP3x9C"
   },
   "source": [
    "2. Data cleaning"
   ]
  },
  {
   "cell_type": "markdown",
   "id": "ReJOOpY63_Th",
   "metadata": {
    "id": "ReJOOpY63_Th"
   },
   "source": [
    "> 2.1. NaN cleaning"
   ]
  },
  {
   "cell_type": "code",
   "execution_count": 13,
   "id": "f352b94e",
   "metadata": {
    "colab": {
     "base_uri": "https://localhost:8080/"
    },
    "id": "f352b94e",
    "outputId": "4b0ccf77-9f4e-47c5-c0d1-f99c930c97f5"
   },
   "outputs": [
    {
     "name": "stdout",
     "output_type": "stream",
     "text": [
      "Unique values in column 'class': ['neg' 'pos']\n",
      "Unique values in column 'ab_000': ['na' '0' '2' '4' '6' '8' '18' '10' '12' '16' '204' '24' '134' '90' '26'\n",
      " '14' '34' '52' '20' '22' '30' '36' '100' '48' '58' '32' '28' '44' '46'\n",
      " '68']\n",
      "Unique values in column 'ac_000': ['2130706438' '0' '228' ... '8974' '123514' '2602']\n",
      "Unique values in column 'ad_000': ['280' 'na' '100' ... '5286' '3608' '194868']\n",
      "Unique values in column 'ae_000': ['0' '16' '104' 'na' '2' '222' '4' '290' '1286' '170' '6' '806' '1464'\n",
      " '274' '18' '8' '342' '64' '34' '192' '144' '176' '1512' '120' '58' '114'\n",
      " '460' '12' '112' '1314' '20' '550' '36' '1424' '180' '324' '204' '254'\n",
      " '106' '154' '92' '256' '202' '352' '26' '124' '2240' '466' '778' '28'\n",
      " '100' '14' '276' '42' '82' '22' '384' '282' '386' '98' '164' '108' '86'\n",
      " '38' '266' '1056' '134' '10' '200' '150' '326' '350' '398' '424' '32'\n",
      " '128' '752' '314' '732' '2312' '400' '158' '668' '30' '212' '224' '950'\n",
      " '4726' '60' '226' '388' '640' '258' '62' '206' '44' '414' '458' '78'\n",
      " '492' '308' '52' '50' '162' '24' '662' '536' '456' '130' '140' '184'\n",
      " '368' '146' '118' '138' '872' '530' '1118' '356' '218' '126' '102' '1130'\n",
      " '12048' '1508' '396' '374' '658' '816' '556' '216' '66' '760' '136' '220'\n",
      " '280' '46' '462' '788' '360' '416' '348' '74' '1124' '88' '242' '580'\n",
      " '84' '378' '94' '406' '442' '2750' '4698' '40' '748' '292' '952' '284'\n",
      " '270' '1346' '506' '422' '322' '642' '48' '714' '318' '54' '68' '156'\n",
      " '70' '3702' '1654' '454' '1452' '76' '380' '72' '294' '382' '214' '328'\n",
      " '2276' '248' '680' '182' '160' '938' '390' '56' '814' '624' '1200' '1466'\n",
      " '148' '236' '744' '172' '1274' '836' '1582' '804' '2672' '470' '654'\n",
      " '794' '1372' '664' '484' '1468' '168' '110' '1912' '116' '524' '234'\n",
      " '1270' '310' '2468' '612' '228' '486' '246' '2600' '142' '1710' '478'\n",
      " '570' '96' '746' '90' '480' '3478' '538' '1292' '122' '344' '2572' '600'\n",
      " '468' '962' '540' '436' '826' '920' '302' '618' '614' '666' '2322' '2662'\n",
      " '152' '1420' '296' '366' '188' '488' '894' '1714' '572' '522' '702' '320'\n",
      " '208' '238' '500' '762' '542' '336' '446' '21050' '404' '698' '2702'\n",
      " '2306' '548' '1614' '864' '300' '438' '490' '482' '1520' '186' '304'\n",
      " '940' '132' '878' '1012' '376' '2218' '80' '8332' '260' '194' '566'\n",
      " '1852' '4520' '1026' '716' '340' '1860' '166' '1176' '784' '1116' '504'\n",
      " '174' '264' '430' '604' '1398' '2110' '288' '764' '412' '286' '602'\n",
      " '5386' '1412' '2048' '936' '730' '2370' '832' '250' '272' '464' '946'\n",
      " '626' '606' '362' '700']\n",
      "Unique values in column 'af_000': ['0' '10' '20' '172' 'na' '30' '2' '296' '452' '1384' '488' '4' '6' '3220'\n",
      " '1808' '538' '14' '12' '274' '78' '22' '330' '188' '160' '8' '746' '238'\n",
      " '64' '164' '362' '410' '24' '294' '198' '54' '834' '32' '2704' '324'\n",
      " '766' '206' '2706' '156' '250' '2430' '154' '252' '170' '358' '4768' '46'\n",
      " '1320' '1776' '680' '576' '114' '96' '98' '28' '44' '132' '876' '572'\n",
      " '332' '368' '514' '242' '104' '26' '404' '240' '178' '352' '394' '642'\n",
      " '930' '456' '620' '316' '614' '52' '808' '2240' '1970' '1082' '42' '1358'\n",
      " '244' '508' '120' '1290' '6506' '60' '304' '226' '558' '138' '212' '372'\n",
      " '2844' '484' '56' '266' '100' '184' '34' '190' '878' '350' '982' '292'\n",
      " '1002' '40' '86' '288' '216' '2648' '36' '48' '460' '256' '224' '298'\n",
      " '510' '424' '110' '1054' '18' '1440' '536' '732' '1042' '6236' '402'\n",
      " '136' '936' '272' '658' '752' '724' '11368' '444' '58' '134' '450' '720'\n",
      " '646' '5514' '814' '74' '870' '504' '310' '230' '1120' '306' '166' '666'\n",
      " '366' '474' '934' '1268' '356' '122' '1276' '150' '94' '146' '716' '92'\n",
      " '152' '612' '458' '108' '956' '566' '3832' '5256' '50' '174' '910' '874'\n",
      " '84' '390' '3790' '118' '1904' '644' '338' '210' '6234' '312' '88' '686'\n",
      " '502' '434' '76' '282' '158' '3056' '1156' '5814' '70' '176' '360' '16'\n",
      " '3828' '80' '578' '112' '476' '786' '276' '62' '1980' '68' '254' '82'\n",
      " '988' '430' '636' '1538' '1288' '382' '1386' '380' '260' '248' '940'\n",
      " '1470' '442' '106' '1244' '412' '698' '4238' '72' '8134' '142' '1746'\n",
      " '2716' '1094' '342' '392' '548' '1570' '204' '232' '1592' '220' '416'\n",
      " '38' '436' '5724' '1202' '676' '270' '1152' '800' '218' '518' '478'\n",
      " '1198' '1032' '1088' '770' '3124' '526' '5332' '278' '466' '340' '196'\n",
      " '4496' '2180' '182' '1724' '258' '326' '144' '192' '4256' '1102' '140'\n",
      " '148' '954' '208' '336' '13562' '1214' '802' '2234' '126' '1254' '654'\n",
      " '2154' '1718' '462' '1172' '1834' '590' '862' '690' '924' '726' '200'\n",
      " '426' '194' '202' '3504' '2440' '900' '3060' '740' '378' '348' '986'\n",
      " '116' '1426' '66' '2540' '1240' '228' '1986' '714' '2818' '4078' '634'\n",
      " '616' '2152' '20070' '7242' '214' '9040' '2544' '186' '1914' '3544' '722'\n",
      " '128' '932' '162' '912' '1096' '546' '788' '418' '2162' '756' '2380'\n",
      " '632' '694' '354' '962' '1130' '1424' '490' '858' '262' '1830' '130'\n",
      " '408' '550' '308' '2522' '960' '718' '284' '4654' '1372' '468' '1134'\n",
      " '102' '448' '180' '780' '2596' '4310' '828' '374' '1580' '540' '90' '464'\n",
      " '1486' '530' '574' '5476' '750' '840' '738' '302' '2070' '318' '2506'\n",
      " '286' '1352' '948' '564' '1578' '608' '11284' '1226' '494' '516' '2192'\n",
      " '1260' '2052' '1020' '328' '1056' '562' '496' '168' '762' '1526' '314'\n",
      " '8056' '346']\n",
      "Unique values in column 'ag_000': ['0' '3382' 'na' '776' '2' '4808' '12' '4372' '11912' '454' '13044'\n",
      " '16186' '29794' '876' '8' '34' '63896' '64' '3376892' '299736' '206336'\n",
      " '51610' '4436' '16' '242' '104' '16462' '21000' '7002' '30' '228'\n",
      " '850604' '170' '760' '28' '58096' '6' '268780' '1722' '7212' '8252'\n",
      " '1262' '19442' '4' '24' '3718' '223654' '306898' '246' '17706' '406'\n",
      " '15626' '14630' '96954' '69054' '544866' '1540' '17280' '32' '196' '326'\n",
      " '3272' '1170' '127544' '48' '62' '1354' '550' '443614' '22' '48820'\n",
      " '20614' '2664' '234' '316' '11486' '318' '22320' '998' '8870' '67966'\n",
      " '50066' '1266' '206' '510' '48020' '6772' '2088' '676' '44212' '10682'\n",
      " '26884' '156' '360' '136' '1994' '256' '58270' '60334' '26' '14' '15980'\n",
      " '2710' '35888' '6604' '124' '116' '1134' '82' '45862' '58806' '11184'\n",
      " '1314' '204' '193310' '848' '2982' '2514' '6554' '278514' '10318' '85016'\n",
      " '2076' '2530' '254' '798' '10952' '23256' '11218' '9012' '10226' '930'\n",
      " '10028' '66' '484' '552' '32584' '88' '8516' '25126' '2940' '884' '6732'\n",
      " '12162' '72' '55372' '27616' '2016' '3304' '10254' '10' '3950' '536290'\n",
      " '36' '49536']\n",
      "Unique values in column 'ag_001': ['0' '49536' 'na' '244' '281128' '8632' '50394' '1430' '14868' '1280' '2'\n",
      " '312' '215720' '140526' '15166' '34244' '6086' '2716' '12' '126' '66'\n",
      " '1094' '3564' '1342' '1566' '29190' '34934' '86114' '530916' '96944'\n",
      " '68084' '4538' '14450' '502' '34' '34864' '37656' '16532' '1752' '3268'\n",
      " '1152' '2348' '660' '448' '6138' '19702' '226226' '83006' '136' '4262'\n",
      " '304856' '402040' '12010' '18644' '21072' '22614' '10498' '321850'\n",
      " '53878' '24350' '186574' '4822' '98586' '2698' '4058' '75826' '4712' '26'\n",
      " '15148' '3430' '174' '60' '7824' '135062' '232' '26212' '221266' '582'\n",
      " '634' '6782' '115488' '68452' '15952' '732' '7762' '1218' '4686' '28762'\n",
      " '15592' '3642' '14' '1522' '21028' '290132' '187392' '1096' '7048' '64'\n",
      " '24' '40456' '1516' '428' '1586' '13986' '618212' '46562' '35414'\n",
      " '131050' '294' '3180' '146928' '1720' '115572' '186' '2612' '41162'\n",
      " '4372' '20788' '7162' '764' '66280' '2769256' '57752' '2188' '180' '1084'\n",
      " '8752' '67628' '1832' '4018' '44540' '928' '138' '303376' '61272' '2046'\n",
      " '151670' '700' '112' '26318' '684' '284296' '5414' '730' '11226' '36076'\n",
      " '15518' '772' '42' '298618' '3646' '236' '1906' '488' '26274' '2462'\n",
      " '4836' '109792' '2784' '1760' '3226' '22' '65738' '1796' '45008' '10682'\n",
      " '4306' '12052' '10928' '48358' '29542' '4109372' '7010' '2710' '2262'\n",
      " '2770' '34086' '5034' '1452' '59888' '215716' '27310' '4052' '19124'\n",
      " '742' '5734' '13952' '2752' '1992' '7482' '192868' '36214' '20' '65852'\n",
      " '65784' '377346' '7884' '1380' '145610' '304' '7244' '36' '1593830'\n",
      " '43528' '31162' '1479684' '22648' '3708310' '272' '1748' '223936' '3826'\n",
      " '3080' '61006' '32334' '2472' '1170' '30158' '5128' '614' '482' '1574'\n",
      " '69872' '5084' '8182' '9264' '214658' '15994' '25116' '66888' '2894'\n",
      " '78462' '54' '2304' '542' '156' '116' '2364' '107846' '82896' '17998'\n",
      " '68380' '2830' '5892' '11664' '40' '436510' '26204' '166448' '472' '1338'\n",
      " '327564' '22062' '81826' '2442' '32' '14940' '92762' '788' '8956'\n",
      " '230012' '958' '3000' '996' '8214' '1990' '96250' '1782' '6648' '25680'\n",
      " '4964' '5974' '98290' '39756' '552' '1418' '164812' '115174' '22944'\n",
      " '199958' '118' '372780' '48' '389178' '20888' '1866' '485994' '2156' '4'\n",
      " '212' '660290' '3122' '8932' '1552538' '1450' '94' '1346' '8168' '59672'\n",
      " '12110' '36274' '2952' '9562' '398' '106464' '2948' '13736' '5456' '554'\n",
      " '153344' '109380' '1150462' '3640' '68' '57754' '37746' '3302' '57316'\n",
      " '54648' '184540' '51678' '4016' '62' '4824' '620' '148' '2898' '901168'\n",
      " '28054' '27154' '2182' '45660' '34028' '22116' '11084' '494' '932' '6286'\n",
      " '3626' '27958' '74936' '10762' '1204' '507738' '28876' '95956' '44522'\n",
      " '250' '3392' '8684' '2684' '44' '35240' '24778' '26122' '2992' '328'\n",
      " '1768' '1072' '47866' '50' '37478' '734' '110' '2146' '74764' '19842'\n",
      " '946' '12896' '67318' '1178' '2814' '22412' '1828' '506552' '9690' '142'\n",
      " '92000' '1474' '1036' '28' '306' '15912' '10' '166' '67254' '970' '10142'\n",
      " '382' '24828' '292' '27270' '476' '146' '23512' '1467566' '8' '1810'\n",
      " '2774' '3808' '7784' '2920' '777614' '228998' '11264' '8450' '21560'\n",
      " '2436' '24280' '3330' '2020' '12082' '396' '290' '698' '58' '12792'\n",
      " '83780' '586' '18800' '158' '252' '60306' '1910' '98' '490' '300930'\n",
      " '1767874' '8930' '484922' '1702' '25336' '31224' '130512' '114' '21526'\n",
      " '994' '128084' '2494' '57888' '39608' '90626' '9806' '53196' '62204'\n",
      " '250882' '15856' '175454' '3726' '1746010' '156184' '2252' '51414' '5618'\n",
      " '53872' '4664' '7186' '394' '2768' '986' '1909708' '646' '154' '2804'\n",
      " '201024' '35124' '526' '501700' '2120' '16' '62664' '462' '5984' '74'\n",
      " '4846' '744' '3752' '350' '13692' '178' '1316' '9978' '49304' '30622'\n",
      " '23100' '6208' '160' '4004' '146780' '1080' '349148' '2858' '17618'\n",
      " '2934' '268250' '26958' '13696' '327990' '40584' '1932' '6912' '29638'\n",
      " '5716' '22674' '92' '46' '23838' '5842' '760' '207378' '14628' '172'\n",
      " '181792' '2700' '92514' '61762' '650' '24836' '2126' '36422' '93670'\n",
      " '78902' '94184' '38' '152' '464732' '9230' '204026' '918' '1332' '13726'\n",
      " '7640' '400' '11150' '30740' '276' '8406' '862' '21594' '170552' '2320'\n",
      " '1052912' '65556' '110060' '374' '52' '22672' '4978' '340' '182' '2270'\n",
      " '36232' '7732' '33910' '2134' '72' '16950' '4580' '662' '80' '229532'\n",
      " '14312' '898' '202386' '7572' '8898' '612' '30' '3176' '40440' '270656'\n",
      " '656' '1264' '12384' '104524' '191578' '1104' '2634' '1446' '13454'\n",
      " '15300' '103786' '7962' '40256' '11562' '6' '10084' '15466' '84' '376'\n",
      " '408' '314772' '14532' '36740' '9836' '15732' '150' '1876' '144668'\n",
      " '126768' '1938' '562' '53318' '5934' '1424' '938' '15726' '2152' '568'\n",
      " '10626' '5932' '41788' '1138' '571250' '80488' '38834' '44320' '267100']\n",
      "Unique values in column 'ag_002': ['0' '9744' '222' ... '17526' '9904' '5744']\n",
      "Unique values in column 'ag_003': ['0' '318' '11804' ... '8348' '9046' '18118']\n",
      "Unique values in column 'ag_004': ['37250' '18254' '1648' ... '43536' '32154' '59100']\n",
      "Unique values in column 'ag_005': ['1432864' '653294' '370592' ... '99186' '202498' '46284']\n",
      "Unique values in column 'ag_006': ['3664156' '1720800' '1883374' ... '36564' '3251010' '1901140']\n",
      "Unique values in column 'ag_007': ['1007684' '516724' '292936' ... '1968266' '2061456' '855376']\n",
      "Unique values in column 'ag_008': ['25896' '31642' '12016' ... '164972' '360436' '61744']\n",
      "Unique values in column 'ag_009': ['0' '660' '876' ... '5116' '29422' '59754']\n",
      "Unique values in column 'ah_000': ['2551696' '1393352' '1234132' ... '56982' '2634394' '1235850']\n",
      "Unique values in column 'ai_000': ['0' '14346' '3320' ... '13828' '8826' '12084']\n",
      "Unique values in column 'aj_000': ['0' '68' '226' '80' '64' '58' '32' '11548' '682' '992' '302' '70' '31432'\n",
      " 'na' '154' '230' '174' '42' '36' '60' '124' '86' '110' '106' '16650' '92'\n",
      " '468' '50' '2542' '122' '562' '46' '402' '24' '38' '26' '196' '42544'\n",
      " '2782' '40' '326' '62' '198' '28' '56' '108' '126' '426786' '164' '240'\n",
      " '216' '88' '84' '4' '48' '252' '286' '278' '420' '12830' '144' '180'\n",
      " '100' '66' '186' '134' '150' '78' '132' '204' '370' '44' '168' '208'\n",
      " '210' '8832' '102' '8' '4714' '94' '2206' '774' '34' '140' '318' '74'\n",
      " '104' '146' '260' '90' '270' '96' '316' '294' '195754' '224' '170' '12'\n",
      " '444' '242' '334' '18' '284' '16' '176' '156' '436' '54' '76' '292' '972'\n",
      " '274' '412' '200' '184' '136' '52' '118' '14' '128' '400' '232' '190'\n",
      " '72' '178' '324' '328' '27384' '82' '1734' '5030' '182' '152' '498' '222'\n",
      " '236' '492' '262' '1516' '206' '312' '116' '472' '348736' '220' '386'\n",
      " '488' '166' '354' '446' '586' '130' '138' '218' '862' '268' '246' '474'\n",
      " '338' '410' '288' '10' '524' '276' '422' '162' '670' '380' '214'\n",
      " '1782386' '786' '15488' '114' '172' '192' '120' '418' '142' '3856' '510'\n",
      " '15674' '20984' '484' '244' '564' '384' '314' '30' '880' '20' '360' '744'\n",
      " '330' '1288' '14640' '1400' '990' '502' '212' '254' '9956' '352' '628'\n",
      " '394' '368' '1594' '258' '3510' '336' '454' '112' '306' '358' '158' '448'\n",
      " '6340' '238' '356' '248' '582' '8964' '298' '478' '518' '310' '3410'\n",
      " '85292' '292088' '9876' '98' '910' '282' '148' '702902' '640' '350'\n",
      " '9802' '258682' '188' '1202' '408' '376' '426' '2384' '202' '266' '366'\n",
      " '6920' '532' '686' '22' '494' '51450' '322' '16196' '7758' '2' '160'\n",
      " '794' '1954' '526' '234' '290' '264' '194' '304' '228' '272' '1508'\n",
      " '23012' '1558' '256' '2304' '440' '900' '7484' '4814' '592' '390' '332'\n",
      " '35850' '406' '1302486' '428' '296' '918' '414' '344' '16326' '430' '782'\n",
      " '250' '2972' '5738' '952168' '4668' '280' '346' '868' '3206' '4584' '660'\n",
      " '538' '8144' '37514' '1000' '4262892' '728' '432' '340' '878' '416'\n",
      " '2212' '4862' '852' '7032' '382' '2040' '10022' '285522' '320' '17044'\n",
      " '648150' '438' '8740' '2350' '1720' '1624' '2436' '646' '300' '2184'\n",
      " '1908' '20512' '1330' '814184' '1008' '308' '21614' '374' '1534' '668'\n",
      " '684' '2642' '984' '19400' '4160' '348' '424' '4016' '113802' '590'\n",
      " '20320' '2136' '702' '12490' '69402' '8994' '696' '30806' '6500' '3278'\n",
      " '512' '6' '808' '760' '141196' '21848' '830' '450' '1876' '4626' '392'\n",
      " '63280' '4248' '1264' '1075942' '226294' '1590' '456' '486' '580' '4240'\n",
      " '6910' '13276' '241416' '368970' '364' '1222' '598' '1572' '954' '1084'\n",
      " '1038' '48620' '544' '2114' '7564' '566' '610' '1196' '1992' '806' '520'\n",
      " '528' '1118' '1662' '1670' '874' '96784' '1094' '848504' '14964' '480'\n",
      " '11860' '476' '146164' '1108' '2418' '1830' '548' '530' '3852' '21070'\n",
      " '20938' '1480' '14400' '986' '1026' '690' '362' '9400' '166318' '1382'\n",
      " '460' '3616' '2182' '7298' '1270' '8924' '9652' '632' '11178' '88794'\n",
      " '2646' '3830' '5014' '396' '388' '2580' '504' '4322' '4038' '12418'\n",
      " '107882' '1294' '742' '7462' '1120' '3020' '1462720' '372' '1140' '11814'\n",
      " '327082' '378' '2100' '3939268' '233436' '68024' '10752' '1682' '1354'\n",
      " '1132' '10384' '536334' '1892' '596' '3848' '982' '630' '1804' '1220'\n",
      " '1862' '812' '470' '816' '9948' '1700' '2916' '540' '692' '30634'\n",
      " '110778' '25528' '1018' '1532' '1542' '1944' '21458' '242936' '1432'\n",
      " '33530' '558' '606' '950' '3660' '42648' '1570' '5642' '552' '5318'\n",
      " '2444' '1318' '482' '514' '908' '150786' '534' '1974' '1048' '666' '5024'\n",
      " '522' '16438' '1412' '104642' '172626' '554' '2336' '576' '2004'\n",
      " '1763174' '860' '125456' '2456' '1172668' '6872' '64366' '1968' '106668'\n",
      " '10464' '1154' '2294' '550' '342' '1090' '5066' '6294' '6630' '602'\n",
      " '4734' '720' '19078' '822' '313006' '546' '1940' '1856' '464' '11592'\n",
      " '296596' '12870' '66282' '832' '5876' '46246' '2056' '996' '9586' '8382'\n",
      " '672' '462' '6474' '978' '14352' '998' '798' '826' '490' '404' '1648'\n",
      " '1114' '2164' '1266' '924' '398' '882' '662' '1284' '3036' '2150' '3834'\n",
      " '1882' '4046' '1148' '20434' '3008' '58860' '636' '594' '350812' '2968'\n",
      " '823030' '536264' '764' '8662' '2694' '23296' '1766' '1210' '6116'\n",
      " '92760' '1564' '2102' '12854' '1576' '790' '29170' '4308' '24822' '648'\n",
      " '154730' '15438' '3902' '207854' '181804' '28186' '3412' '1104' '1042'\n",
      " '8102' '3790' '20978' '3913164' '121162' '37010' '1490' '14100' '1316'\n",
      " '425440' '1273202' '10836' '966' '1828' '1376' '2378' '3448' '5612'\n",
      " '2637948' '930' '638' '2834' '2466' '536' '1676' '8576' '13020' '38814'\n",
      " '970' '756' '49400' '1898' '42530' '458' '1014' '49396' '4060' '1470'\n",
      " '2886' '1854' '6502' '7644' '770' '584' '17790' '20678' '588' '556'\n",
      " '2962' '2052' '18710' '1406' '69410' '9936' '958' '21870' '1394' '967140'\n",
      " '1052' '2034' '1306' '1778' '1320' '1186' '1012' '1474' '7384' '26224'\n",
      " '1300' '3814' '20970' '508' '614' '27956' '164368' '16630' '9116' '3536'\n",
      " '922' '974' '1548' '2162' '2898' '6788' '1986' '442' '1004' '642' '6484'\n",
      " '578' '1404' '1044' '466' '1816' '542' '1244' '119658' '33692' '788'\n",
      " '1146' '20924' '570' '57724' '8930' '856' '940' '18178' '5629340' '20840'\n",
      " '4942' '6396' '1364' '23016' '2712' '353924' '434' '6144' '5764' '506'\n",
      " '3926' '631608' '2722' '348984' '796' '2410' '1416' '1949154' '1162'\n",
      " '2128' '1486' '748' '6810' '5062' '452' '3136' '153824' '1378' '3526'\n",
      " '79784' '500' '1164' '89778' '276284' '10692' '12472' '734' '550714'\n",
      " '302496' '652' '86124' '4014' '870' '3160' '1606' '25396' '214026' '3166'\n",
      " '12440' '1198' '4406' '800' '7470' '916' '14130' '4022' '13138' '740'\n",
      " '1032' '516' '14510' '37328' '14208' '842' '496' '2960' '1988' '2680'\n",
      " '13844' '27240' '620' '55698' '634' '2670' '20024' '25738' '5626' '730'\n",
      " '4334' '560' '3158' '52370' '21798' '658' '513220' '3466' '1906' '712'\n",
      " '33158' '24116' '4310' '21976' '2884' '36308' '928' '1890' '2204' '6318'\n",
      " '3268' '249834' '968' '2488' '1190' '2222' '2026' '1066' '47174' '3854'\n",
      " '4364' '3244' '21864' '1482' '1640' '1040' '1680' '612' '644' '1086'\n",
      " '6650' '1388' '34310' '4422' '165486' '1189508' '4004' '2472' '11294'\n",
      " '716' '28614' '1462' '704' '1770' '894' '2474' '61288' '818' '29348'\n",
      " '574' '6594' '38688' '6864' '188606' '2416' '5580' '22454' '664' '1002'\n",
      " '2804' '14316' '3378' '6316' '46346' '7872' '706' '3614']\n",
      "Unique values in column 'ak_000': ['0' 'na' '34852' '2130' '65462' '1210968' '774' '598' '9152' '32476'\n",
      " '14944' '25446' '2394' '6850' '176' '1613576' '116' '866' '6500' '9774'\n",
      " '132' '530' '1946938' '504' '342' '596' '10444924' '792' '5388' '1794'\n",
      " '6712' '196744' '66' '1198' '402' '230100' '7200' '5967186' '976' '1796'\n",
      " '5594' '2006' '2132' '2840' '1196' '18324' '1166' '25070' '19654' '19070'\n",
      " '606' '8992' '1778' '1026' '2289762' '5952160' '357630' '1631184' '502'\n",
      " '296554' '3854' '480' '25480' '290' '98' '1194' '6882' '2390' '1568'\n",
      " '3562' '6538' '30834' '920820' '14392' '354' '3320' '14176' '2998'\n",
      " '11796' '484' '1134' '53478' '6722' '258' '1630588' '378' '1840' '5814'\n",
      " '10792' '19132' '1792' '6394' '1076' '2170' '16330' '6282' '5326' '2946'\n",
      " '2994' '4798' '592' '8594' '1394' '1968058' '54' '528' '12036' '834966'\n",
      " '14140' '4204' '858' '2988' '1996' '1828' '27604' '69236' '1241484' '594'\n",
      " '80' '24644' '3434' '1318' '142646' '462' '169918' '1192' '6458' '3312'\n",
      " '1316' '2408' '362' '7728' '5014' '8840' '104' '350' '14106' '9228'\n",
      " '9984' '2406' '6580' '62976' '1012' '7922' '3910' '9994' '316' '369438'\n",
      " '2834' '312' '1426' '5390' '54924' '2980' '4980' '2970' '6586' '20616'\n",
      " '31692' '4976']\n",
      "Unique values in column 'al_000': ['0' '642' '29384' ... '179806' '8546' '11764']\n",
      "Unique values in column 'am_0': ['0' '3894' '46356' ... '3346' '7038' '15034']\n",
      "Unique values in column 'an_000': ['4933296' '2560898' '2371990' ... '123604' '4543410' '2502090']\n",
      "Unique values in column 'ao_000': ['3655166' '2127150' '2173634' ... '108768' '3227856' '2109168']\n",
      "Unique values in column 'ap_000': ['1766008' '1084598' '300796' ... '24020' '1615634' '573660']\n",
      "Unique values in column 'aq_000': ['1132040' '338544' '153698' ... '776370' '1214970' '334864']\n",
      "Unique values in column 'ar_000': ['0' '2' 'na' '6' '4' '10' '26' '8' '24' '38' '12' '20' '40' '18' '14'\n",
      " '16' '50' '42' '44' '28' '64' '60' '22' '114' '128' '30' '100' '36' '74'\n",
      " '82' '120' '52' '48' '32' '66' '88' '84' '80' '62' '350' '46' '54' '34'\n",
      " '150' '184' '76' '98' '156' '86' '178' '104' '244' '222' '56' '72' '140'\n",
      " '124' '168' '190' '252' '78' '58' '218' '160' '122' '106' '92' '206' '70']\n",
      "Unique values in column 'as_000': ['0' 'na' '21748' '13752' '31518' '1655240' '1156' '6268' '113724'\n",
      " '320346' '128844' '357260' '63712' '201306' '368184' '4' '693990'\n",
      " '1246190' '790' '489122' '1150508' '647060']\n",
      "Unique values in column 'at_000': ['0' '3850' '688' ... '26656' '5470' '57300']\n",
      "Unique values in column 'au_000': ['0' 'na' '4030' '19670' '9648' '18198' '37936' '6132' '76044' '5988'\n",
      " '793618' '1134798' '2376' '466' '139982' '96986' '42176' '292312' '2698'\n",
      " '20738' '11112' '3784' '351304' '249166' '1654' '5444' '970' '2068'\n",
      " '26918' '2576' '866' '24242' '1094074' '26212' '588396' '10082' '219766'\n",
      " '1324' '1248' '804' '205016' '38998' '5590' '5488' '729144' '245306'\n",
      " '2134' '1299622' '265264' '12' '846' '748658' '97978' '2626676' '10292'\n",
      " '862024' '475950']\n",
      "Unique values in column 'av_000': ['1012' '0' '358' ... '7616' '12404' '4726']\n",
      "Unique values in column 'ax_000': ['268' '0' '110' ... '4886' '3994' '2510']\n",
      "Unique values in column 'ay_000': ['0' '2273870' 'na' '32604' '1769754' '31400' '30362' '31610' '37826'\n",
      " '190622' '28530' '29010' '31804' '36508' '30260' '25542' '36276' '31132'\n",
      " '31414' '66298' '36720' '25852' '34014' '29264' '8266008' '32730' '26762'\n",
      " '25034' '2547492' '2' '32330' '145724' '25500' '38180' '915090' '3108720'\n",
      " '26122' '28492' '35602' '30406' '38906' '38918' '28' '27198' '40122'\n",
      " '34092' '35710' '33606' '27784' '31670' '26268' '40552' '37514' '2724844'\n",
      " '31838' '4013830' '26442' '36800' '53224' '30824' '1014962' '35654'\n",
      " '28374' '35566' '33434' '34332' '24420' '36262' '162344' '351560' '24176'\n",
      " '1186980' '27924' '533476' '25592' '26904' '40318' '29705862' '17791214'\n",
      " '30266' '184' '48162' '1400696' '11402778' '4181384' '56984' '23547578'\n",
      " '30934' '288166' '28722' '36498' '30850' '66464' '281840' '39070' '25270'\n",
      " '34930' '31330' '32972' '1522468' '32006' '31574' '12824760' '28998'\n",
      " '3525444' '29648' '28246' '35618' '40996' '36540' '30574' '35736' '38054'\n",
      " '32332' '56' '28802' '42516' '180266' '837840' '39622' '218292' '28566'\n",
      " '36218' '52524' '11486866' '41226' '36044' '39480' '24630' '28652'\n",
      " '35862' '8' '33724' '52860' '36398' '433794' '35630' '32904' '24728'\n",
      " '36266' '30252' '34254' '30566' '65718' '16' '32612' '35702' '16823408'\n",
      " '42204' '33346' '27288' '38232' '33986' '12321184' '27852' '30138'\n",
      " '28350' '31864' '337276' '23576' '33386' '160230' '40712' '61508'\n",
      " '313944' '640' '33046' '29064' '21984722' '29804' '30674' '14066566'\n",
      " '32308' '44680' '29562' '34876' '25290436' '462934' '86836' '27490'\n",
      " '9845188' '36290' '10594' '402048' '40676' '7767574' '30080' '54904'\n",
      " '33074' '10520240' '52982' '2271856' '31100' '4058584' '40584' '301986'\n",
      " '36480' '29412' '34226' '30902' '50553892' '12' '8968502' '30146' '29360'\n",
      " '35092' '34754' '27656' '58258' '33498' '5402886' '115650' '16161124'\n",
      " '66956' '1289692' '24796' '35264' '24374' '33712' '1159254' '29996'\n",
      " '33304' '35836' '1007146' '63660' '36494' '35188' '26754' '38966' '35814'\n",
      " '35306' '79434' '6023866' '42004' '34788' '31224' '69474' '38428' '32202'\n",
      " '1847792' '184524' '29640' '3146168' '35590' '29128' '36906' '64604'\n",
      " '335146' '32598' '33258' '36672' '37476' '32848' '34868' '37362' '33078'\n",
      " '37298' '35866' '26074' '35592' '34832' '37930' '37130' '36074' '33120'\n",
      " '13746816' '1508708' '38958' '29830' '28404' '33882' '1730454' '31890'\n",
      " '29940' '37352' '32500' '32700' '983666' '28760' '197112' '6248502'\n",
      " '32366' '39800' '36756' '72086' '31536' '28260' '1467302' '5053612'\n",
      " '35586' '39156' '42800' '31458' '31936' '36610' '27460' '34632' '32720'\n",
      " '4927288' '95044' '27252' '137508' '24840' '1377934' '67088' '36296'\n",
      " '488746' '37318' '29920' '26138' '52424' '16333828' '29612' '34636'\n",
      " '33960' '102450' '32316' '500486' '44352' '57538' '1637392' '33560'\n",
      " '46174' '27636' '101824' '27368' '34506' '9881942' '29584' '2541524'\n",
      " '1917856' '16634088' '29952' '232268' '3886870' '42370' '31558' '181520'\n",
      " '39326' '34964' '36360' '60042' '53920' '28912' '25776' '2172988' '31254'\n",
      " '33948' '28186' '303198' '35850' '35952' '38258' '29956' '6704412'\n",
      " '12979758' '20' '894292' '26214' '31064' '31812' '32234' '38030' '81850'\n",
      " '27516' '37376' '35722' '140210' '31776' '34924' '33190' '8902548'\n",
      " '28984' '10682026' '4' '28700' '28396' '1773988' '953702' '32786' '32912'\n",
      " '63002' '23912' '49272' '31150' '476142' '34500' '28590' '30768' '26760'\n",
      " '26172' '3386158' '929136' '23778' '42092' '818204' '33400' '33568'\n",
      " '34406' '90' '41010' '29628' '39132' '28604' '30478' '27772' '35440'\n",
      " '646724' '29368' '31008' '5230590' '1728488' '934780' '34073614' '33548'\n",
      " '35096' '642438' '64272' '37208' '57498' '31066' '32014' '52' '62234'\n",
      " '22403604' '34306' '397782' '30446' '72314' '33822' '39100' '30776'\n",
      " '34064' '1953250' '15526166' '34614' '858484' '304252' '25784' '41350'\n",
      " '7539242' '35824' '24368' '36354' '226672' '58024' '14258500' '35998'\n",
      " '27678' '40598' '35126' '29048' '34752' '47032' '33416' '65854' '936838'\n",
      " '29548' '29298' '144048' '40922' '32658' '42922' '30963874' '358042'\n",
      " '34616' '3245994']\n",
      "Unique values in column 'ay_001': ['0' '2608460' 'na' '1170' '852' '13666' '740312' '13956' '1010' '1802'\n",
      " '15670' '3156' '1108' '12356' '13724' '263410' '12196' '2642' '2826'\n",
      " '11622' '16834' '818' '19760' '15944' '3848' '6194' '11792' '14936' '562'\n",
      " '512' '2650' '8968' '11834' '4292' '1160' '13296' '384076' '14468' '446'\n",
      " '12578' '15036' '4824' '2758' '454' '1152' '13556' '416460' '948' '24950'\n",
      " '13768' '2856' '1408' '14690' '14252' '298' '680' '644' '38618' '367950'\n",
      " '1738' '10298' '14050' '143660' '13708' '142' '8216' '14496' '104806'\n",
      " '19792' '5056' '2446' '1664' '1531114' '1176' '14170' '12116' '4262'\n",
      " '3122' '12626' '6108' '17034' '15962' '15530' '1274' '12768' '934' '216'\n",
      " '19794' '13710' '4776' '14350' '920' '15888' '1210' '1230' '14344'\n",
      " '16440' '12724' '16326' '11008' '902' '1260' '628' '14964' '16674' '1822'\n",
      " '306110' '1074' '6360' '15462' '2716' '1004' '10228' '790248' '13778'\n",
      " '1324' '1388' '19042' '1216' '3482' '17240' '14' '4156' '14408' '3476'\n",
      " '85024' '2662' '28960' '136' '12796' '1452' '12642' '16892' '5646'\n",
      " '16956' '15998' '760' '14470' '6998' '124292' '938' '214754' '4788' '996'\n",
      " '14100' '2532' '604010' '16198' '88116' '1268' '43312' '14010' '13050'\n",
      " '22578' '1188' '17576' '19058' '7994' '1854' '10707828' '4300632' '14512'\n",
      " '910' '6946' '1758' '228' '2404' '24414' '480' '4459994' '2064' '1086'\n",
      " '4518794' '9151914' '5950' '3560' '1358' '824' '9562' '27120' '6209874'\n",
      " '12952' '16734' '2470' '834' '1486' '14064' '16828' '376' '16112' '100'\n",
      " '14934' '1098' '321176' '11750' '19678' '1474' '13976' '16216' '1610'\n",
      " '14232' '779740' '2982' '1564' '23376' '3870' '1806' '12042' '630774'\n",
      " '7886' '13072' '2434' '2818' '28726' '1016' '18284' '14366' '2206' '1338'\n",
      " '1224' '468' '202' '13716' '422' '5064' '20196' '1112' '2410' '14684'\n",
      " '4058' '1604' '13402' '1072' '15698' '728' '2406' '17626' '16094' '26488'\n",
      " '159078' '1270' '4864' '4122' '990' '12154' '2214' '784' '21800' '956252'\n",
      " '2974' '238882' '16732' '12414' '1756' '13064' '18646' '354' '64' '13530'\n",
      " '6424086' '17310' '646' '1068' '15328' '16000' '13252' '13314' '14022'\n",
      " '14620' '11156' '1308' '340' '17000' '420' '2936750' '26' '2426' '262'\n",
      " '5488' '14162' '14566' '1030' '69934' '966' '2612' '14526' '1032' '38062'\n",
      " '924' '15326' '11644' '3952' '12992' '17522' '2932' '6266' '14138'\n",
      " '25062' '338' '10592' '3042' '3502' '80525378' '14352' '9361736' '14730'\n",
      " '12592' '3710' '8282' '294' '3240' '15182' '28702' '380' '1368' '1034'\n",
      " '21428' '664' '1422' '16650' '13846' '10852718' '13360' '17060' '862'\n",
      " '13876' '12486' '12916' '44290' '1518400' '59660' '12358' '164' '1426'\n",
      " '2706' '1266' '1012' '17314' '4128' '13826' '1038' '15752' '1868' '7544'\n",
      " '19862' '1862' '356956' '822' '14866' '1046' '5222' '12036' '1696'\n",
      " '3287490' '13310' '3064' '2770' '13388' '1568' '2154932' '8792' '1344'\n",
      " '18938' '1372' '13966' '12268' '5672' '15486' '1384' '1192' '1444' '1790'\n",
      " '1365782' '31962' '14956' '1126' '12706' '1640' '9345184' '14840' '334'\n",
      " '204' '2146' '276508' '3019916' '2466' '13844' '2252' '17294' '16746'\n",
      " '1570' '45681214' '14280' '3773410' '7422' '13330' '434' '25760' '770'\n",
      " '17568' '2220048' '9524' '16542' '940' '1088' '10118' '11850' '3374'\n",
      " '16684' '14036' '1318' '1090' '26862750' '26810' '942' '4123250' '398'\n",
      " '3434' '13298' '1166' '926' '16' '1232' '14120' '1052' '336' '15412'\n",
      " '2736' '14712' '12990' '15770' '14006' '2166' '1360' '1864' '548' '3206'\n",
      " '6943530' '96658' '5304644' '49624' '237882' '1150' '15928' '13152'\n",
      " '14778' '14150' '16392' '26062' '13628' '16018' '15044' '1534' '2823448'\n",
      " '28754' '17478' '13000' '326' '4388' '16048' '798' '12212' '16878'\n",
      " '14488' '6350' '586' '4024' '1672' '14924' '33472' '2697756' '13926'\n",
      " '4794' '2842' '9654' '792' '1654' '230' '14894' '16492' '31130' '17908'\n",
      " '14330' '3293372' '310072' '1484' '1302' '17160' '1600886' '14498'\n",
      " '13130' '5468' '6834' '756' '774' '872' '60' '922' '200' '1480' '290'\n",
      " '1958' '17526' '1818' '1148' '16100' '304904' '1222' '17610' '38984'\n",
      " '14776' '16020' '10020' '958' '16858' '13736' '13544' '16996' '496'\n",
      " '1006' '1692' '13938' '568' '1354' '19498' '19232' '619436' '894' '15242'\n",
      " '19880' '19274' '16926' '14524' '16138' '2074398' '1064' '3174580' '3132'\n",
      " '26206' '18042' '12316' '984' '18830' '4480' '1040' '6216424' '1336'\n",
      " '13218' '3756' '16438' '12506' '18' '1376' '1300' '16362' '17552' '15774'\n",
      " '278' '2247336' '6024' '15160' '832' '232' '6' '1524' '902716' '1372464'\n",
      " '17386' '1630' '3148' '1680' '2212' '1214' '15882' '16232' '17298448'\n",
      " '2060' '16130' '13210' '14786' '6600' '4894' '860' '1542' '788' '6152'\n",
      " '82054' '730460' '992' '14932' '1076' '1162' '1140' '1280' '10128' '1782'\n",
      " '18896' '4318' '15370' '1084' '12412' '12986' '15320' '15506' '14986'\n",
      " '248' '16536' '2468' '1102' '4404742' '14782' '1080' '2020' '11540'\n",
      " '176754' '12918' '40382' '13052' '15592' '1190' '880850' '20910' '12330'\n",
      " '24084' '14118' '616' '2671328' '16548' '15198' '8500' '14116' '1056'\n",
      " '2696' '352' '4676' '49934' '30226' '1925584' '5800' '1078590' '6744'\n",
      " '6858' '14514' '2218' '2676' '1764' '3528' '18528' '1364' '12182' '1094'\n",
      " '16518' '13076' '14580' '10398316' '3700' '1226' '1418' '6588064' '3276'\n",
      " '772' '85508' '213496' '7650' '2566212' '15080' '18936' '13256' '187372'\n",
      " '58389562' '14334' '207852' '1322' '18336' '1114' '632' '15090' '1272'\n",
      " '16072' '17976' '27890' '66668' '1662' '762' '26272' '13324' '14618'\n",
      " '1036' '2506' '5649814' '13784' '896' '6036' '74' '17102' '16016' '870'\n",
      " '11102' '39364' '4434314' '9414' '1316' '782' '15356' '17736' '1060'\n",
      " '18570' '5338' '906' '18558' '20796' '2' '5807800' '11196' '936'\n",
      " '2091588' '1028' '19482' '7534436' '3592' '428' '1234' '15376' '14406'\n",
      " '123896' '14018' '2518' '29628' '17946' '388' '14494' '15980' '137212'\n",
      " '440' '17696' '15236' '15008' '1746' '914' '805152' '3962' '5494' '530'\n",
      " '13542' '19736' '2571700' '14284' '14444' '14506' '1670' '582' '2350'\n",
      " '3435460' '572' '165858' '14072' '238' '324' '13808' '4540' '23758' '930'\n",
      " '410' '14542' '16666' '4680' '12972' '15030' '988' '15918' '1558' '15808'\n",
      " '12006' '4192' '2582' '96' '11098' '13584' '38060' '16088' '326602'\n",
      " '8576' '13526' '22792080' '13578' '17784' '17178' '1512' '9302' '1024'\n",
      " '13030' '5010' '2618' '15584' '10' '13414' '1132' '14326' '8284' '928'\n",
      " '324090' '7822' '15082' '15562' '16368' '1506' '37460' '316' '9518'\n",
      " '16424' '303520' '293408' '196572' '516' '8043532' '949212' '1482'\n",
      " '15704' '5820' '1930' '1727266' '666' '606' '1106' '3598' '17252' '1808'\n",
      " '820' '19976' '27038' '12402' '9170' '1856' '13262' '882' '2054' '18452'\n",
      " '16700' '4300' '6472982' '3522' '137590' '26392' '1400' '208134' '2888'\n",
      " '13896' '20212' '15908' '1910' '1936' '16972' '508' '6410' '12808'\n",
      " '14384' '1585714' '729552' '744' '15954' '2110652' '700698' '14228'\n",
      " '8296' '18904' '6384396' '14648' '43842' '14584' '280174' '976' '4'\n",
      " '25546' '1430' '3636' '39585320' '1884' '1326' '17212' '718' '2422'\n",
      " '12018' '16340' '17350' '1398' '3344' '436' '15042' '15514' '13386' '626'\n",
      " '224026' '888' '14034' '13740' '107324' '15284' '12366' '890' '8862'\n",
      " '12968' '34692' '2504' '150' '1134' '3330' '642' '75704' '78738' '1194'\n",
      " '13448' '14772' '2032' '525276' '11238752' '937978' '19272' '12028'\n",
      " '443026' '1348']\n",
      "Unique values in column 'ay_002': ['0' '1424956' 'na' '5808' '4436' '10148' '476838' '9538' '8314' '4894'\n",
      " '8140' '24334' '4868' '9550' '9290' '38124' '6110' '9270' '13180' '18226'\n",
      " '9772' '7380' '4944' '22114' '8286' '20530' '7744' '7228' '11488' '26574'\n",
      " '8876' '43456' '8516' '13268' '4548' '7554' '723006' '10306' '4994'\n",
      " '6042' '9630' '42488' '5594' '56306' '4416' '8788' '537122' '4566'\n",
      " '44618' '1238696' '9584' '16876' '5998' '6376' '5906' '4642' '3688'\n",
      " '3820' '70484' '165338' '3964' '46248' '7968' '382496' '5822' '6738'\n",
      " '16754' '9898' '72994' '75838' '28176' '10222' '5272' '5948' '753414'\n",
      " '11198' '21559052' '44550' '24080' '6026' '8754' '58618' '9282' '10082'\n",
      " '10020' '7032' '64476' '4494' '6434' '9256' '5308' '7712' '28088' '10538'\n",
      " '3924' '9234' '5128' '4722' '10832' '24018690' '8534' '8486' '7716'\n",
      " '5450' '9192' '4404' '9946' '10602' '10780' '220996' '5964' '11246'\n",
      " '9720' '10846' '4630' '21586' '1363032' '6718' '4698' '8434' '26260220'\n",
      " '5882' '13132' '9734' '6886' '33396' '8706' '42368' '8650' '232156'\n",
      " '13852' '10280' '7802' '8688' '8624' '4774' '8000' '8892' '9034' '10596'\n",
      " '1886' '13082' '9336' '20786' '117824' '4354' '970906' '35162' '4506'\n",
      " '5954' '10460' '320522' '27498' '144850' '6942' '184976' '6196' '8284'\n",
      " '54000' '7376' '10164' '37048' '28768' '6046' '3100920' '1028542' '10340'\n",
      " '5496' '87734' '5508' '6206' '13494' '16616' '143262' '5340996' '7000'\n",
      " '11210' '4674' '4790318' '3996870' '3698' '24394' '4882' '4622' '38012'\n",
      " '17318' '228106' '8630' '10316' '7272' '5392' '8024' '12152' '3874'\n",
      " '7620' '11668' '4818' '500818' '16016' '12840' '5084' '22328' '9728'\n",
      " '8964' '5244' '9976' '995710' '14982' '5810' '8142' '9272' '17504' '7024'\n",
      " '8474' '1641496' '32380' '8234' '4150' '7774' '14776' '1304114' '5082'\n",
      " '8192' '8226' '11238' '4542' '5330' '5940' '4252' '16000' '9764' '4292'\n",
      " '22590' '10358' '4758' '11182' '16620' '10250' '4666' '9074' '4396'\n",
      " '10056' '6064' '12630' '9274' '10862' '157144' '613150' '4562' '25788'\n",
      " '15558' '4744' '9066' '5452' '5108' '13792' '1372508' '15074' '261098'\n",
      " '24884076' '9642' '8294' '9018' '5516' '69486' '10606' '4466056' '4330'\n",
      " '12636' '5804' '5242' '11540' '9574' '8088' '7470' '11064' '9796' '8772'\n",
      " '6056' '6810' '18465158' '4864' '1504626' '4632' '3912' '11296' '4834'\n",
      " '21788' '142700' '6644' '79422' '5944' '10432' '5468' '8784' '5560'\n",
      " '41778' '4872' '9888' '55922' '18166' '9250' '8470' '12084' '27238'\n",
      " '10026' '7750' '21572' '7012' '40006' '7766' '22498' '9842' '2447060'\n",
      " '9036' '34664' '6314' '16056' '10468' '137260' '7206' '7740' '4762'\n",
      " '391176' '4220' '5132' '6722' '11462' '9384' '8377142' '9254' '62894'\n",
      " '3828' '8670' '68712' '4084' '7542' '33362' '1947542' '50930' '9700'\n",
      " '5486' '11614' '3864' '37478' '8978' '7348' '4412' '14628' '9670' '6158'\n",
      " '32488' '11606' '5166' '433078' '14556' '4680' '4678' '10236' '23846'\n",
      " '9366' '14036' '3534898' '8990' '21978' '10080' '10388' '4662' '2186822'\n",
      " '45788' '4618' '7104' '8256' '9554' '4342' '8884' '27566' '10650' '8126'\n",
      " '4950' '5300' '1651270' '44966' '8862' '6808' '9188' '4829820' '10386'\n",
      " '5662' '4042' '24962' '152428' '12344' '2475192' '4526' '10396' '6410'\n",
      " '9378' '25089692' '6478' '2239166' '11282' '8959068' '38066' '7650'\n",
      " '9086' '17968' '4406' '11316' '45340' '4736' '47122' '12088' '12018'\n",
      " '10574' '41148' '7638' '9938' '7598' '8966' '4544' '5062' '13166220'\n",
      " '107656' '4664' '3440588' '5426' '13746' '9372' '4274' '3754' '5916'\n",
      " '7998' '5064' '8208' '5262' '4474' '7804' '11040' '14062' '10406' '10592'\n",
      " '8644' '7986' '10486' '6256' '4660' '8188' '6202' '4702' '2877750'\n",
      " '74008' '3797558' '24708' '53810' '514574' '5664' '17290' '4182'\n",
      " '26283758' '6878' '10552' '6328' '10284' '22082' '10518' '11808' '9964'\n",
      " '6964' '9738' '22622' '5446' '2789754' '18552' '50378' '17144' '9532'\n",
      " '19064' '29450' '10166' '5148' '7776' '3928' '5194' '9294' '9394' '11252'\n",
      " '5016' '24486' '7506' '12664' '26132' '2409848' '9754' '11654' '49940'\n",
      " '4706' '5216' '5566' '9882' '13312' '9190' '11172' '10666' '7062' '8950'\n",
      " '1224904' '152604' '6288' '8346' '7952' '1154048' '10048' '8852' '32360'\n",
      " '27672' '4886' '5134' '5074' '4690' '4110' '4966' '10794' '7218' '13424'\n",
      " '3298918' '5010' '8070' '388386' '5860' '7646' '101024' '9308' '12294'\n",
      " '43032' '4798' '4998' '9024' '9054' '9046' '11320' '6362' '3720' '6900'\n",
      " '11030' '4710' '5620' '8206' '15954488' '3982054' '5254' '10838' '5676'\n",
      " '5466' '7546' '9478' '18328788' '5146' '10626' '9994' '2268790' '5512'\n",
      " '369972' '11594' '7260' '10122' '4930' '63624' '9612' '5076' '8035866'\n",
      " '4268' '23764' '8614' '7976' '5354' '6204' '5032' '5988' '3860786'\n",
      " '10480' '7168' '8690' '5378' '323370' '10368' '6452' '4370' '5338' '4906'\n",
      " '1069486' '6978' '2516682' '8160' '6378' '17928' '5358' '7280' '17414'\n",
      " '12236' '8848' '136486' '11562' '14100' '8104' '27060' '15402' '4314'\n",
      " '7578' '26244' '7132' '313320' '378564' '3796' '10590' '6394' '7770'\n",
      " '6862' '9466' '8004' '17466' '5222' '10022' '7892' '11762' '9246' '9552'\n",
      " '24842' '9064' '10298' '7838' '10332' '6760' '9026' '13166' '1057322'\n",
      " '4336' '6500' '2372042' '4502' '5312' '5044' '10754' '92860' '7850'\n",
      " '80342' '8822' '10524' '5634' '148062' '1676' '10890' '144910' '9848'\n",
      " '4200' '1304844' '6612' '9448' '9958' '29212' '6286' '5748' '9940' '3940'\n",
      " '6856' '5746' '11478' '7808' '37286' '23818' '73076' '25302' '656394'\n",
      " '9060' '7182' '7516' '7316' '15598' '9142' '39314' '9044' '6112' '19970'\n",
      " '10886' '5430' '6552' '8728' '8440' '11280' '4734124' '15648' '4676'\n",
      " '28474838' '58998' '17078' '10096' '145818' '134490' '147654' '47830'\n",
      " '4696' '5628' '4776' '8678' '71614' '28846' '12944' '49876' '37376'\n",
      " '105596' '4104' '10604' '4044' '7042' '10304' '7044' '167204' '8238'\n",
      " '20792' '216496' '10156' '3638' '13644' '7830' '6996' '4466' '4430'\n",
      " '13038' '1442902' '26034002' '3846' '4160' '24640' '5470' '10822' '76264'\n",
      " '4598' '22730' '8888' '101724' '2110834' '15814' '4870' '3840' '11794'\n",
      " '24858670' '5992' '9040' '11066' '27168' '5688' '8504' '4780' '20274'\n",
      " '6658' '2370286' '4422' '79380' '4318' '7224182' '25101486' '5394' '4754'\n",
      " '7096' '392218' '17640' '6850' '5768' '3830' '7366' '8910' '12290'\n",
      " '56536' '22422' '6308' '4750' '11136' '25261684' '95704' '4836' '9344'\n",
      " '9260' '13404' '5008' '586386' '4634' '7574' '23988' '5130' '7866'\n",
      " '206582' '4150414' '5372' '8128' '3728' '12072' '9042' '6734' '15180'\n",
      " '15248' '5438' '2791842' '3910' '430244' '7878' '18862' '5762' '27872'\n",
      " '4890' '16068' '5110' '6002' '4520' '5208' '17612' '5814' '10094' '8442'\n",
      " '5582' '8600' '6470' '7964' '9832' '31456' '10448' '7200' '5930' '7886'\n",
      " '25532' '16134' '43816' '319496' '11888' '18088' '10362' '339380' '9906'\n",
      " '7418' '8922' '5186' '17386' '7622' '44048' '9062' '14064' '9804' '5464'\n",
      " '9224' '7244' '33032' '4188' '6430602' '4414' '35428' '37438' '7178'\n",
      " '8658' '4472' '64266' '15252' '5018' '49068' '617202' '213328' '1278284'\n",
      " '6800' '3945688' '98232' '7466' '10954' '92052' '81984' '6934' '1082466'\n",
      " '7126' '4600' '12824' '4338' '5286' '9854' '4190' '8942' '4832' '7906'\n",
      " '15452' '9556' '8686' '11854' '4510' '7264' '47390' '9122' '6442'\n",
      " '1032930' '9240' '64348' '9560' '18662' '7360' '150182' '8014' '3310'\n",
      " '25235280' '9390' '17614' '5150' '12278' '6294' '9900' '19198' '12048'\n",
      " '9634' '8934' '2613160' '2340258' '4734' '11152' '2415332' '799974'\n",
      " '6156' '24045160' '5386' '40108' '9962' '5041612' '22966' '27680'\n",
      " '26057560' '6030' '9986' '101784' '9530' '5542' '15456' '5432' '7374'\n",
      " '73800' '6634' '7328' '9934' '4280' '13460' '8068' '10680' '8616' '5532'\n",
      " '13296' '14790' '8320' '8554' '10760' '11344' '4532' '6106' '4000'\n",
      " '269848' '3946' '10134' '11146' '206264' '10616' '9470' '9166' '5618'\n",
      " '15976' '51668' '7592' '6134' '5636' '5000' '4322' '13612' '7978' '8804'\n",
      " '122572' '12022' '9176' '9486' '7224' '651328' '4104516' '267250' '49530'\n",
      " '8356' '145620' '8462' '6072']\n",
      "Unique values in column 'ay_003': ['0' '1607946' 'na' ... '14838' '651948' '5134']\n"
     ]
    },
    {
     "name": "stdout",
     "output_type": "stream",
     "text": [
      "Unique values in column 'ay_004': ['0' '42124' '15198' ... '1434' '3480' '13676']\n",
      "Unique values in column 'ay_005': ['469014' '71510' '0' ... '45114' '119742' '105702']\n",
      "Unique values in column 'ay_006': ['4239660' '772720' '870456' ... '99120' '4445146' '1433988']\n",
      "Unique values in column 'ay_007': ['703300' '1996924' '239798' ... '2542338' '1370596' '1205298']\n",
      "Unique values in column 'ay_008': ['755876' '99560' '1450312' ... '1928' '4705948' '127100']\n",
      "Unique values in column 'ay_009': ['0' 'na' '11548' '182060' '50400' '460' '93998' '2802' '55132' '10'\n",
      " '5866' '2' '13500' '268' '20' '103798' '17014' '52026' '194' '58064'\n",
      " '6494' '1914' '36' '76402' '18324' '752' '24258' '2504' '54' '101138'\n",
      " '19806' '86' '13232' '34' '8' '28730' '7002' '1072' '24734' '967378'\n",
      " '30676' '41510' '306772' '14374' '32438' '3086' '4860' '68078' '64528'\n",
      " '454' '13302' '119962' '11762' '9266' '268832' '199158' '4' '17002'\n",
      " '20892' '11026' '1744' '104922' '14396' '386034' '5498' '126' '1200'\n",
      " '131380' '27704' '293732' '2098' '7248' '60910' '8740' '194740' '798'\n",
      " '51218' '1066' '772934' '221026' '82810' '264' '231188' '140336' '98838'\n",
      " '154' '768' '213146' '31008' '6080' '56' '8058' '2890' '322' '11520'\n",
      " '7354' '96732' '532' '202' '16318' '356382' '132398' '10164' '762'\n",
      " '16782' '21920' '474' '3084' '114' '9302' '117094' '5292' '1324' '216'\n",
      " '59290' '94' '134' '1262' '2156' '172' '668' '211792' '554' '196' '71158'\n",
      " '866' '120' '5886' '84838' '326' '2516' '322414' '28720' '604' '702' '6'\n",
      " '31320' '44006' '136' '62830' '22' '237628' '68106' '9232' '44610' '7762'\n",
      " '150526' '1036' '1316' '430' '602698' '3772' '184' '58' '10994' '16'\n",
      " '19514' '36954' '1080' '354' '142254' '10348' '452692' '634' '12507682'\n",
      " '912' '54768' '602' '182' '1030' '4428' '28' '12' '46' '9876' '3536'\n",
      " '51676' '1062' '1698' '21150' '58202' '102' '50084' '24' '7504' '190'\n",
      " '127904' '9118' '4354' '12194' '199668' '778' '255034' '208296' '1128'\n",
      " '402' '680964' '427864' '228172' '3438' '84022' '11600' '2826' '21266'\n",
      " '26298' '33884' '470660' '19920' '29404' '646' '26' '4050' '1264'\n",
      " '495174' '828' '118' '275368' '68' '166' '4670' '1550' '7460' '78'\n",
      " '114960' '422' '716' '47348' '92460' '97960' '4076' '5614' '2804' '608'\n",
      " '7548' '80' '47478' '15008' '222' '226' '2226' '940' '24562' '792' '1682'\n",
      " '2190' '12464' '2594' '59378' '2868' '1554' '3444' '175430' '5510'\n",
      " '149578' '12050' '300434' '43126' '3392' '60306' '25746' '315232'\n",
      " '2956850' '934' '2534' '2390' '1056' '127018' '6350' '1190' '1548' '3678'\n",
      " '3206' '34520' '16130' '52796' '406' '38226' '31898' '123752' '8218'\n",
      " '8464' '3104' '34704' '43070' '289708' '252520' '1806' '48' '14' '158470'\n",
      " '2400' '90' '240' '37230' '594' '73920' '10812' '1122' '118910' '164148'\n",
      " '396' '99882' '486' '163694' '27098' '1898' '1608' '67144' '4170' '380'\n",
      " '274' '1894' '3164' '6378' '290610' '12826' '38500' '506' '654' '9278'\n",
      " '3792' '3156' '84' '14766' '2710' '52' '28964' '241024' '660' '273060'\n",
      " '240212' '27012' '14200' '2906' '76108' '370' '16392' '1090' '512' '2948'\n",
      " '104612' '4322' '42' '4220' '618' '4480' '52132' '92844' '228' '15266'\n",
      " '4054' '2674' '5552' '158' '67286' '352172' '302' '7422' '1378' '394026'\n",
      " '270' '209854' '48540' '3336' '39228' '140008' '244' '19074' '9596'\n",
      " '1328' '246082' '600' '3076' '36896' '2356' '8194' '250122' '5882' '1094'\n",
      " '9014' '42296' '208' '22746' '19344' '58376' '6802' '66' '860' '25258'\n",
      " '193894' '593968' '188254' '1116' '29586' '43164' '1740' '1018' '8566'\n",
      " '83240' '290' '540646' '46244' '102630' '258' '3142130' '156484' '2428'\n",
      " '1956' '28188' '26358' '4252' '9430' '39982' '345734' '1450' '208626'\n",
      " '4998' '9700' '2622' '234' '17164' '8606' '332' '2940' '2732' '18824656'\n",
      " '3196' '99484' '18182' '2556' '124' '147098' '40692' '2966' '256' '15466'\n",
      " '21896' '4108' '1572' '1398' '2048' '128510' '120884' '9026' '418' '7754'\n",
      " '358' '5699098']\n",
      "Unique values in column 'az_000': ['5374' '7336' '1620' ... '46072' '12392' '26542']\n",
      "Unique values in column 'az_001': ['2108' '7808' '1156' ... '48320' '17088' '23240']\n",
      "Unique values in column 'az_002': ['4114' '13776' '1228' ... '4980' '16248' '28178']\n",
      "Unique values in column 'az_003': ['12348' '13086' '34250' ... '82224' '18848' '219406']\n",
      "Unique values in column 'az_004': ['615248' '1010074' '1811606' ... '60160' '940376' '2115972']\n",
      "Unique values in column 'az_005': ['5526276' '1873902' '710672' ... '134204' '4970242' '527578']\n",
      "Unique values in column 'az_006': ['2378' '14726' '34' ... '66520' '42146' '43278']\n",
      "Unique values in column 'az_007': ['4' '6' '0' ... '2888' '104482' '304440']\n",
      "Unique values in column 'az_008': ['0' '4' '8' ... '10996' '3292' '11916']\n",
      "Unique values in column 'az_009': ['0' '2' '4' 'na' '28' '952' '10' '666148' '1532' '18' '26' '1118' '320'\n",
      " '14' '24' '20' '914' '44' '34' '1056' '6' '3612' '72' '2084' '1290' '8'\n",
      " '40' '256294' '1174' '1442' '1098' '36' '82' '42' '1130' '1002' '25174'\n",
      " '1372' '1036' '2064' '370' '114' '1448' '16' '22' '312' '1466' '5654'\n",
      " '1332' '12' '86' '1148' '54' '1254' '62' '38' '1670' '146' '2802' '1178'\n",
      " '3796' '1200' '1194' '1894' '70' '996' '68' '1092' '30' '5050' '252' '64'\n",
      " '1494' '1736' '78' '104' '116' '24814' '148' '1266' '2974' '16774' '2058'\n",
      " '1170' '988' '1026' '1152' '2852' '1328' '1172' '1232' '80' '134' '902'\n",
      " '32' '854' '12178' '504' '1078' '37782' '400' '9688' '750' '428' '106'\n",
      " '1124' '240' '92' '1214' '1224' '1388' '1208' '380' '66' '76' '396'\n",
      " '1244' '94' '1346' '144' '1678' '724' '410' '328' '12852' '1298' '6750'\n",
      " '164' '692' '170' '1260' '5952' '98' '15678' '2278' '802' '632' '948'\n",
      " '506' '260' '52' '1220' '1348' '1308' '1168' '1658' '2596' '90' '1350'\n",
      " '1042' '1548' '120' '118' '128' '1912' '2696' '50' '232' '1058' '426'\n",
      " '126' '7764' '10328' '2228' '178' '46' '224' '1108' '1624' '48' '1382'\n",
      " '202' '1398' '242' '520' '1216' '188' '1570' '1052' '1454' '1424' '1024'\n",
      " '704' '570' '1924' '6684' '708' '878' '1296' '296' '1278' '1102' '88'\n",
      " '1096' '1378' '324' '222' '2934' '444' '1022' '1132' '1394' '60' '654'\n",
      " '1292' '1458' '180' '2410' '1276' '2446' '3270' '480' '160' '1068' '1842'\n",
      " '110' '112' '2194' '358' '1700' '8282' '23076' '1612' '1482' '125288'\n",
      " '1366' '1676' '1788' '18526' '58' '1336' '786' '31632' '1048' '1540'\n",
      " '172' '250' '1180' '1428' '5452' '1354' '1106' '276' '1434' '100' '970'\n",
      " '5794' '1858' '434' '1198' '1446' '1850' '1706' '418' '1384' '1680' '956'\n",
      " '1674' '864' '1154' '16468' '1114' '364' '7618' '11336' '1176' '1406'\n",
      " '6008' '84' '1478' '1450' '1034' '470' '2006' '1404' '138' '153712'\n",
      " '17088' '13628' '1282' '1294' '5752' '1072' '330' '1326' '1572' '560'\n",
      " '1522' '1608' '1558' '1738' '922' '74' '2630' '16550' '862' '184' '974'\n",
      " '1930' '1360' '940' '136' '6584' '2080' '2370' '584' '1228' '1422' '2718'\n",
      " '24418' '1432' '3348' '230' '220' '1692' '1698' '16814' '1246' '1888'\n",
      " '7174' '2636' '122' '1250' '1314' '1654' '55516' '1028' '1300' '722'\n",
      " '898' '1882' '1582' '446' '1368' '15154' '9092' '1408']\n",
      "Unique values in column 'ba_000': ['2328746' '1378576' '790690' ... '44228' '2154166' '1035916']\n",
      "Unique values in column 'ba_001': ['1022304' '447166' '672026' ... '2124728' '1022460' '485312']\n",
      "Unique values in column 'ba_002': ['415432' '199512' '332340' ... '17376' '385878' '271670']\n",
      "Unique values in column 'ba_003': ['287230' '154298' '254892' ... '8610' '287818' '244150']\n",
      "Unique values in column 'ba_004': ['310246' '137280' '189596' ... '157234' '580332' '2990']\n",
      "Unique values in column 'ba_005': ['681504' '138668' '135758' ... '168460' '270232' '151218']\n",
      "Unique values in column 'ba_006': ['1118814' '165908' '103552' ... '496786' '552874' '224530']\n",
      "Unique values in column 'ba_007': ['3574' '229652' '81666' ... '1264596' '1027168' '191788']\n",
      "Unique values in column 'ba_008': ['0' '87082' '46' ... '2420' '11664' '5214']\n",
      "Unique values in column 'ba_009': ['0' '4708' '34' ... '640368' '351596' '206532']\n",
      "Unique values in column 'bb_000': ['6700214' '3646660' '2673338' ... '10845228' '6159728' '3076406']\n",
      "Unique values in column 'bc_000': ['0' '86' '128' ... '23994' '8776' '6112']\n",
      "Unique values in column 'bd_000': ['10' '454' '202' ... '24044' '3356' '3090']\n",
      "Unique values in column 'be_000': ['108' '364' '576' ... '14356' '5002' '10334']\n",
      "Unique values in column 'bf_000': ['50' '350' '4' ... '1276' '2254' '1016']\n",
      "Unique values in column 'bg_000': ['2551696' '1393352' '1234132' ... '56982' '2634394' '1235850']\n",
      "Unique values in column 'bh_000': ['97518' '49028' '28804' ... '41812' '129760' '105862']\n",
      "Unique values in column 'bi_000': ['947550' '688314' '160176' ... '14404' '580084' '310028']\n",
      "Unique values in column 'bj_000': ['799478' '392208' '139730' ... '678792' '1032454' '260378']\n",
      "Unique values in column 'bk_000': ['330760' '341420' '137160' ... '313640' '286840' '302700']\n",
      "Unique values in column 'bl_000': ['353400' '359780' '130640' ... '103720' '201640' '332300']\n",
      "Unique values in column 'bm_000': ['299160' '366560' 'na' ... '110600' '268140' '308960']\n",
      "Unique values in column 'bn_000': ['305200' 'na' '214900' ... '203980' '245580' '282140']\n",
      "Unique values in column 'bo_000': ['283680' 'na' '258980' ... '275400' '480320' '362360']\n",
      "Unique values in column 'bp_000': ['na' '211420' '259600' ... '240500' '549220' '212500']\n",
      "Unique values in column 'bq_000': ['na' '265720' '1310700' ... '214920' '454840' '151980']\n",
      "Unique values in column 'br_000': ['na' '309020' '1310700' ... '232120' '453360' '458080']\n",
      "Unique values in column 'bs_000': ['178540' '6700' '28000' ... '200800' '113020' '247880']\n",
      "Unique values in column 'bt_000': ['76698.08' '33057.51' '41040.08' ... '2285.92' '80292.76' '40221.06']\n",
      "Unique values in column 'bu_000': ['6700214' '3646660' '2673338' ... '10845228' '6159728' '3076406']\n",
      "Unique values in column 'bv_000': ['6700214' '3646660' '2673338' ... '10845228' '6159728' '3076406']\n",
      "Unique values in column 'bx_000': ['6599892' '3582034' '2678534' ... '44562' '6092764' '3075902']\n",
      "Unique values in column 'by_000': ['43566' '17733.0' '15439.0' ... '71618' '50665.0' '20954']\n",
      "Unique values in column 'bz_000': ['68656' '260120' '7466' ... '24312' '64462' '102012']\n",
      "Unique values in column 'ca_000': ['54064' '115626' '22436' ... '44518' '108200' '61016']\n",
      "Unique values in column 'cb_000': ['638360' '6900' '248240' ... '1156680' '208980' '103140']\n",
      "Unique values in column 'cc_000': ['6167850' '2942850' '2560566' ... '135982' '5935484' '2872088']\n",
      "Unique values in column 'cd_000': ['1209600' 'na']\n",
      "Unique values in column 'ce_000': ['246244' '0' '63328' ... '243498' '240008' '85760']\n",
      "Unique values in column 'cf_000': ['2' 'na' '0' '8' '62' '4' '230' '200' '196' '12' '36' '262' '16' '30' '6'\n",
      " '24' '162' '70' '56' '260' '548' '282' '504' '28' '2520' '1950' '22'\n",
      " '11672' '44' '654' '68' '204' '10' '48' '14' '50' '1238' '226' '190' '82'\n",
      " '304' '640' '20' '270' '8594' '18' '102' '60' '160' '532' '412' '298'\n",
      " '208' '144' '50800' '42' '1098' '198' '58' '2250' '706' '174' '32' '960'\n",
      " '348' '344' '1316' '34' '310' '40' '346' '320' '694' '744' '1066' '188'\n",
      " '126' '790' '122' '1616' '9504' '256' '100' '992' '272' '340' '146' '444'\n",
      " '8642' '150' '620' '358' '602' '192' '318' '4076' '80' '1912' '212'\n",
      " '1116' '26' '106' '9104' '416' '128' '1024' '142' '904' '98' '332' '574'\n",
      " '86' '342' '2366' '624' '194' '520' '1046' '76' '1742' '436' '392' '510'\n",
      " '2282' '248' '176' '486' '52' '152' '842' '2390' '5370' '612' '2908'\n",
      " '400' '2132' '38' '172' '15666' '39800' '1204' '220' '1172' '92' '1152'\n",
      " '280' '494' '720' '300' '2436' '110' '380' '838' '1268' '90' '222' '616'\n",
      " '264' '1820' '78' '372' '384' '240' '96' '798' '3418' '10206' '112' '134'\n",
      " '1044' '11010' '418' '302' '414' '54' '420' '4268' '1070' '2078' '3162'\n",
      " '880' '124' '236' '210' '446' '354' '666' '3412' '1936' '1598' '276'\n",
      " '180' '278' '524' '1078' '674' '64' '944' '900' '530' '72' '104' '322'\n",
      " '876' '84' '132' '840' '1846' '488' '5634' '4916' '1708' '626' '294'\n",
      " '374' '1314' '120' '1744' '1036' '2812' '16774' '268' '766' '1614' '3546'\n",
      " '156' '286' '16512' '118' '2384' '334' '3166' '396' '522' '772' '46'\n",
      " '250' '2886' '94' '794' '556' '88' '292' '1038' '116' '1506' '114' '3310'\n",
      " '252' '6464' '288' '158' '912' '2760' '1518' '1584' '5942' '750' '186'\n",
      " '3110' '182' '4784' '1332' '856' '684' '206' '330' '10076' '500' '1926'\n",
      " '3306' '448' '168' '74' '218' '836' '238' '1294' '7324' '422' '140934'\n",
      " '232' '15904' '664' '472' '1130' '502' '1458' '508' '700' '6792' '3600'\n",
      " '1396' '576' '730' '618' '12466' '462' '614' '108' '554' '258' '214'\n",
      " '336' '5238' '20304' '11884' '894' '1124' '1970' '308' '234' '764' '1168'\n",
      " '4316' '4864' '982' '5618' '1374' '130' '12862' '312' '622' '338' '1368'\n",
      " '596' '31218' '2486' '550' '394' '610' '3290' '6692' '170' '668' '154'\n",
      " '164' '202' '878' '2114' '246' '166' '3044' '1134' '820' '2238' '792'\n",
      " '428' '1860' '8622' '1960' '178' '930' '3486' '1128' '324' '1248' '316'\n",
      " '926' '138' '902' '606' '5892' '8788' '1094' '6538' '1756' '482' '470'\n",
      " '1240' '440' '378' '822' '920' '478' '1722' '566' '1490' '758' '8072'\n",
      " '2580' '814' '916' '184' '680' '326' '366' '14130' '3618' '1876' '934'\n",
      " '1540' '1494' '688' '328' '986' '544' '10066' '4260' '21216' '526'\n",
      " '12446' '1512' '1040' '24432' '274' '542' '2970' '12696' '2168' '3262'\n",
      " '228' '3894' '646' '1382' '2328' '4972' '7200' '7464' '19798' '3020'\n",
      " '314' '4200' '728' '748' '1418' '454' '3848' '290' '224' '370' '1724'\n",
      " '1568' '1848' '7512' '824' '476' '364' '3738' '632' '1042' '284' '816'\n",
      " '1594' '136' '2796' '536' '8036' '23384' '2634' '8584297736' '15262'\n",
      " '1274' '468' '948' '938' '1546' '8462' '6920' '570' '1570' '1670' '2376'\n",
      " '1560' '3056' '4506' '3396' '5718' '1210' '496' '1710' '40436' '1218'\n",
      " '942' '296' '804' '223146' '452' '244' '5384' '140' '3246' '1444' '800'\n",
      " '382' '3076' '2654' '8090' '13288' '2770' '756' '2960' '1280' '630' '638'\n",
      " '1072' '2012' '4558' '512' '1264' '350' '464' '84174' '12368' '1654'\n",
      " '1212' '216' '15412' '5004' '1994' '776' '1254' '5868' '2766' '27734'\n",
      " '832' '1186' '1720' '568' '450' '4678' '1106' '1114' '634' '2644' '8282']\n",
      "Unique values in column 'cg_000': ['96' 'na' '124' '6' '152' '50' '116' '132' '66' '12' '246' '586' '8' '4'\n",
      " '78' '2' '126' '162' '52' '84' '134' '138' '86' '14' '56' '0' '106' '94'\n",
      " '58' '42' '18' '1180' '44' '76' '10' '354' '64' '208' '70' '62' '22' '40'\n",
      " '20' '80' '130' '16' '154' '34' '128' '174' '222' '280' '46' '26' '430'\n",
      " '90' '3954' '60' '92' '98' '82' '242' '206' '274' '546' '288' '150' '74'\n",
      " '24' '192' '72' '140' '104' '120' '188' '212' '28' '54' '88' '118' '258'\n",
      " '314' '186' '144' '100' '122' '184' '114' '214' '160' '176' '164' '112'\n",
      " '102' '940' '48' '202' '36' '204' '108' '282' '426' '180' '142' '418'\n",
      " '156' '30' '178' '218' '278' '182' '194' '68' '488' '166' '38' '148'\n",
      " '250' '168' '1032' '110' '728' '224' '146' '172' '668' '410' '170' '136'\n",
      " '210' '954' '240' '422' '6984' '334' '308' '32' '528' '252' '562' '318'\n",
      " '296' '276' '436' '548' '1204' '228' '1060' '196' '256' '158' '394' '576'\n",
      " '376' '264' '230' '362' '332' '328' '1688' '366' '596' '272' '448' '1776'\n",
      " '226' '358' '1038' '262' '684' '626' '420' '542' '520' '216' '200' '1494'\n",
      " '1604' '270' '294' '244' '248' '338' '306' '460' '480' '716' '198' '292'\n",
      " '872' '316' '640' '356' '260' '1120' '4540' '190' '1088' '516' '340'\n",
      " '234' '948' '1080' '330' '992' '268' '444' '512' '960' '304' '236' '432'\n",
      " '2736' '446' '1888' '346' '254' '532' '764' '490' '266' '284' '324' '220'\n",
      " '638' '372' '326' '590' '302' '416' '854' '808' '310' '726' '298' '3120'\n",
      " '478' '832' '782' '348' '360' '560' '320' '848' '1122' '574' '382' '454'\n",
      " '822' '4548' '15704' '1728' '238' '438' '1866' '464' '398' '2196' '582'\n",
      " '754' '11140' '404' '984' '1606' '534' '4654' '506' '370' '902' '386'\n",
      " '424' '2172' '344' '1506' '756' '300' '662' '544' '806' '1016' '350'\n",
      " '4882' '842' '720' '380' '508' '392' '1214' '698' '412' '910' '894' '312'\n",
      " '232' '522' '538' '1430' '622' '616' '406' '286' '3740' '322' '654'\n",
      " '1240' '17362' '428' '388' '1788' '580' '14482' '390' '1076' '502' '4190'\n",
      " '674' '498' '462' '1598' '1342' '734' '6142' '2320' '604' '944' '1478'\n",
      " '494' '452' '986' '1112' '378' '14886' '396' '1816' '290' '472' '998'\n",
      " '492' '798' '694' '784' '606' '510' '1006' '652' '468' '10210' '1808'\n",
      " '556' '2642' '666' '1906' '482' '632' '1602' '1184' '572' '568' '814'\n",
      " '1072' '664' '336' '966' '752' '342' '1650' '536' '1192' '2142' '496'\n",
      " '3758' '402' '1010' '1278' '352' '680' '630' '740' '1026' '440' '598'\n",
      " '2954' '836' '400' '892' '852' '958' '1280' '9026' '1262' '2490' '830'\n",
      " '9294' '2422' '1438' '2674' '2414' '750' '552' '2978' '1052' '484' '408'\n",
      " '414' '802' '672' '364' '1144' '3900' '434' '760' '678' '540' '1736'\n",
      " '1702' '1286' '566' '2244' '514' '860' '1470' '612' '1510' '1106' '1680'\n",
      " '682' '1152' '3502' '644' '834' '792' '730' '1722' '646' '1592' '3828'\n",
      " '770' '17512' '11510' '1028' '856' '374' '3280' '882' '2000' '578' '718'\n",
      " '14184' '896' '2104' '722' '1048' '1114' '1504' '870' '5450' '1484' '936'\n",
      " '21400' '1716' '1614' '858' '1752' '708' '5150' '2136' '1352' '962' '570'\n",
      " '648' '1652' '2254' '554' '474' '864' '1690' '384' '746' '866' '996'\n",
      " '3492' '3220' '702' '4090' '786' '3526' '774' '642' '776' '1466' '1014'\n",
      " '1022' '518' '368' '5916' '744' '1046' '5914' '920' '748' '466' '2190'\n",
      " '610' '1268' '456' '614' '1868' '1828' '1284' '974' '526' '16280' '780'\n",
      " '500' '1802' '442' '10094' '1148' '1130' '3074' '1986' '826' '700' '1946'\n",
      " '904' '476' '10446' '868' '628' '1190' '504' '1366' '706' '1468' '3780'\n",
      " '2002' '712' '608' '850' '2430' '1350' '1756' '1678' '1266' '624' '5816'\n",
      " '6266' '2278' '1232' '3388' '458' '1066' '800' '714' '972' '600' '788'\n",
      " '710' '1454' '450' '1884' '696' '584' '3848' '704' '1516' '8002' '1692'\n",
      " '2342' '650' '4032' '2550' '2204' '1292' '3694' '3038' '970' '1390' '636'\n",
      " '1056' '1270' '888' '946' '952' '2094' '1234' '618' '1876' '884' '838'\n",
      " '1568' '4316' '1298' '1012' '2064' '1158' '862' '3408' '1378' '3450'\n",
      " '602' '660' '1376' '1208' '1188' '13266' '2384' '2046' '1226' '2578'\n",
      " '1432' '486' '794' '1042' '768' '1290' '9906' '9788' '1070' '15616'\n",
      " '1096' '470' '878' '7856' '658' '1442' '1900' '1314' '738' '524' '6824'\n",
      " '3104' '9306' '3860' '1890' '1724' '5970' '2640' '930' '1792' '1236'\n",
      " '1332' '2594' '810' '620' '1806' '1976']\n"
     ]
    },
    {
     "name": "stdout",
     "output_type": "stream",
     "text": [
      "Unique values in column 'ch_000': ['0' 'na' '2']\n",
      "Unique values in column 'ci_000': ['5245752' '2291079.36' '2322692.16' ... '123344.64' '4776505.92'\n",
      " '2480113.92']\n",
      "Unique values in column 'cj_000': ['0' '5602235.52' '3987438.72' ... '2831745.6' '25016.64' '106006.08']\n",
      "Unique values in column 'ck_000': ['916567.68' '643536.96' '236099.52' ... '1529548.8' '1048805.76'\n",
      " '389530.56']\n",
      "Unique values in column 'cl_000': ['6' '0' '2' '142' 'na' '10' '4' '36' '26' '144' '150' '52' '32' '80' '14'\n",
      " '128' '48' '20' '38' '8' '12' '18944' '64' '1086' '18' '882' '680' '72'\n",
      " '662' '86' '84' '58' '1130' '22' '98304' '50' '46' '24576' '298' '28'\n",
      " '56' '184' '340' '30' '724' '374' '654' '82' '16' '314' '158' '126' '40'\n",
      " '320' '76' '70' '4100' '118' '90' '7168' '172' '152' '54' '55296' '162'\n",
      " '2108' '420' '1216' '218' '446' '136' '44' '250' '24' '574' '130' '2834'\n",
      " '182' '196' '590' '198' '774' '792' '100' '634' '146' '94' '6144' '992'\n",
      " '114' '302' '432' '14336' '784' '2198' '42' '89600' '88064' '62' '110'\n",
      " '1076' '53248' '3422' '106' '576' '34' '214' '9216' '752' '902' '8704'\n",
      " '78' '3224' '548' '24050' '88' '424' '56320' '714' '200' '48128' '850'\n",
      " '132' '1664' '50688' '904' '472' '272' '68' '208' '3740' '580' '1508'\n",
      " '1576' '124' '1124' '160' '98' '444' '202' '632' '11776' '450' '1800'\n",
      " '112' '518' '726' '238' '60' '4492' '414' '102' '300' '5368' '330'\n",
      " '12288' '148' '1716' '66' '140' '578' '1970' '252' '9154' '536' '38912'\n",
      " '1336' '134' '92' '436' '120' '338' '49152' '732' '354' '4608' '258'\n",
      " '108' '324' '456' '1890' '122880' '7310' '174' '2004' '101376' '164'\n",
      " '284' '910' '614' '638' '1498' '582' '288' '28672' '4966' '1206' '342'\n",
      " '45056' '230' '176' '206' '236' '156' '45568' '122' '416' '1066' '74'\n",
      " '1170' '115712' '4568' '842' '644' '308' '312' '116' '908' '1504' '36864'\n",
      " '1702' '1738' '166' '390' '422' '55808' '318' '916' '508' '772' '87040'\n",
      " '872' '256' '278' '708' '3712' '920' '3268' '20480' '522' '154' '226'\n",
      " '104' '984' '2078' '524' '12268' '1050' '630' '442' '96' '264' '1346'\n",
      " '388' '868' '190' '192' '1822' '6060' '328' '394' '994' '606' '254'\n",
      " '1654' '47104' '168' '1194' '224' '698' '180' '740' '1678' '406' '9184'\n",
      " '386' '128512' '702' '11450' '276' '618' '1342' '13824' '376' '1402'\n",
      " '1364' '8166' '368' '8146' '294' '552' '1704' '232' '10752' '678' '1998'\n",
      " '2810' '1390' '36964' '138' '9684' '74752' '2116' '11074' '458' '336'\n",
      " '268' '1398' '1910' '1828' '43008' '682' '304' '204' '968' '15872' '1196'\n",
      " '398' '1012' '510' '488' '2166' '54784' '3022' '36352' '566' '3836' '242'\n",
      " '20992' '3396' '3066' '5392' '588' '704' '858' '1132' '1134' '602' '7350'\n",
      " '13688' '626' '1456' '222' '532' '37888' '786' '426' '4480' '25088' '912'\n",
      " '570' '216' '3226' '344' '25600' '764' '30208' '124928' '194' '418' '358'\n",
      " '2454' '188' '15030' '3770' '1070' '392' '292' '19968' '4266' '372'\n",
      " '1282' '918' '4630' '240' '1546' '17920' '3572' '7076' '402' '130560'\n",
      " '824' '744' '1174' '306' '7520' '15360' '41472' '712' '396' '228' '448'\n",
      " '362' '2194' '1062' '3176' '526' '1494' '1152' '4772' '776' '11264'\n",
      " '82944' '404' '14902' '492' '31232' '1344' '568' '516' '504' '1338'\n",
      " '64512' '462' '178' '5632' '656' '2882' '7680' '1448' '75264' '32768'\n",
      " '346' '83456' '1636' '1680' '12800' '512' '4846' '111616' '8206' '52224'\n",
      " '546' '244' '1956' '266' '23040' '102400' '2104' '2100' '1990' '666'\n",
      " '20326' '56832' '754' '1412' '538' '694' '103424' '540' '10240' '950'\n",
      " '94720' '528' '648' '310' '322' '452' '1166' '350' '7150' '356' '123904'\n",
      " '454' '756' '21504' '892' '3476' '39424' '2144' '39936' '2500' '1354'\n",
      " '870' '4334' '5856' '1400' '1350' '6464' '8192' '2438' '642' '6656'\n",
      " '14848' '41984' '9728' '282' '596' '940' '1832' '16844' '1536' '8810'\n",
      " '115200' '2278' '1614' '2894' '948' '3970' '364' '16896' '898' '35328'\n",
      " '212' '46592' '1074' '16384' '1146' '54272' '3760' '1208' '468' '430'\n",
      " '30720' '612' '2236' '3140' '990' '4188' '2922' '802' '29696' '826' '718'\n",
      " '412' '1884' '834' '600' '1036' '1794' '730' '866' '286' '1110' '27136'\n",
      " '8184' '260' '502' '69120' '119808' '542' '782' '332' '170' '562' '270'\n",
      " '906' '1578' '628' '380' '1044' '1550' '246' '1804' '1792' '5230' '1410'\n",
      " '750' '844' '348' '1200' '896' '1472' '884' '88576' '848' '2066' '210'\n",
      " '274' '3640' '1302' '50176' '5134' '804' '400' '378' '2352' '1836' '4138'\n",
      " '482' '976' '1020' '4432' '810' '105984' '1526' '438' '6490' '5580'\n",
      " '2614' '3388' '4826' '1384' '1460' '840' '560' '978' '384' '1228' '586'\n",
      " '3604' '1180' '2222' '370' '2804' '2750' '4296' '820' '234' '78848' '728'\n",
      " '1352' '9056' '690' '616' '1008' '1436' '118272' '1260' '19456' '1480'\n",
      " '4818' '3034' '35840' '280' '768' '2388' '2572' '262' '2660' '33792'\n",
      " '6162' '410' '316' '530' '664' '10864' '1512' '982' '2390' '77312'\n",
      " '122368' '5434' '3634' '6272' '2396' '9354' '366' '650' '1220' '900'\n",
      " '408' '474' '3482' '85504' '2326' '44032' '4096' '4354' '18388' '3912'\n",
      " '26112' '1330' '798' '34304' '3888' '13088' '1566' '706' '1054' '7566'\n",
      " '108032' '93184' '186' '3076' '44544' '1360' '558' '2502' '1606' '3158'\n",
      " '1458' '86016' '788' '2206' '932' '980' '1514' '8818' '1984' '610' '2916'\n",
      " '4496' '2096' '4740' '11488' '874' '1176' '93696' '17408' '1356' '3764'\n",
      " '18432' '620' '22016' '248' '334' '360' '24064' '494' '101888' '290'\n",
      " '1128' '1078' '15490' '880' '70656' '766' '326' '428' '658' '1840' '2358'\n",
      " '554' '4894' '2890' '1232' '734' '738' '33280' '29184' '800' '2010'\n",
      " '1496' '12400' '3172' '1376' '1212' '636' '4950' '18926' '796' '1646'\n",
      " '1958' '1258' '2024' '60416' '930' '80896' '1042' '5628' '53760' '1116'\n",
      " '1204' '352' '5412' '3496' '10874' '1314' '1024' '700' '2228' '3072'\n",
      " '129536' '9720' '2110' '1236' '59904' '13712' '534' '1244' '1142'\n",
      " '126976' '4396' '5220' '1144' '3906' '1328' '954' '720' '1028' '12970'\n",
      " '28894' '5120' '1034' '2446' '486' '924' '8868' '1962' '1060' '484'\n",
      " '42496' '22528' '1588' '7684' '8992' '2072' '58880' '73728' '670' '68608'\n",
      " '40960' '496' '220' '3150' '12650' '59392' '2848' '126464' '1728' '1268'\n",
      " '2744' '1296' '3098' '1326' '90112' '584' '2210' '100352' '622' '1192'\n",
      " '18314' '686' '74240' '646' '1300' '926' '43520' '1308' '124416' '15610'\n",
      " '3788' '13536' '1230' '7058' '1094' '9466' '97792' '87552' '11808' '684'\n",
      " '70144' '1648' '5998' '51200' '520' '64000' '130048' '13552' '592' '1276'\n",
      " '1018' '23552' '66560' '2038' '1652' '50644' '660' '1772' '490' '1708'\n",
      " '10394' '1724' '506' '672' '460' '544' '2514' '1698' '121344' '2082'\n",
      " '14918' '1214' '296' '688' '2392' '1222' '95232' '2618' '1084' '2674'\n",
      " '13572' '958' '3032' '1156' '3442' '1264' '1198' '9686' '922' '464'\n",
      " '4876' '1882' '57114' '8314' '19762' '1270' '67072' '2452' '28160' '1706'\n",
      " '104448' '382' '760' '890' '1482' '112640' '988' '746' '434' '816' '5266'\n",
      " '3402' '2666' '7198' '1186' '127488' '1238' '1010' '2006' '878' '736'\n",
      " '2794' '470' '3812' '3954' '2626' '5614' '113152' '1446' '1518' '1082'\n",
      " '2740' '4736' '2060' '4092' '17428' '748' '838' '962' '60174' '498'\n",
      " '84480' '5282' '5766' '1038' '1374' '14916' '3094' '3074' '1464' '6986'\n",
      " '2374' '7120' '3090' '480' '1368' '76800' '2202' '1858' '2892' '1442'\n",
      " '5394' '696' '478' '1182' '3358' '2284' '1366' '4420' '38400' '78336']\n",
      "Unique values in column 'cm_000': ['1924' '0' '16' ... '2264' '5690' '2360']\n",
      "Unique values in column 'cn_000': ['0' '9652' 'na' ... '20134' '490' '353016']\n",
      "Unique values in column 'cn_001': ['0' '52' '3180' ... '61376' '5232' '7338']\n",
      "Unique values in column 'cn_002': ['0' '38' '2544' ... '8498' '48386' '47514']\n",
      "Unique values in column 'cn_003': ['118196' '98644' '33276' ... '214574' '404890' '61572']\n",
      "Unique values in column 'cn_004': ['1309472' '1179502' '1215280' ... '63554' '760936' '497028']\n",
      "Unique values in column 'cn_005': ['3247182' '1286736' '1102798' ... '10126' '3250610' '1708490']\n",
      "Unique values in column 'cn_006': ['1381362' '336388' '196502' ... '1080888' '1761252' '628690']\n",
      "Unique values in column 'cn_007': ['98822' '36294' '10260' ... '17056' '56042' '133594']\n",
      "Unique values in column 'cn_008': ['11208' '5192' '2422' ... '11416' '33068' '59376']\n",
      "Unique values in column 'cn_009': ['1608' '56' '28' ... '3582' '8574' '365554']\n",
      "Unique values in column 'co_000': ['220' 'na' '0' ... '2072' '15342' '3560']\n",
      "Unique values in column 'cp_000': ['240' '0' '6' ... '4346' '15856' '3954']\n",
      "Unique values in column 'cq_000': ['6700214' '3646660' '2673338' ... '10845228' '6159728' '3076406']\n",
      "Unique values in column 'cr_000': ['na' '0' '450' '22' '56' '672' '9820' '4' '4878' '44' '2402' '57450'\n",
      " '162' '52' '538' '144' '28' '10' '360' '1934' '124' '54' '21918' '8708'\n",
      " '47500' '4478' '10924' '574' '5826' '3074' '1416' '944' '486' '1234'\n",
      " '3292' '2960' '9080' '7848' '160' '68' '3750' '132' '38078' '13930'\n",
      " '2632' '1724' '460' '502' '47118' '154' '1398' '9218' '66' '13328'\n",
      " '27000' '10598' '62' '198' '1312' '1988' '2360' '7672' '6780' '13940'\n",
      " '8310' '9370' '84' '43414' '2038' '356' '40' '582' '1136' '152' '21752']\n",
      "Unique values in column 'cs_000': ['10476' '6160' '3584' ... '38982' '92088' '9898']\n",
      "Unique values in column 'cs_001': ['1226' '796' '500' ... '9422' '8166' '11160']\n",
      "Unique values in column 'cs_002': ['267998' '164860' '56362' ... '48640' '333922' '81228']\n",
      "Unique values in column 'cs_003': ['521832' '350066' '149726' ... '9664' '700650' '195104']\n",
      "Unique values in column 'cs_004': ['428776' '272956' '100326' ... '425276' '388092' '284388']\n",
      "Unique values in column 'cs_005': ['4015854' '1837600' '1744838' ... '40190' '3174954' '2064878']\n",
      "Unique values in column 'cs_006': ['895240' '301242' '488302' ... '75776' '1312814' '233308']\n",
      "Unique values in column 'cs_007': ['26330' '9148' '16682' ... '38298' '24104' '36428']\n",
      "Unique values in column 'cs_008': ['118' '22' '246' '0' '204' '86' '352' '170' '96' '342' '384' '2' '104'\n",
      " '40' '50' '280' '168' '16' '234' '14' '68' '188' '48' '940' '4' '78'\n",
      " '1056' '24' '32' '80' '76' '20' '214' '26' '164' '44' '190' 'na' '30'\n",
      " '296' '150' '132' '176' '370' '918' '294' '88' '552' '320' '130' '52'\n",
      " '182' '90' '6' '178' '192' '138' '134' '72' '56' '156' '472' '70' '58'\n",
      " '8' '46' '186' '232' '218' '184' '722' '212' '84' '286' '572' '98' '140'\n",
      " '146' '148' '64' '34' '128' '18' '162' '10' '12' '554' '42' '336' '38'\n",
      " '82' '74' '120' '94' '114' '270' '328' '92' '312' '362' '60' '412' '356'\n",
      " '152' '332' '282' '110' '428' '112' '36' '122' '144' '530' '338' '54'\n",
      " '28' '102' '62' '142' '108' '434' '226' '3034' '154' '406' '594' '860'\n",
      " '240' '220' '166' '422' '208' '576' '634' '252' '126' '198' '372' '708'\n",
      " '100' '174' '420' '448' '284' '754' '206' '326' '202' '474' '66' '238'\n",
      " '200' '380' '298' '444' '106' '306' '416' '278' '346' '288' '254' '230'\n",
      " '314' '194' '366' '160' '308' '266' '180' '354' '704' '348' '1112' '762'\n",
      " '256' '136' '546' '124' '260' '558' '210' '666' '948' '520' '172' '760'\n",
      " '464' '490' '778' '302' '786' '458' '1208' '364' '158' '376' '616' '390'\n",
      " '424' '304' '290' '456' '196' '262' '316' '350' '274' '358' '360' '272'\n",
      " '588' '116' '224' '300' '402' '388' '734' '18054' '264' '518' '716' '442'\n",
      " '228' '578' '538' '488' '386' '596' '486' '582' '268' '498' '502' '438'\n",
      " '566' '1082' '496' '432' '640' '1254' '536' '3218' '534' '480' '506'\n",
      " '340' '728' '318' '216' '1990' '514' '244' '2166' '718' '656' '378' '522'\n",
      " '608' '334' '382' '526' '236' '868' '628' '398' '368' '710' '222' '516'\n",
      " '1130' '292' '484' '688' '454' '714' '394' '586' '732' '912' '242' '410'\n",
      " '636' '324' '276' '614' '476' '258' '742' '624' '532' '604' '706' '934'\n",
      " '510' '478' '396' '248' '1280' '404' '580' '900' '542' '460' '726' '808'\n",
      " '344' '418' '924' '426' '686' '310' '2138' '446' '2474' '482' '400' '632'\n",
      " '1078' '1552' '776' '1006' '4718' '2012' '658' '1342' '494' '430' '1116'\n",
      " '2226' '508' '954' '374' '1334' '322' '450' '882' '970' '436' '842'\n",
      " '2144' '1646' '462' '922' '848' '858' '540' '870' '3720' '466' '1250'\n",
      " '978' '626' '250' '524' '1412' '950' '638' '17216' '440' '1160' '1276'\n",
      " '392' '3618' '568' '1108' '820' '408' '850' '806' '654' '838' '682' '330'\n",
      " '2482' '1266' '1300' '610' '844' '414' '662' '740' '452' '1054' '13466'\n",
      " '1018' '1584558' '674' '660' '1374' '528' '1498' '548' '1002' '990' '746'\n",
      " '1310' '730' '470' '504' '782' '2794' '2082' '1196' '724' '1110' '652'\n",
      " '902' '574' '798' '1568' '1010566' '692' '602' '794' '544' '932' '898'\n",
      " '744' '788' '1152' '620' '618' '804' '1104' '2616' '492' '39912' '768'\n",
      " '1518' '752' '672' '1168' '1864' '1030' '846' '562' '1065342' '622'\n",
      " '2618' '1346' '500' '1144' '650' '1234' '1258' '2190' '1022' '678' '1050'\n",
      " '600' '1434' '468' '664' '1188' '560' '1074' '942' '1008' '780' '974'\n",
      " '694' '1034' '592' '1176' '1142' '1396' '1650' '1952' '9520' '1048' '556'\n",
      " '936' '792' '698' '550' '676' '1256' '1118' '1274' '1060' '642' '814'\n",
      " '840' '612' '1162' '590' '2590' '1092' '1080' '1004' '884' '644' '1406'\n",
      " '994' '2620' '1198' '670' '1228' '852' '1046' '810' '894' '712' '720'\n",
      " '2706' '606' '1016' '1212' '1182' '736' '946' '886' '2886' '822' '972'\n",
      " '1778' '1562' '584' '1808' '668' '1072' '2310' '1286' '2072' '1042' '816'\n",
      " '1190' '1452' '1970' '570' '738' '512' '966' '1398' '828' '872' '818'\n",
      " '5014' '784' '766' '1742' '3238' '2846' '856' '4110' '1380' '1554' '880'\n",
      " '2168' '1138' '2866' '2076' '812' '982' '756' '830' '906' '1086' '774'\n",
      " '952' '874' '2184' '1558' '3794' '648' '862' '1776' '960' '2078' '1432'\n",
      " '1000' '2128' '770' '914' '930' '976' '892' '996' '1036' '1192' '1164'\n",
      " '598' '564' '1154' '2216' '1180' '4572' '2890' '9318' '1224' '1724'\n",
      " '1094' '8532' '1100' '1202' '1304' '2612' '1630' '1066' '690' '1122'\n",
      " '802' '1408' '836' '1658' '1670' '630' '826' '14562' '1268' '1186' '800'\n",
      " '2316' '2398' '1598' '928' '1024' '1332' '2346' '3104' '1126' '1038'\n",
      " '3180' '4044' '1328' '1378' '824' '1442' '1596' '1450' '1404' '984'\n",
      " '1200' '1950' '1746' '10508' '1058' '3304' '1934' '680' '1170' '1128'\n",
      " '646' '2684' '1124' '750' '876' '916' '2588' '1936' '1728' '1362' '910'\n",
      " '854' '1298' '1702' '944' '764' '1482' '832' '1642' '1040' '3746' '992'\n",
      " '2150' '1790' '1214' '1278' '1348' '1574' '18890' '2120' '1992' '1070'\n",
      " '1402' '1028' '4952' '702' '5522' '980' '1318' '2274' '878' '1418' '1484'\n",
      " '1356' '1068' '1166' '9198' '3590' '337352' '2312' '1704' '896' '1076'\n",
      " '796' '888' '1604' '2724' '2058' '2018' '2570' '968' '7148' '1544' '1252'\n",
      " '1424' '2090' '3460' '5864' '1400' '1242' '1506' '2014' '2318' '1272'\n",
      " '1090' '2156' '2084' '1762' '1026' '1084' '1898' '1290' '1440' '1494'\n",
      " '1446' '1336' '1500' '1158' '440748' '1246' '1206' '890' '1852' '1436'\n",
      " '1438' '1540' '1210' '1226' '962' '1174' '1882' '7864' '958' '35862'\n",
      " '4440' '748' '17058' '1262' '2052' '2172' '3194' '998' '700' '3288'\n",
      " '2142' '1462' '1806' '1764' '2130' '1906' '1794' '6128' '1302' '1292'\n",
      " '1106' '1020' '1366' '1388' '1010' '2028' '1230']\n",
      "Unique values in column 'cs_009': ['0' '2' 'na' '4' '6' '16' '14' '8' '12' '10' '18' '52' '42' '28' '38'\n",
      " '20' '194' '26' '62520' '9442' '44902992' '22' '40' '82200' '30' '24'\n",
      " '34' '190328' '152' '36' '166' '528' '25028' '32' '54' '25624' '17786'\n",
      " '2074' '60' '2322' '1160' '68912' '95968' '11270' '402502' '978' '808'\n",
      " '5156' '200' '416' '15216' '62' '116' '958']\n",
      "Unique values in column 'ct_000': ['532' 'na' '230' ... '8668' '2756' '307016']\n",
      "Unique values in column 'cu_000': ['734' 'na' '292' ... '6410' '7012' '4042']\n",
      "Unique values in column 'cv_000': ['4122704' 'na' '2180528' ... '123730' '2200048' '2453708']\n",
      "Unique values in column 'cx_000': ['51288' 'na' '29188' ... '23486' '66850' '9240']\n",
      "Unique values in column 'cy_000': ['0' 'na' '22' '24' '32' '184' '2' '82' '84' '148' '34' '324' '38' '282'\n",
      " '10' '46' '42' '390' '90' '1466' '28' '12' '54' '200' '308' '666' '692'\n",
      " '58' '164' '146' '414' '20' '52' '26' '14' '4744' '92' '550080' '508'\n",
      " '36' '30' '18' '80' '74' '3146' '1200' '50' '3626' '66' '926' '64' '108'\n",
      " '262' '1676' '40' '118' '182' '48' '72' '60' '70' '102' '5128' '44' '152'\n",
      " '39238' '298' '106' '800' '818' '2130' '110' '496' '56' '4' '78' '94' '6'\n",
      " '16' '104' '4036' '86' '1024' '134' '156' '138' '240' '68' '126' '132'\n",
      " '538' '6174' '1846' '62' '478' '300' '614' '218046' '462' '1402' '216'\n",
      " '358' '2146' '96' '8182' '76' '112' '556' '1414' '1884' '1308' '98' '368'\n",
      " '396' '2614' '136' '4940' '13482' '3126' '1002' '294' '684' '116'\n",
      " '742856' '6476' '114' '438' '194' '11066' '432' '1330' '9854' '330' '120'\n",
      " '342' '228' '694' '8' '268' '326' '88' '1494' '144' '410' '940' '3200'\n",
      " '372' '9942' '278' '482' '128' '774' '5614' '1088' '202' '3250' '5118'\n",
      " '222' '468' '158' '274' '2004' '31108' '454' '6458' '4084' '7104' '35386'\n",
      " '17190' '122' '174' '380' '248' '506' '150' '1890' '360' '550' '1010'\n",
      " '676' '706' '1216' '130' '292' '20648' '760' '35194' '384' '198' '232'\n",
      " '196' '204' '6012' '1786' '13336' '768' '3014' '220' '270' '3692' '356'\n",
      " '1550' '188' '296' '476' '192' '1144' '678' '260' '288' '178' '226'\n",
      " '1906' '9536' '56020' '170' '1304' '172' '2924' '888' '166' '754' '2596'\n",
      " '1068' '2234' '316' '946' '214' '756' '30474' '13260' '319698' '142'\n",
      " '670' '522' '3772' '206' '280' '4092' '140' '100' '266' '602' '286' '406'\n",
      " '7260' '9702' '2006' '4712' '566' '8954' '154' '208' '518' '4790' '370'\n",
      " '748' '15676' '5170' '802' '478810' '160' '646' '6106' '702' '1240'\n",
      " '3480' '1684' '338' '336' '72430' '71264' '716' '4862' '4098' '14808'\n",
      " '238' '176' '312' '1100' '1316' '362' '180' '306' '1030' '236' '31554'\n",
      " '190' '980' '1134' '910' '200280' '4378' '5174' '354' '3708' '504'\n",
      " '16692' '1586' '16080' '6818' '620' '7146' '310' '742' '254478' '1070'\n",
      " '314' '6682' '11280' '210' '374' '856' '276' '11588' '366' '4276' '52254'\n",
      " '76848' '682' '322' '956' '35394' '6996' '1490' '1952' '1438' '994'\n",
      " '178308' '1480' '250' '256' '2120' '2256' '660' '37782' '2216' '234'\n",
      " '492' '258' '320' '526' '162' '392' '2300' '103036' '27890' '4850' '938'\n",
      " '11996' '2394' '3768' '2078' '588' '11738' '334088' '328' '2558' '242'\n",
      " '838' '900' '244' '1806' '3168' '2720' '530' '474' '4292' '408' '4460'\n",
      " '2186' '2504' '168' '41414' '3842' '186' '931472' '806' '254' '202530'\n",
      " '5054' '218' '516' '420' '500' '5916' '224' '3930' '7554' '870' '836'\n",
      " '1848' '656' '812' '350' '2926' '2488' '304' '2018' '1720' '494' '246'\n",
      " '1168' '490' '98334' '6938' '486' '436' '9482' '208844' '2660' '1652'\n",
      " '568' '1450' '460' '3302' '10938' '6088' '1086' '4140' '388' '2082' '348'\n",
      " '972' '1142' '1742' '1336' '124' '1110' '619760' '794' '542' '26756'\n",
      " '31976' '730' '578' '23462' '816' '3574' '862' '9998' '472' '626' '776'\n",
      " '61196' '1632' '230' '4492' '4372' '510' '3986' '398' '49524' '68596'\n",
      " '352' '1078' '4776' '696' '810' '4694' '672' '1126' '7848' '18390' '1910'\n",
      " '139218' '1784' '608' '264' '4016' '1328' '22194' '10002' '1404' '19970'\n",
      " '332' '1456' '3280' '1334' '2086' '3296' '846' '3594' '4992' '12062'\n",
      " '2172' '13928' '2548' '984' '5876' '15048' '1296' '376' '448' '14530'\n",
      " '808' '966' '764' '8718' '612' '11104' '1752' '2626' '434' '928' '3038'\n",
      " '2182' '71256' '4568' '32730' '790' '11862' '22416' '25154' '334' '2552'\n",
      " '1012' '680' '514' '992' '512' '17800' '51978' '762' '22656' '2930'\n",
      " '2988' '1370' '1514' '576' '8578' '3774' '340' '30322' '444' '7400' '600'\n",
      " '272' '364' '24968' '34938' '212' '404' '2222' '290' '466' '302' '81874'\n",
      " '594' '2196' '29120' '1256' '124168' '5160' '10776' '30704' '2526'\n",
      " '203852' '10624' '12498' '5318' '6378' '2820' '108682' '1204' '15886'\n",
      " '378' '346' '17454' '544' '6888' '1996' '3672' '1246' '3550' '3042'\n",
      " '1050' '119406' '29770' '416' '484' '382' '391294' '1738' '442' '1596'\n",
      " '4186' '4008' '704' '8282' '480' '1276' '1362' '902' '5360' '252' '3314'\n",
      " '1536' '1220' '2692' '552' '109250' '1504' '786' '1982' '1114' '8748'\n",
      " '68962' '1746' '1418' '1044' '400' '604' '970' '14976' '498' '830' '1880'\n",
      " '1352' '2096' '11124' '10118' '43314' '1594' '712' '8942' '866' '858'\n",
      " '4592' '32486' '6952' '1158' '1468' '1868' '548' '40704' '4630' '10240'\n",
      " '5962' '1634' '3330' '520' '12910' '1224' '4500' '43606' '3748' '81298'\n",
      " '18104' '66058' '9372' '2296' '53028' '13208' '562' '332770' '850' '1244'\n",
      " '422' '596' '570' '3766' '3392' '4840' '11818' '386' '2124' '2644' '1124'\n",
      " '592' '918' '920' '2090' '1972' '344' '1622' '9228' '413790' '140164'\n",
      " '1766' '2736' '7524' '4076' '58376' '674' '3236' '3552' '822' '1718'\n",
      " '3786' '4422' '996' '5838' '284' '1936' '11634' '2740' '15106' '1616'\n",
      " '1072' '1678' '1580' '934' '5812' '29256' '2114' '2868' '724' '36702'\n",
      " '17852' '1300' '26398' '2220' '4182' '2318' '6828' '3348' '402' '52672'\n",
      " '28228' '1584' '4376' '1670' '2766' '2270' '2738' '780' '12718' '1348'\n",
      " '4068' '1486' '65696' '11592' '7130' '8132' '164068' '4920' '26532'\n",
      " '1498' '1096' '37364' '2016' '624' '5504' '882' '1106' '1610' '11824'\n",
      " '17260']\n",
      "Unique values in column 'cz_000': ['532572' 'na' '20346' ... '23196' '10400' '17848']\n",
      "Unique values in column 'da_000': ['0' 'na' '1240' '114' '154' '398' '288' '176' '26' '1640' '78' '10'\n",
      " '3882' '106' '1060' '130' '896' '1094' '268' '588' '34' '10520' '1184'\n",
      " '1552' '64' '696' '234' '82' '108' '242' '124' '80' '400' '252' '2' '28'\n",
      " '164' '32' '238' '684' '368' '18' '1208' '6' '488' '4' '132' '86' '512'\n",
      " '60' '15078' '48' '52' '46' '50' '12' '1512' '274' '450' '20' '136' '66'\n",
      " '56' '186' '76' '276' '424' '140' '112' '286' '1008' '272' '388' '376'\n",
      " '308' '742' '410' '90' '202' '118' '212' '2646' '8638' '1736' '566' '928'\n",
      " '604' '158' '560' '16' '170' '298' '3254' '54' '722' '208' '394' '3176'\n",
      " '1680' '100' '346' '12672' '11662' '36' '378' '1116' '22' '510' '300'\n",
      " '1890' '210' '468' '1960' '932' '930' '1522' '438' '314' '902' '144'\n",
      " '122' '162' '44' '1002' '178' '328' '332' '120' '150' '320' '576' '344'\n",
      " '590' '258' '96' '88' '74' '182' '436' '70' '1072' '168' '8' '318' '24'\n",
      " '42' '166' '858' '860' '62' '1110' '198' '356' '536' '190' '110' '652'\n",
      " '498' '3860' '142' '5428' '348' '244' '256' '222' '126' '260' '586' '14'\n",
      " '280' '2626' '614' '92' '1438' '584' '128' '654' '562' '472' '402' '3836'\n",
      " '600' '146' '3206' '826' '3524' '302' '778' '1176' '214' '324' '160'\n",
      " '544' '978' '716' '322' '1638' '3246' '1074' '68' '306' '102' '228'\n",
      " '7820' '284' '172' '72' '264' '292' '236' '1548' '21006' '30' '582' '564'\n",
      " '5420' '358' '58' '422' '740' '226' '2190' '2432' '1612' '270' '98'\n",
      " '1650' '354' '1212' '1622' '216' '94' '570' '310' '5100' '5148' '702'\n",
      " '644' '184' '550' '1246' '188' '1320' '754' '1504' '4778' '1768' '3868'\n",
      " '326' '224' '372' '804' '1216' '84' '396' '608' '382' '516' '1730' '1534'\n",
      " '456' '2768' '1458' '116']\n",
      "Unique values in column 'db_000': ['18' 'na' '0' '12' '356' '22' '14' '30' '132' '62' '10' '24' '16' '8'\n",
      " '58' '68' '38' '28' '20' '6' '32' '26' '74' '528' '64' '50' '40' '4'\n",
      " '496' '54' '44' '48' '36' '76' '52' '232' '60' '46' '42' '96' '152' '128'\n",
      " '34' '84' '118' '56' '66' '78' '2' '222' '70' '104' '88' '80' '108' '86'\n",
      " '94' '90' '110' '92' '102' '184' '106' '610' '446' '1350' '72' '82' '136'\n",
      " '112' '220' '116' '144' '212' '114' '176' '304' '100' '186' '126' '146'\n",
      " '2102' '556' '1216' '142' '188' '254' '134' '544' '138' '314' '194' '124'\n",
      " '120' '140' '168' '248' '946' '98' '266' '330' '1742' '202' '512' '680'\n",
      " '150' '204' '7674' '272' '190' '252' '122' '9636' '200' '2892' '532'\n",
      " '744' '180' '718' '130' '148' '228' '182' '2518' '158' '172' '508' '654'\n",
      " '3174' '580' '234' '156' '1200' '406' '358' '162' '1088' '282' '174'\n",
      " '430' '166' '160' '208' '1972' '236' '154' '164']\n"
     ]
    },
    {
     "name": "stdout",
     "output_type": "stream",
     "text": [
      "Unique values in column 'dc_000': ['5330690' 'na' '2341048' ... '124152' '4858834' '2506446']\n",
      "Unique values in column 'dd_000': ['4732' '3312' '1494' ... '39558' '5344' '36416']\n",
      "Unique values in column 'de_000': ['1126' '522' '152' ... '3448' '2914' '6240']\n",
      "Unique values in column 'df_000': ['0' '40' 'na' '680' '360' '30' '10' '90' '119600' '170' '400' '280' '70'\n",
      " '1217240' '690' '50' '1590' '850' '320' '4334400' '380' '6172990' '290'\n",
      " '80' '130' '670' '1389590' '10430' '840' '12630' '390' '60' '9490' '100'\n",
      " '350' '120' '15770' '180' '1840' '2350' '960' '1500' '16910' '13670'\n",
      " '6650' '190' '110' '14780' '2940' '2480' '142420' '230' '660' '3250'\n",
      " '2640' '410' '248770' '330' '1270' '41710' '210' '23780' '2380' '11050'\n",
      " '111090' '720' '430' '820' '2030' '1280' '630270' '570' '173220' '20'\n",
      " '2250' '5080' '3012900' '9710' '250' '5720' '550' '200' '910' '1919810'\n",
      " '470' '725890' '3340' '311250' '760' '440' '4290510' '1120' '340' '27510'\n",
      " '520' '620' '140' '973040' '1220' '9220' '1080' '12710' '300' '1250'\n",
      " '305730' '8580' '930' '6730' '146720' '34300' '370' '26850' '20330' '810'\n",
      " '369870' '150' '220' '114470' '81940' '1620' '276930' '9690' '600'\n",
      " '4711820' '260' '160' '530' '650' '2980' '1010' '270' '2401170' '1310'\n",
      " '710' '112980' '4960' '450' '560' '950' '5645150' '880' '220360' '3050'\n",
      " '1780' '610' '4850' '1390' '2970' '26190' '16274770' '4130' '540' '510'\n",
      " '500' '91150' '420' '93600' '378790' '2371420' '623250' '710780' '2420'\n",
      " '11340' '310' '11680' '389490' '460' '20750' '3220' '7570' '1532020'\n",
      " '149700' '2418750' '81110' '49830' '240' '361670' '1150' '30090' '380520'\n",
      " '364660' '23570' '11740' '128040' '12990' '15140' '379700' '1740' '2020'\n",
      " '1260' '5850' '20210' '3070' '1970' '1680' '1070' '120290' '67150' '1350'\n",
      " '10940' '1200' '632490' '52410' '1320' '198530' '2079350' '1460' '1240'\n",
      " '1510' '6450' '2040' '940' '1430' '5130' '580' '10060' '4250' '1770'\n",
      " '5450' '3520' '2310460' '266640' '91510' '89120' '1640' '5900' '88330'\n",
      " '5510' '38890' '36010' '715040' '13930' '49440' '3700' '2180' '250900'\n",
      " '2160' '89980' '15660' '35310' '12790' '3640' '1450' '480' '1470' '1160'\n",
      " '7390' '80910' '4680' '823950' '16010' '2610' '34710' '1300' '14850'\n",
      " '471320' '1210' '990' '1050740' '1530' '6956140' '8890' '1262770' '490'\n",
      " '1980' '14900' '1720' '10270' '1060' '1408530' '25460' '30310' '21613910'\n",
      " '1170' '700' '174110' '500940' '13840' '5430' '1623580' '5020' '43300'\n",
      " '13710' '755590' '830' '1910' '790' '3080' '10170' '11530' '1130' '13110'\n",
      " '800' '97310' '392640' '1110' '2110' '2430' '8350' '26870' '4075750'\n",
      " '47620' '1230' '4750' '1810' '630' '175320' '10190' '480550' '1040'\n",
      " '4290' '18470' '8740' '106060' '2910' '3400' '22690' '1550' '4620' '9870'\n",
      " '3260' '1670' '3350' '5780' '4450' '3670' '820090' '35650' '235700'\n",
      " '161420' '4700' '11260' '1290' '712720' '1830' '730' '127310' '3270'\n",
      " '748080' '20650' '3020120' '2001320' '106930' '7290' '11690' '5410'\n",
      " '1540' '15790' '590' '7140' '68350' '1420' '36660' '16080' '1050' '2060'\n",
      " '1407700' '10360' '12600' '46420' '1940' '1436510' '1008580' '5690'\n",
      " '18550' '3680' '11710' '9060' '48860' '1402280' '609520' '184170'\n",
      " '359330' '920' '1920' '124270' '6110' '640' '424380' '11830' '31630'\n",
      " '893300' '17400' '770' '2797800' '30170' '66200' '1750' '1380' '860'\n",
      " '23690' '2930' '74570' '2690' '1090' '6390' '226150' '488450' '89070'\n",
      " '33990' '17320' '146980' '2802770']\n",
      "Unique values in column 'dg_000': ['0' '11450' 'na' ... '2424' '9014' '7042']\n",
      "Unique values in column 'dh_000': ['0' '55760' '32230' ... '9410' '14130' '11530']\n",
      "Unique values in column 'di_000': ['0' '64' '1433920' ... '3088458' '30956' '106152']\n",
      "Unique values in column 'dj_000': ['0' 'na' '10' '300' '600' '70' '90' '20' '202800' '130' '50' '726750'\n",
      " '340' '30' '11460' '100' '4300' '200' '1610' '150' '110' '15940' '140'\n",
      " '160' '260' '890' '4410' '240' '60' '80' '450' '1360' '1050' '4450' '740'\n",
      " '220' '420' '120' '1840' '40' '203840' '76720' '490' '250' '32310' '3500'\n",
      " '270' '6670' '2640' '45600' '210' '190' '8090' '15270' '230' '710' '380'\n",
      " '280' '2820' '2060' '6470' '720' '4280' '310' '3720' '500' '170' '10680'\n",
      " '7080' '1220' '1090' '1320' '790']\n",
      "Unique values in column 'dk_000': ['0' 'na' '40312' '154368' '950336' '39026' '1584' '6932' '556' '712552'\n",
      " '14' '160' '114' '130394' '48674' '58' '23794' '3157490' '1059940' '6'\n",
      " '1114' '260' '123378' '23902' '1890' '54' '2752980' '4358' '92264' '2664'\n",
      " '752' '214252' '218' '1698' '1080722' '3508' '572' '612' '845656' '320'\n",
      " '6598' '275590' '2340' '1803194' '204' '20388' '774' '38904' '2250' '272'\n",
      " '5376' '1107944' '1663662' '886' '3589808' '16' '322192' '418' '198466'\n",
      " '1220' '14372' '10' '346' '4' '744' '884' '1022' '24' '9920' '3720' '142'\n",
      " '187966' '184' '402452' '2' '2576' '38004' '10076' '182' '108634' '144'\n",
      " '2446' '8' '28' '508' '674' '870' '56' '12854' '68' '116' '616' '591376'\n",
      " '3452224' '654' '184596' '544' '2701592' '152' '6456' '1907366' '82'\n",
      " '890990' '694338' '200' '3174' '72' '302' '397150' '502' '20450' '5466'\n",
      " '43828' '146' '8030' '470528' '30486' '791060' '1458' '66090' '2972294'\n",
      " '86' '53384' '4736' '32' '500' '304' '713684' '290' '44' '1171130'\n",
      " '602318' '310' '31916' '34' '25254' '88' '519900' '395282' '423968'\n",
      " '2512' '27146' '240' '463270' '18' '1192' '62' '116100' '52676' '113500'\n",
      " '12688' '965532' '12' '7550' '2040428' '2845188' '23238' '9626' '29664'\n",
      " '2052932' '1396' '38' '98' '192396' '820' '214' '172402' '46500' '84806'\n",
      " '1563164' '2897940' '4814' '41296' '564504' '4834786' '62874' '1164726'\n",
      " '2688' '3440056' '406' '368348' '7702' '30' '5646' '18722' '5483574'\n",
      " '718132' '736' '956' '15298' '363332' '1575216' '394' '3052' '50828'\n",
      " '284140' '23184' '298' '2950546' '68886' '95266' '613396' '4164980'\n",
      " '2976' '4434' '9584' '398' '98448' '1160' '50422' '27634' '71818' '100'\n",
      " '7318' '166' '376' '20' '36730' '112488' '607658' '2996' '1964' '3638'\n",
      " '10572' '15770' '402' '636' '156' '2230' '155520' '18872' '958' '15416'\n",
      " '2364918' '2752862' '332' '908' '10200' '279542' '22' '34720' '1050738'\n",
      " '1300' '70166' '33968' '128' '22416' '340' '3146' '7636' '929114'\n",
      " '150048' '1220506' '37890' '9256' '15786' '1110740']\n",
      "Unique values in column 'dl_000': ['0' 'na' '1600' '49522620' '7083520' '2932780' '535640' '34890'\n",
      " '20537750' '1520' '30835780' '11006580' '1610' '240' '1060' '31820'\n",
      " '780570' '20' '8731640' '1550' '160' '37150430' '3197220' '3302340'\n",
      " '5081550' '186380' '540' '1410' '5580060' '1670800' '15202350' '33060'\n",
      " '14392640' '60901670' '1570' '26017100' '218480' '100' '7045100'\n",
      " '31154550' '38301560' '450' '11560' '33160' '415340' '6006970' '28979160'\n",
      " '569820' '785920' '60' '1230' '12110' '130' '1452310' '43370880' '1070'\n",
      " '358980' '590' '1900' '920' '180' '60396920' '1290' '70' '7522900'\n",
      " '642520' '410' '1950590' '7300' '10' '630' '512920' '7403680' '103858120'\n",
      " '230' '19732170' '52509110' '2380' '41010' '2840' '1148220' '257570'\n",
      " '822360' '25620' '423510' '30800' '52810' '19155800' '170' '1100' '4580'\n",
      " '40' '7920' '2172210' '1260' '2900' '4047340' '480' '2200' '90'\n",
      " '87475810' '3200' '2650' '282080' '1500' '21520' '2610' '2830' '840'\n",
      " '2420' '12098170' '1202220' '5360' '21290610' '3000' '18523700' '5305650'\n",
      " '23930' '16870' '6250' '4084020' '250' '18310' '2875840' '110' '16640'\n",
      " '30952630' '26269190' '4040' '24609770' '17370' '61660' '31670' '9530030'\n",
      " '57655820' '80' '66010' '558820' '20500' '2546290' '2687100' '120'\n",
      " '468160' '2022650' '40679340' '1120950' '3050' '13170' '8309940' '1990'\n",
      " '22780' '50' '12622380' '600' '420' '1680' '6384590' '1080' '6265710'\n",
      " '47734140' '215100' '5070' '11400' '1860' '1370' '549440' '5140'\n",
      " '3648860' '520' '25020' '19220' '2440' '2360' '984040' '4480650' '96500'\n",
      " '9042570' '880' '1530' '2140' '810' '7956550']\n",
      "Unique values in column 'dm_000': ['0' 'na' '3112' '11610112' '531532' '376924' '105090' '10176' '5805478'\n",
      " '120420' '9057584' '3131392' '45720' '89618' '288728' '5748' '256352'\n",
      " '42' '18' '8' '1838116' '16' '47574' '7842' '3542' '7519228' '166'\n",
      " '2544130' '4925928' '1531310' '2542448' '1396' '125404' '2202854'\n",
      " '117368' '4982828' '6882' '4257320' '10242498' '34838' '4983388'\n",
      " '23697916' '70588' '478' '2391740' '8927400' '5858200' '109266' '32'\n",
      " '79074' '7800' '1610272' '1511478' '8844466' '155218' '261888' '142' '14'\n",
      " '28' '2142' '802' '107628' '151448' '124338' '13812488' '123802' '71482'\n",
      " '78650' '4412' '52442' '58' '15439782' '1398' '2088' '1197312' '124516'\n",
      " '47828' '546632' '15560' '74' '214' '1330' '90' '19594' '278' '89938'\n",
      " '180646' '2203470' '14239782' '178646' '3850706' '15530894' '2284'\n",
      " '403430' '88406' '74310' '109180' '184' '315328' '136746' '13240196'\n",
      " '6124' '20884' '6131652' '1368' '59768' '15434342' '27956' '2986' '5710'\n",
      " '95552' '535804' '39476' '142158' '138' '254' '769386' '51836' '40022'\n",
      " '286' '18523316' '2292' '153598' '59776' '6' '16892' '60162' '23680'\n",
      " '4022' '3976' '24932' '1862372' '109784' '137158' '8466' '4742728' '36'\n",
      " '13692' '5004382' '1571518' '3274' '87676' '113516' '25946' '1536872'\n",
      " '190' '154432' '6131532' '1146118' '8004' '116' '111160' '13674'\n",
      " '5148894' '3023356' '2753916' '12' '5408028' '43050' '2363536' '5448'\n",
      " '1824936' '10' '16257236' '200' '28224' '15070' '61844' '2502830' '304'\n",
      " '5178142' '255718' '51348' '73726' '126072' '10074388' '4' '110296'\n",
      " '1121970' '63230' '2266658' '56768' '89226' '2988' '1168' '80232'\n",
      " '3240332' '65274' '22676' '2342498' '1776362' '7098' '1577774' '6675318'\n",
      " '27238' '124838' '1418' '113928' '13454' '69434' '150220' '26' '1044'\n",
      " '61676' '1318544' '103728' '44232' '96138' '41602' '105704' '272' '226'\n",
      " '347152' '3897440' '89328' '2151696' '2018' '126040' '996' '47238' '4590'\n",
      " '2149418']\n",
      "Unique values in column 'dn_000': ['62282' '33736' '13876' ... '26454' '62846' '79230']\n",
      "Unique values in column 'do_000': ['85908' '36946' '38182' ... '54410' '137050' '37162']\n",
      "Unique values in column 'dp_000': ['32790' '5936' '8138' ... '10100' '27546' '18388']\n",
      "Unique values in column 'dq_000': ['0' '2014' '2396' ... '2452470' '23426' '16630']\n",
      "Unique values in column 'dr_000': ['0' '370' '796' ... '893020' '2592' '3774']\n",
      "Unique values in column 'ds_000': ['202710' '103330' '65772' ... '132418' '265640' '79872']\n",
      "Unique values in column 'dt_000': ['37928' '16254' '10534' ... '19410' '34814' '54496']\n",
      "Unique values in column 'du_000': ['14745580' '4510080' '300240' ... '470800' '823720' '25232340']\n",
      "Unique values in column 'dv_000': ['1876644' '868538' '48028' ... '82346' '5648346' '17080']\n",
      "Unique values in column 'dx_000': ['0' '20174' '98334' ... '165674' '59198' '44500']\n",
      "Unique values in column 'dy_000': ['0' '44' '27588' ... '13964' '6350' '16050']\n",
      "Unique values in column 'dz_000': ['0' 'na' '42' '2' '8' '12' '4' '14' '52' '78' '6' '348' '162' '16' '32'\n",
      " '62' '64' '10' '34' '112' '182' '22' '514' '324' '512' '48' '44' '178'\n",
      " '20' '1212' '274' '154' '104' '1414' '106' '38' '30' '92' '122' '36' '28'\n",
      " '904' '136' '18' '276' '428' '940' '118']\n",
      "Unique values in column 'ea_000': ['0' 'na' '48' '30' '32' '74' '6' '2' '4' '14' '18' '22' '10' '86' '310'\n",
      " '26' '8' '224' '16' '44' '482' '180' '246' '78' '46' '238' '12' '58'\n",
      " '150' '66' '178' '360' '136' '88' '50' '110' '42' '706' '38' '274' '28'\n",
      " '126' '890' '208' '72' '34' '200' '40' '60' '220' '1416' '158' '122'\n",
      " '1002' '90' '68' '254' '1156' '2308' '140' '106' '256' '80' '114' '36'\n",
      " '98' '152' '20' '2024' '108' '2160' '96' '24' '330' '8506' '306' '70'\n",
      " '128' '190' '548' '926' '100' '148' '390' '232' '344' '512' '2956' '1202'\n",
      " '1460' '668' '204' '1822' '76' '142' '94' '1392' '2134' '54' '702' '258'\n",
      " '102' '174' '130' '82' '56' '62' '590' '544' '562' '112' '1606' '164'\n",
      " '252' '52' '1502' '3342' '388' '104' '462' '236' '64' '176' '2546' '188'\n",
      " '290' '280' '210' '146' '2754' '696' '244' '276' '398' '124']\n",
      "Unique values in column 'eb_000': ['2801180' '3477820' '1040120' ... '1285980' '39881280' '39221060']\n",
      "Unique values in column 'ec_00': ['2445.8' '2211.76' '1018.64' ... '786.42' '2912.04' '1659.7']\n",
      "Unique values in column 'ed_000': ['2712' '2334' '1020' ... '7492' '5844' '22814']\n",
      "Unique values in column 'ee_000': ['965866' '664504' '262032' ... '1608808' '1180714' '409798']\n",
      "Unique values in column 'ee_001': ['1706908' '824154' '453378' ... '15024' '1709450' '686416']\n",
      "Unique values in column 'ee_002': ['1240520' '421400' '277378' ... '312426' '998500' '699352']\n",
      "Unique values in column 'ee_003': ['493384' '178064' '159812' ... '6760' '222654' '183200']\n",
      "Unique values in column 'ee_004': ['721044' '293306' '423992' ... '21126' '347378' '344546']\n",
      "Unique values in column 'ee_005': ['469792' '245416' '409564' ... '1218244' '68424' '254068']\n",
      "Unique values in column 'ee_006': ['339156' '133654' '320746' ... '1019768' '194440' '225148']\n",
      "Unique values in column 'ee_007': ['157956' '81140' '158022' ... '157636' '717762' '158304']\n",
      "Unique values in column 'ee_008': ['73224' '97576' '95128' ... '898642' '802280' '170384']\n",
      "Unique values in column 'ee_009': ['0' '1500' '514' ... '33338' '28588' '388422']\n"
     ]
    },
    {
     "name": "stdout",
     "output_type": "stream",
     "text": [
      "Unique values in column 'ef_000': ['0' '4' 'na' '2' '8' '6' '84' '22' '134' '26' '10' '350' '320' '40' '30'\n",
      " '20' '482' '166' '12' '276' '252' '18' '82' '14' '236' '144' '86' '362'\n",
      " '74']\n",
      "Unique values in column 'eg_000': ['0' '32' 'na' '164' '54' '4' '2' '10' '6' '14' '12' '8' '144' '68' '86'\n",
      " '26' '20' '28' '16' '34' '94' '222' '36' '892' '48' '72' '152' '78' '910'\n",
      " '70' '172' '46' '80' '182' '24' '56' '102' '430' '42' '18' '162' '40'\n",
      " '200' '1146' '44' '108' '92' '22' '606' '416']\n"
     ]
    }
   ],
   "source": [
    "string_columns = df.select_dtypes(include=['object'])\n",
    "\n",
    "# Loop through the selected string columns and print unique values\n",
    "for column in string_columns:\n",
    "    unique_values = df[column].unique()\n",
    "    print(f\"Unique values in column '{column}': {unique_values}\")"
   ]
  },
  {
   "cell_type": "code",
   "execution_count": 14,
   "id": "064ba73c",
   "metadata": {
    "colab": {
     "base_uri": "https://localhost:8080/",
     "height": 300
    },
    "id": "064ba73c",
    "outputId": "6dab98a7-2924-473c-c968-786151df2827"
   },
   "outputs": [
    {
     "data": {
      "text/html": [
       "<div>\n",
       "<style scoped>\n",
       "    .dataframe tbody tr th:only-of-type {\n",
       "        vertical-align: middle;\n",
       "    }\n",
       "\n",
       "    .dataframe tbody tr th {\n",
       "        vertical-align: top;\n",
       "    }\n",
       "\n",
       "    .dataframe thead th {\n",
       "        text-align: right;\n",
       "    }\n",
       "</style>\n",
       "<table border=\"1\" class=\"dataframe\">\n",
       "  <thead>\n",
       "    <tr style=\"text-align: right;\">\n",
       "      <th></th>\n",
       "      <th>aa_000</th>\n",
       "    </tr>\n",
       "  </thead>\n",
       "  <tbody>\n",
       "    <tr>\n",
       "      <th>count</th>\n",
       "      <td>6.000000e+04</td>\n",
       "    </tr>\n",
       "    <tr>\n",
       "      <th>mean</th>\n",
       "      <td>5.933650e+04</td>\n",
       "    </tr>\n",
       "    <tr>\n",
       "      <th>std</th>\n",
       "      <td>1.454301e+05</td>\n",
       "    </tr>\n",
       "    <tr>\n",
       "      <th>min</th>\n",
       "      <td>0.000000e+00</td>\n",
       "    </tr>\n",
       "    <tr>\n",
       "      <th>25%</th>\n",
       "      <td>8.340000e+02</td>\n",
       "    </tr>\n",
       "    <tr>\n",
       "      <th>50%</th>\n",
       "      <td>3.077600e+04</td>\n",
       "    </tr>\n",
       "    <tr>\n",
       "      <th>75%</th>\n",
       "      <td>4.866800e+04</td>\n",
       "    </tr>\n",
       "    <tr>\n",
       "      <th>max</th>\n",
       "      <td>2.746564e+06</td>\n",
       "    </tr>\n",
       "  </tbody>\n",
       "</table>\n",
       "</div>"
      ],
      "text/plain": [
       "             aa_000\n",
       "count  6.000000e+04\n",
       "mean   5.933650e+04\n",
       "std    1.454301e+05\n",
       "min    0.000000e+00\n",
       "25%    8.340000e+02\n",
       "50%    3.077600e+04\n",
       "75%    4.866800e+04\n",
       "max    2.746564e+06"
      ]
     },
     "execution_count": 14,
     "metadata": {},
     "output_type": "execute_result"
    }
   ],
   "source": [
    "df2 = df.replace(to_replace=['nan', 'na'], value=np.NaN)\n",
    "df2.describe()"
   ]
  },
  {
   "cell_type": "markdown",
   "id": "x9szG0Tu4Ngr",
   "metadata": {
    "id": "x9szG0Tu4Ngr"
   },
   "source": [
    "> 2.2. Data types cleaning"
   ]
  },
  {
   "cell_type": "code",
   "execution_count": 15,
   "id": "52323aa9",
   "metadata": {
    "colab": {
     "base_uri": "https://localhost:8080/"
    },
    "id": "52323aa9",
    "outputId": "7c2ef2c2-bf0e-44f6-c0f1-8f06193a0cb8"
   },
   "outputs": [
    {
     "name": "stdout",
     "output_type": "stream",
     "text": [
      "class     object\n",
      "aa_000     int64\n",
      "ab_000    object\n",
      "ac_000    object\n",
      "ad_000    object\n",
      "           ...  \n",
      "ee_007    object\n",
      "ee_008    object\n",
      "ee_009    object\n",
      "ef_000    object\n",
      "eg_000    object\n",
      "Length: 171, dtype: object\n"
     ]
    }
   ],
   "source": [
    "column_dtypes = df2.dtypes\n",
    "\n",
    "# Print the data types\n",
    "print(column_dtypes)"
   ]
  },
  {
   "cell_type": "code",
   "execution_count": 16,
   "id": "a5e52a1f",
   "metadata": {
    "colab": {
     "base_uri": "https://localhost:8080/",
     "height": 443
    },
    "id": "a5e52a1f",
    "outputId": "dd1a963b-0888-4c4c-9d29-760de1db631b"
   },
   "outputs": [
    {
     "data": {
      "text/html": [
       "<div>\n",
       "<style scoped>\n",
       "    .dataframe tbody tr th:only-of-type {\n",
       "        vertical-align: middle;\n",
       "    }\n",
       "\n",
       "    .dataframe tbody tr th {\n",
       "        vertical-align: top;\n",
       "    }\n",
       "\n",
       "    .dataframe thead th {\n",
       "        text-align: right;\n",
       "    }\n",
       "</style>\n",
       "<table border=\"1\" class=\"dataframe\">\n",
       "  <thead>\n",
       "    <tr style=\"text-align: right;\">\n",
       "      <th></th>\n",
       "      <th>class</th>\n",
       "      <th>aa_000</th>\n",
       "      <th>ab_000</th>\n",
       "      <th>ac_000</th>\n",
       "      <th>ad_000</th>\n",
       "      <th>ae_000</th>\n",
       "      <th>af_000</th>\n",
       "      <th>ag_000</th>\n",
       "      <th>ag_001</th>\n",
       "      <th>ag_002</th>\n",
       "      <th>...</th>\n",
       "      <th>ee_002</th>\n",
       "      <th>ee_003</th>\n",
       "      <th>ee_004</th>\n",
       "      <th>ee_005</th>\n",
       "      <th>ee_006</th>\n",
       "      <th>ee_007</th>\n",
       "      <th>ee_008</th>\n",
       "      <th>ee_009</th>\n",
       "      <th>ef_000</th>\n",
       "      <th>eg_000</th>\n",
       "    </tr>\n",
       "  </thead>\n",
       "  <tbody>\n",
       "    <tr>\n",
       "      <th>count</th>\n",
       "      <td>60000</td>\n",
       "      <td>6.000000e+04</td>\n",
       "      <td>13671</td>\n",
       "      <td>56665</td>\n",
       "      <td>45139</td>\n",
       "      <td>57500</td>\n",
       "      <td>57500</td>\n",
       "      <td>59329</td>\n",
       "      <td>59329</td>\n",
       "      <td>59329</td>\n",
       "      <td>...</td>\n",
       "      <td>59329</td>\n",
       "      <td>59329</td>\n",
       "      <td>59329</td>\n",
       "      <td>59329</td>\n",
       "      <td>59329</td>\n",
       "      <td>59329</td>\n",
       "      <td>59329</td>\n",
       "      <td>59329</td>\n",
       "      <td>57276</td>\n",
       "      <td>57277</td>\n",
       "    </tr>\n",
       "    <tr>\n",
       "      <th>unique</th>\n",
       "      <td>2</td>\n",
       "      <td>NaN</td>\n",
       "      <td>29</td>\n",
       "      <td>2061</td>\n",
       "      <td>1886</td>\n",
       "      <td>333</td>\n",
       "      <td>418</td>\n",
       "      <td>154</td>\n",
       "      <td>617</td>\n",
       "      <td>2422</td>\n",
       "      <td>...</td>\n",
       "      <td>34488</td>\n",
       "      <td>31711</td>\n",
       "      <td>35188</td>\n",
       "      <td>36288</td>\n",
       "      <td>31795</td>\n",
       "      <td>30469</td>\n",
       "      <td>24213</td>\n",
       "      <td>9724</td>\n",
       "      <td>28</td>\n",
       "      <td>49</td>\n",
       "    </tr>\n",
       "    <tr>\n",
       "      <th>top</th>\n",
       "      <td>neg</td>\n",
       "      <td>NaN</td>\n",
       "      <td>0</td>\n",
       "      <td>0</td>\n",
       "      <td>0</td>\n",
       "      <td>0</td>\n",
       "      <td>0</td>\n",
       "      <td>0</td>\n",
       "      <td>0</td>\n",
       "      <td>0</td>\n",
       "      <td>...</td>\n",
       "      <td>0</td>\n",
       "      <td>0</td>\n",
       "      <td>0</td>\n",
       "      <td>0</td>\n",
       "      <td>0</td>\n",
       "      <td>0</td>\n",
       "      <td>0</td>\n",
       "      <td>0</td>\n",
       "      <td>0</td>\n",
       "      <td>0</td>\n",
       "    </tr>\n",
       "    <tr>\n",
       "      <th>freq</th>\n",
       "      <td>59000</td>\n",
       "      <td>NaN</td>\n",
       "      <td>10977</td>\n",
       "      <td>8752</td>\n",
       "      <td>2009</td>\n",
       "      <td>55543</td>\n",
       "      <td>55476</td>\n",
       "      <td>59133</td>\n",
       "      <td>58587</td>\n",
       "      <td>56181</td>\n",
       "      <td>...</td>\n",
       "      <td>1364</td>\n",
       "      <td>1557</td>\n",
       "      <td>1797</td>\n",
       "      <td>2814</td>\n",
       "      <td>4458</td>\n",
       "      <td>7898</td>\n",
       "      <td>17280</td>\n",
       "      <td>31863</td>\n",
       "      <td>57021</td>\n",
       "      <td>56794</td>\n",
       "    </tr>\n",
       "    <tr>\n",
       "      <th>mean</th>\n",
       "      <td>NaN</td>\n",
       "      <td>5.933650e+04</td>\n",
       "      <td>NaN</td>\n",
       "      <td>NaN</td>\n",
       "      <td>NaN</td>\n",
       "      <td>NaN</td>\n",
       "      <td>NaN</td>\n",
       "      <td>NaN</td>\n",
       "      <td>NaN</td>\n",
       "      <td>NaN</td>\n",
       "      <td>...</td>\n",
       "      <td>NaN</td>\n",
       "      <td>NaN</td>\n",
       "      <td>NaN</td>\n",
       "      <td>NaN</td>\n",
       "      <td>NaN</td>\n",
       "      <td>NaN</td>\n",
       "      <td>NaN</td>\n",
       "      <td>NaN</td>\n",
       "      <td>NaN</td>\n",
       "      <td>NaN</td>\n",
       "    </tr>\n",
       "    <tr>\n",
       "      <th>std</th>\n",
       "      <td>NaN</td>\n",
       "      <td>1.454301e+05</td>\n",
       "      <td>NaN</td>\n",
       "      <td>NaN</td>\n",
       "      <td>NaN</td>\n",
       "      <td>NaN</td>\n",
       "      <td>NaN</td>\n",
       "      <td>NaN</td>\n",
       "      <td>NaN</td>\n",
       "      <td>NaN</td>\n",
       "      <td>...</td>\n",
       "      <td>NaN</td>\n",
       "      <td>NaN</td>\n",
       "      <td>NaN</td>\n",
       "      <td>NaN</td>\n",
       "      <td>NaN</td>\n",
       "      <td>NaN</td>\n",
       "      <td>NaN</td>\n",
       "      <td>NaN</td>\n",
       "      <td>NaN</td>\n",
       "      <td>NaN</td>\n",
       "    </tr>\n",
       "    <tr>\n",
       "      <th>min</th>\n",
       "      <td>NaN</td>\n",
       "      <td>0.000000e+00</td>\n",
       "      <td>NaN</td>\n",
       "      <td>NaN</td>\n",
       "      <td>NaN</td>\n",
       "      <td>NaN</td>\n",
       "      <td>NaN</td>\n",
       "      <td>NaN</td>\n",
       "      <td>NaN</td>\n",
       "      <td>NaN</td>\n",
       "      <td>...</td>\n",
       "      <td>NaN</td>\n",
       "      <td>NaN</td>\n",
       "      <td>NaN</td>\n",
       "      <td>NaN</td>\n",
       "      <td>NaN</td>\n",
       "      <td>NaN</td>\n",
       "      <td>NaN</td>\n",
       "      <td>NaN</td>\n",
       "      <td>NaN</td>\n",
       "      <td>NaN</td>\n",
       "    </tr>\n",
       "    <tr>\n",
       "      <th>25%</th>\n",
       "      <td>NaN</td>\n",
       "      <td>8.340000e+02</td>\n",
       "      <td>NaN</td>\n",
       "      <td>NaN</td>\n",
       "      <td>NaN</td>\n",
       "      <td>NaN</td>\n",
       "      <td>NaN</td>\n",
       "      <td>NaN</td>\n",
       "      <td>NaN</td>\n",
       "      <td>NaN</td>\n",
       "      <td>...</td>\n",
       "      <td>NaN</td>\n",
       "      <td>NaN</td>\n",
       "      <td>NaN</td>\n",
       "      <td>NaN</td>\n",
       "      <td>NaN</td>\n",
       "      <td>NaN</td>\n",
       "      <td>NaN</td>\n",
       "      <td>NaN</td>\n",
       "      <td>NaN</td>\n",
       "      <td>NaN</td>\n",
       "    </tr>\n",
       "    <tr>\n",
       "      <th>50%</th>\n",
       "      <td>NaN</td>\n",
       "      <td>3.077600e+04</td>\n",
       "      <td>NaN</td>\n",
       "      <td>NaN</td>\n",
       "      <td>NaN</td>\n",
       "      <td>NaN</td>\n",
       "      <td>NaN</td>\n",
       "      <td>NaN</td>\n",
       "      <td>NaN</td>\n",
       "      <td>NaN</td>\n",
       "      <td>...</td>\n",
       "      <td>NaN</td>\n",
       "      <td>NaN</td>\n",
       "      <td>NaN</td>\n",
       "      <td>NaN</td>\n",
       "      <td>NaN</td>\n",
       "      <td>NaN</td>\n",
       "      <td>NaN</td>\n",
       "      <td>NaN</td>\n",
       "      <td>NaN</td>\n",
       "      <td>NaN</td>\n",
       "    </tr>\n",
       "    <tr>\n",
       "      <th>75%</th>\n",
       "      <td>NaN</td>\n",
       "      <td>4.866800e+04</td>\n",
       "      <td>NaN</td>\n",
       "      <td>NaN</td>\n",
       "      <td>NaN</td>\n",
       "      <td>NaN</td>\n",
       "      <td>NaN</td>\n",
       "      <td>NaN</td>\n",
       "      <td>NaN</td>\n",
       "      <td>NaN</td>\n",
       "      <td>...</td>\n",
       "      <td>NaN</td>\n",
       "      <td>NaN</td>\n",
       "      <td>NaN</td>\n",
       "      <td>NaN</td>\n",
       "      <td>NaN</td>\n",
       "      <td>NaN</td>\n",
       "      <td>NaN</td>\n",
       "      <td>NaN</td>\n",
       "      <td>NaN</td>\n",
       "      <td>NaN</td>\n",
       "    </tr>\n",
       "    <tr>\n",
       "      <th>max</th>\n",
       "      <td>NaN</td>\n",
       "      <td>2.746564e+06</td>\n",
       "      <td>NaN</td>\n",
       "      <td>NaN</td>\n",
       "      <td>NaN</td>\n",
       "      <td>NaN</td>\n",
       "      <td>NaN</td>\n",
       "      <td>NaN</td>\n",
       "      <td>NaN</td>\n",
       "      <td>NaN</td>\n",
       "      <td>...</td>\n",
       "      <td>NaN</td>\n",
       "      <td>NaN</td>\n",
       "      <td>NaN</td>\n",
       "      <td>NaN</td>\n",
       "      <td>NaN</td>\n",
       "      <td>NaN</td>\n",
       "      <td>NaN</td>\n",
       "      <td>NaN</td>\n",
       "      <td>NaN</td>\n",
       "      <td>NaN</td>\n",
       "    </tr>\n",
       "  </tbody>\n",
       "</table>\n",
       "<p>11 rows × 171 columns</p>\n",
       "</div>"
      ],
      "text/plain": [
       "        class        aa_000 ab_000 ac_000 ad_000 ae_000 af_000 ag_000 ag_001  \\\n",
       "count   60000  6.000000e+04  13671  56665  45139  57500  57500  59329  59329   \n",
       "unique      2           NaN     29   2061   1886    333    418    154    617   \n",
       "top       neg           NaN      0      0      0      0      0      0      0   \n",
       "freq    59000           NaN  10977   8752   2009  55543  55476  59133  58587   \n",
       "mean      NaN  5.933650e+04    NaN    NaN    NaN    NaN    NaN    NaN    NaN   \n",
       "std       NaN  1.454301e+05    NaN    NaN    NaN    NaN    NaN    NaN    NaN   \n",
       "min       NaN  0.000000e+00    NaN    NaN    NaN    NaN    NaN    NaN    NaN   \n",
       "25%       NaN  8.340000e+02    NaN    NaN    NaN    NaN    NaN    NaN    NaN   \n",
       "50%       NaN  3.077600e+04    NaN    NaN    NaN    NaN    NaN    NaN    NaN   \n",
       "75%       NaN  4.866800e+04    NaN    NaN    NaN    NaN    NaN    NaN    NaN   \n",
       "max       NaN  2.746564e+06    NaN    NaN    NaN    NaN    NaN    NaN    NaN   \n",
       "\n",
       "       ag_002  ... ee_002 ee_003 ee_004 ee_005 ee_006 ee_007 ee_008 ee_009  \\\n",
       "count   59329  ...  59329  59329  59329  59329  59329  59329  59329  59329   \n",
       "unique   2422  ...  34488  31711  35188  36288  31795  30469  24213   9724   \n",
       "top         0  ...      0      0      0      0      0      0      0      0   \n",
       "freq    56181  ...   1364   1557   1797   2814   4458   7898  17280  31863   \n",
       "mean      NaN  ...    NaN    NaN    NaN    NaN    NaN    NaN    NaN    NaN   \n",
       "std       NaN  ...    NaN    NaN    NaN    NaN    NaN    NaN    NaN    NaN   \n",
       "min       NaN  ...    NaN    NaN    NaN    NaN    NaN    NaN    NaN    NaN   \n",
       "25%       NaN  ...    NaN    NaN    NaN    NaN    NaN    NaN    NaN    NaN   \n",
       "50%       NaN  ...    NaN    NaN    NaN    NaN    NaN    NaN    NaN    NaN   \n",
       "75%       NaN  ...    NaN    NaN    NaN    NaN    NaN    NaN    NaN    NaN   \n",
       "max       NaN  ...    NaN    NaN    NaN    NaN    NaN    NaN    NaN    NaN   \n",
       "\n",
       "       ef_000 eg_000  \n",
       "count   57276  57277  \n",
       "unique     28     49  \n",
       "top         0      0  \n",
       "freq    57021  56794  \n",
       "mean      NaN    NaN  \n",
       "std       NaN    NaN  \n",
       "min       NaN    NaN  \n",
       "25%       NaN    NaN  \n",
       "50%       NaN    NaN  \n",
       "75%       NaN    NaN  \n",
       "max       NaN    NaN  \n",
       "\n",
       "[11 rows x 171 columns]"
      ]
     },
     "execution_count": 16,
     "metadata": {},
     "output_type": "execute_result"
    }
   ],
   "source": [
    "df2.describe(include='all')"
   ]
  },
  {
   "cell_type": "markdown",
   "id": "aq7LnYUtwOpO",
   "metadata": {
    "id": "aq7LnYUtwOpO"
   },
   "source": [
    "> 2.3. Renaming of the column label"
   ]
  },
  {
   "cell_type": "code",
   "execution_count": 17,
   "id": "4e3e831b",
   "metadata": {
    "colab": {
     "base_uri": "https://localhost:8080/"
    },
    "id": "4e3e831b",
    "outputId": "accaa599-4f30-455f-91dd-5962aec8010c"
   },
   "outputs": [
    {
     "data": {
      "text/plain": [
       "Index(['classification', 'aa_000', 'ab_000', 'ac_000', 'ad_000', 'ae_000',\n",
       "       'af_000', 'ag_000', 'ag_001', 'ag_002',\n",
       "       ...\n",
       "       'ee_002', 'ee_003', 'ee_004', 'ee_005', 'ee_006', 'ee_007', 'ee_008',\n",
       "       'ee_009', 'ef_000', 'eg_000'],\n",
       "      dtype='object', length=171)"
      ]
     },
     "execution_count": 17,
     "metadata": {},
     "output_type": "execute_result"
    }
   ],
   "source": [
    "df3=df2.rename(columns={\"class\": \"classification\"})\n",
    "df3.columns"
   ]
  },
  {
   "cell_type": "code",
   "execution_count": 18,
   "id": "32f373aa",
   "metadata": {
    "colab": {
     "base_uri": "https://localhost:8080/"
    },
    "id": "32f373aa",
    "outputId": "5a56fec8-401b-4399-b37b-361719ac47d9"
   },
   "outputs": [
    {
     "data": {
      "text/plain": [
       "neg    59000\n",
       "pos     1000\n",
       "Name: classification, dtype: int64"
      ]
     },
     "execution_count": 18,
     "metadata": {},
     "output_type": "execute_result"
    }
   ],
   "source": [
    "df3['classification'].value_counts()"
   ]
  },
  {
   "cell_type": "markdown",
   "id": "cWUNGNjNwpeS",
   "metadata": {
    "id": "cWUNGNjNwpeS"
   },
   "source": [
    "> 2.4. Datatype conversion of the column label."
   ]
  },
  {
   "cell_type": "code",
   "execution_count": 19,
   "id": "7bb59825",
   "metadata": {
    "id": "7bb59825"
   },
   "outputs": [],
   "source": [
    "df3['classification'] = df3.classification.map({'neg':0, 'pos':1})"
   ]
  },
  {
   "cell_type": "code",
   "execution_count": 20,
   "id": "eb8b0f6d",
   "metadata": {
    "colab": {
     "base_uri": "https://localhost:8080/"
    },
    "id": "eb8b0f6d",
    "outputId": "d4c5f373-0e37-4f34-f4a8-d2fa291e70e2"
   },
   "outputs": [
    {
     "data": {
      "text/plain": [
       "0    59000\n",
       "1     1000\n",
       "Name: classification, dtype: int64"
      ]
     },
     "execution_count": 20,
     "metadata": {},
     "output_type": "execute_result"
    }
   ],
   "source": [
    "df3['classification'].value_counts()"
   ]
  },
  {
   "cell_type": "code",
   "execution_count": 21,
   "id": "3dc919bb",
   "metadata": {
    "colab": {
     "base_uri": "https://localhost:8080/",
     "height": 349
    },
    "id": "3dc919bb",
    "outputId": "e6b71746-01ff-4b9f-ea44-7ca67105f27b"
   },
   "outputs": [
    {
     "data": {
      "text/html": [
       "<div>\n",
       "<style scoped>\n",
       "    .dataframe tbody tr th:only-of-type {\n",
       "        vertical-align: middle;\n",
       "    }\n",
       "\n",
       "    .dataframe tbody tr th {\n",
       "        vertical-align: top;\n",
       "    }\n",
       "\n",
       "    .dataframe thead th {\n",
       "        text-align: right;\n",
       "    }\n",
       "</style>\n",
       "<table border=\"1\" class=\"dataframe\">\n",
       "  <thead>\n",
       "    <tr style=\"text-align: right;\">\n",
       "      <th></th>\n",
       "      <th>classification</th>\n",
       "      <th>aa_000</th>\n",
       "      <th>ab_000</th>\n",
       "      <th>ac_000</th>\n",
       "      <th>ad_000</th>\n",
       "      <th>ae_000</th>\n",
       "      <th>af_000</th>\n",
       "      <th>ag_000</th>\n",
       "      <th>ag_001</th>\n",
       "      <th>ag_002</th>\n",
       "      <th>...</th>\n",
       "      <th>ee_002</th>\n",
       "      <th>ee_003</th>\n",
       "      <th>ee_004</th>\n",
       "      <th>ee_005</th>\n",
       "      <th>ee_006</th>\n",
       "      <th>ee_007</th>\n",
       "      <th>ee_008</th>\n",
       "      <th>ee_009</th>\n",
       "      <th>ef_000</th>\n",
       "      <th>eg_000</th>\n",
       "    </tr>\n",
       "  </thead>\n",
       "  <tbody>\n",
       "    <tr>\n",
       "      <th>count</th>\n",
       "      <td>60000.000000</td>\n",
       "      <td>6.000000e+04</td>\n",
       "      <td>13671</td>\n",
       "      <td>56665</td>\n",
       "      <td>45139</td>\n",
       "      <td>57500</td>\n",
       "      <td>57500</td>\n",
       "      <td>59329</td>\n",
       "      <td>59329</td>\n",
       "      <td>59329</td>\n",
       "      <td>...</td>\n",
       "      <td>59329</td>\n",
       "      <td>59329</td>\n",
       "      <td>59329</td>\n",
       "      <td>59329</td>\n",
       "      <td>59329</td>\n",
       "      <td>59329</td>\n",
       "      <td>59329</td>\n",
       "      <td>59329</td>\n",
       "      <td>57276</td>\n",
       "      <td>57277</td>\n",
       "    </tr>\n",
       "    <tr>\n",
       "      <th>unique</th>\n",
       "      <td>NaN</td>\n",
       "      <td>NaN</td>\n",
       "      <td>29</td>\n",
       "      <td>2061</td>\n",
       "      <td>1886</td>\n",
       "      <td>333</td>\n",
       "      <td>418</td>\n",
       "      <td>154</td>\n",
       "      <td>617</td>\n",
       "      <td>2422</td>\n",
       "      <td>...</td>\n",
       "      <td>34488</td>\n",
       "      <td>31711</td>\n",
       "      <td>35188</td>\n",
       "      <td>36288</td>\n",
       "      <td>31795</td>\n",
       "      <td>30469</td>\n",
       "      <td>24213</td>\n",
       "      <td>9724</td>\n",
       "      <td>28</td>\n",
       "      <td>49</td>\n",
       "    </tr>\n",
       "    <tr>\n",
       "      <th>top</th>\n",
       "      <td>NaN</td>\n",
       "      <td>NaN</td>\n",
       "      <td>0</td>\n",
       "      <td>0</td>\n",
       "      <td>0</td>\n",
       "      <td>0</td>\n",
       "      <td>0</td>\n",
       "      <td>0</td>\n",
       "      <td>0</td>\n",
       "      <td>0</td>\n",
       "      <td>...</td>\n",
       "      <td>0</td>\n",
       "      <td>0</td>\n",
       "      <td>0</td>\n",
       "      <td>0</td>\n",
       "      <td>0</td>\n",
       "      <td>0</td>\n",
       "      <td>0</td>\n",
       "      <td>0</td>\n",
       "      <td>0</td>\n",
       "      <td>0</td>\n",
       "    </tr>\n",
       "    <tr>\n",
       "      <th>freq</th>\n",
       "      <td>NaN</td>\n",
       "      <td>NaN</td>\n",
       "      <td>10977</td>\n",
       "      <td>8752</td>\n",
       "      <td>2009</td>\n",
       "      <td>55543</td>\n",
       "      <td>55476</td>\n",
       "      <td>59133</td>\n",
       "      <td>58587</td>\n",
       "      <td>56181</td>\n",
       "      <td>...</td>\n",
       "      <td>1364</td>\n",
       "      <td>1557</td>\n",
       "      <td>1797</td>\n",
       "      <td>2814</td>\n",
       "      <td>4458</td>\n",
       "      <td>7898</td>\n",
       "      <td>17280</td>\n",
       "      <td>31863</td>\n",
       "      <td>57021</td>\n",
       "      <td>56794</td>\n",
       "    </tr>\n",
       "    <tr>\n",
       "      <th>mean</th>\n",
       "      <td>0.016667</td>\n",
       "      <td>5.933650e+04</td>\n",
       "      <td>NaN</td>\n",
       "      <td>NaN</td>\n",
       "      <td>NaN</td>\n",
       "      <td>NaN</td>\n",
       "      <td>NaN</td>\n",
       "      <td>NaN</td>\n",
       "      <td>NaN</td>\n",
       "      <td>NaN</td>\n",
       "      <td>...</td>\n",
       "      <td>NaN</td>\n",
       "      <td>NaN</td>\n",
       "      <td>NaN</td>\n",
       "      <td>NaN</td>\n",
       "      <td>NaN</td>\n",
       "      <td>NaN</td>\n",
       "      <td>NaN</td>\n",
       "      <td>NaN</td>\n",
       "      <td>NaN</td>\n",
       "      <td>NaN</td>\n",
       "    </tr>\n",
       "    <tr>\n",
       "      <th>std</th>\n",
       "      <td>0.128020</td>\n",
       "      <td>1.454301e+05</td>\n",
       "      <td>NaN</td>\n",
       "      <td>NaN</td>\n",
       "      <td>NaN</td>\n",
       "      <td>NaN</td>\n",
       "      <td>NaN</td>\n",
       "      <td>NaN</td>\n",
       "      <td>NaN</td>\n",
       "      <td>NaN</td>\n",
       "      <td>...</td>\n",
       "      <td>NaN</td>\n",
       "      <td>NaN</td>\n",
       "      <td>NaN</td>\n",
       "      <td>NaN</td>\n",
       "      <td>NaN</td>\n",
       "      <td>NaN</td>\n",
       "      <td>NaN</td>\n",
       "      <td>NaN</td>\n",
       "      <td>NaN</td>\n",
       "      <td>NaN</td>\n",
       "    </tr>\n",
       "    <tr>\n",
       "      <th>min</th>\n",
       "      <td>0.000000</td>\n",
       "      <td>0.000000e+00</td>\n",
       "      <td>NaN</td>\n",
       "      <td>NaN</td>\n",
       "      <td>NaN</td>\n",
       "      <td>NaN</td>\n",
       "      <td>NaN</td>\n",
       "      <td>NaN</td>\n",
       "      <td>NaN</td>\n",
       "      <td>NaN</td>\n",
       "      <td>...</td>\n",
       "      <td>NaN</td>\n",
       "      <td>NaN</td>\n",
       "      <td>NaN</td>\n",
       "      <td>NaN</td>\n",
       "      <td>NaN</td>\n",
       "      <td>NaN</td>\n",
       "      <td>NaN</td>\n",
       "      <td>NaN</td>\n",
       "      <td>NaN</td>\n",
       "      <td>NaN</td>\n",
       "    </tr>\n",
       "    <tr>\n",
       "      <th>25%</th>\n",
       "      <td>0.000000</td>\n",
       "      <td>8.340000e+02</td>\n",
       "      <td>NaN</td>\n",
       "      <td>NaN</td>\n",
       "      <td>NaN</td>\n",
       "      <td>NaN</td>\n",
       "      <td>NaN</td>\n",
       "      <td>NaN</td>\n",
       "      <td>NaN</td>\n",
       "      <td>NaN</td>\n",
       "      <td>...</td>\n",
       "      <td>NaN</td>\n",
       "      <td>NaN</td>\n",
       "      <td>NaN</td>\n",
       "      <td>NaN</td>\n",
       "      <td>NaN</td>\n",
       "      <td>NaN</td>\n",
       "      <td>NaN</td>\n",
       "      <td>NaN</td>\n",
       "      <td>NaN</td>\n",
       "      <td>NaN</td>\n",
       "    </tr>\n",
       "    <tr>\n",
       "      <th>50%</th>\n",
       "      <td>0.000000</td>\n",
       "      <td>3.077600e+04</td>\n",
       "      <td>NaN</td>\n",
       "      <td>NaN</td>\n",
       "      <td>NaN</td>\n",
       "      <td>NaN</td>\n",
       "      <td>NaN</td>\n",
       "      <td>NaN</td>\n",
       "      <td>NaN</td>\n",
       "      <td>NaN</td>\n",
       "      <td>...</td>\n",
       "      <td>NaN</td>\n",
       "      <td>NaN</td>\n",
       "      <td>NaN</td>\n",
       "      <td>NaN</td>\n",
       "      <td>NaN</td>\n",
       "      <td>NaN</td>\n",
       "      <td>NaN</td>\n",
       "      <td>NaN</td>\n",
       "      <td>NaN</td>\n",
       "      <td>NaN</td>\n",
       "    </tr>\n",
       "    <tr>\n",
       "      <th>75%</th>\n",
       "      <td>0.000000</td>\n",
       "      <td>4.866800e+04</td>\n",
       "      <td>NaN</td>\n",
       "      <td>NaN</td>\n",
       "      <td>NaN</td>\n",
       "      <td>NaN</td>\n",
       "      <td>NaN</td>\n",
       "      <td>NaN</td>\n",
       "      <td>NaN</td>\n",
       "      <td>NaN</td>\n",
       "      <td>...</td>\n",
       "      <td>NaN</td>\n",
       "      <td>NaN</td>\n",
       "      <td>NaN</td>\n",
       "      <td>NaN</td>\n",
       "      <td>NaN</td>\n",
       "      <td>NaN</td>\n",
       "      <td>NaN</td>\n",
       "      <td>NaN</td>\n",
       "      <td>NaN</td>\n",
       "      <td>NaN</td>\n",
       "    </tr>\n",
       "    <tr>\n",
       "      <th>max</th>\n",
       "      <td>1.000000</td>\n",
       "      <td>2.746564e+06</td>\n",
       "      <td>NaN</td>\n",
       "      <td>NaN</td>\n",
       "      <td>NaN</td>\n",
       "      <td>NaN</td>\n",
       "      <td>NaN</td>\n",
       "      <td>NaN</td>\n",
       "      <td>NaN</td>\n",
       "      <td>NaN</td>\n",
       "      <td>...</td>\n",
       "      <td>NaN</td>\n",
       "      <td>NaN</td>\n",
       "      <td>NaN</td>\n",
       "      <td>NaN</td>\n",
       "      <td>NaN</td>\n",
       "      <td>NaN</td>\n",
       "      <td>NaN</td>\n",
       "      <td>NaN</td>\n",
       "      <td>NaN</td>\n",
       "      <td>NaN</td>\n",
       "    </tr>\n",
       "  </tbody>\n",
       "</table>\n",
       "<p>11 rows × 171 columns</p>\n",
       "</div>"
      ],
      "text/plain": [
       "        classification        aa_000 ab_000 ac_000 ad_000 ae_000 af_000  \\\n",
       "count     60000.000000  6.000000e+04  13671  56665  45139  57500  57500   \n",
       "unique             NaN           NaN     29   2061   1886    333    418   \n",
       "top                NaN           NaN      0      0      0      0      0   \n",
       "freq               NaN           NaN  10977   8752   2009  55543  55476   \n",
       "mean          0.016667  5.933650e+04    NaN    NaN    NaN    NaN    NaN   \n",
       "std           0.128020  1.454301e+05    NaN    NaN    NaN    NaN    NaN   \n",
       "min           0.000000  0.000000e+00    NaN    NaN    NaN    NaN    NaN   \n",
       "25%           0.000000  8.340000e+02    NaN    NaN    NaN    NaN    NaN   \n",
       "50%           0.000000  3.077600e+04    NaN    NaN    NaN    NaN    NaN   \n",
       "75%           0.000000  4.866800e+04    NaN    NaN    NaN    NaN    NaN   \n",
       "max           1.000000  2.746564e+06    NaN    NaN    NaN    NaN    NaN   \n",
       "\n",
       "       ag_000 ag_001 ag_002  ... ee_002 ee_003 ee_004 ee_005 ee_006 ee_007  \\\n",
       "count   59329  59329  59329  ...  59329  59329  59329  59329  59329  59329   \n",
       "unique    154    617   2422  ...  34488  31711  35188  36288  31795  30469   \n",
       "top         0      0      0  ...      0      0      0      0      0      0   \n",
       "freq    59133  58587  56181  ...   1364   1557   1797   2814   4458   7898   \n",
       "mean      NaN    NaN    NaN  ...    NaN    NaN    NaN    NaN    NaN    NaN   \n",
       "std       NaN    NaN    NaN  ...    NaN    NaN    NaN    NaN    NaN    NaN   \n",
       "min       NaN    NaN    NaN  ...    NaN    NaN    NaN    NaN    NaN    NaN   \n",
       "25%       NaN    NaN    NaN  ...    NaN    NaN    NaN    NaN    NaN    NaN   \n",
       "50%       NaN    NaN    NaN  ...    NaN    NaN    NaN    NaN    NaN    NaN   \n",
       "75%       NaN    NaN    NaN  ...    NaN    NaN    NaN    NaN    NaN    NaN   \n",
       "max       NaN    NaN    NaN  ...    NaN    NaN    NaN    NaN    NaN    NaN   \n",
       "\n",
       "       ee_008 ee_009 ef_000 eg_000  \n",
       "count   59329  59329  57276  57277  \n",
       "unique  24213   9724     28     49  \n",
       "top         0      0      0      0  \n",
       "freq    17280  31863  57021  56794  \n",
       "mean      NaN    NaN    NaN    NaN  \n",
       "std       NaN    NaN    NaN    NaN  \n",
       "min       NaN    NaN    NaN    NaN  \n",
       "25%       NaN    NaN    NaN    NaN  \n",
       "50%       NaN    NaN    NaN    NaN  \n",
       "75%       NaN    NaN    NaN    NaN  \n",
       "max       NaN    NaN    NaN    NaN  \n",
       "\n",
       "[11 rows x 171 columns]"
      ]
     },
     "execution_count": 21,
     "metadata": {},
     "output_type": "execute_result"
    }
   ],
   "source": [
    "df3.describe(include='all')"
   ]
  },
  {
   "cell_type": "markdown",
   "id": "7bd99fb3",
   "metadata": {
    "id": "7bd99fb3"
   },
   "source": [
    "> 2.5. NaN values visual analysis and cleaning."
   ]
  },
  {
   "cell_type": "code",
   "execution_count": 22,
   "id": "62271f96",
   "metadata": {
    "colab": {
     "base_uri": "https://localhost:8080/",
     "height": 1000
    },
    "id": "62271f96",
    "outputId": "447d822e-4bfd-4c1a-e9dd-fdb55753b114"
   },
   "outputs": [
    {
     "data": {
      "image/png": "[encoded data removed]",
      "text/plain": [
       "<Figure size 1440x1440 with 2 Axes>"
      ]
     },
     "metadata": {},
     "output_type": "display_data"
    }
   ],
   "source": [
    "sns.set(rc={'figure.figsize':(20,20)})\n",
    "plot = sns.heatmap(df3.isnull())\n",
    "plt.show(plot)"
   ]
  },
  {
   "cell_type": "code",
   "execution_count": 23,
   "id": "24a5696d",
   "metadata": {
    "colab": {
     "base_uri": "https://localhost:8080/",
     "height": 591
    },
    "id": "24a5696d",
    "outputId": "45fba0ee-63ad-47b4-c1bb-942076aaaf57"
   },
   "outputs": [
    {
     "data": {
      "text/plain": [
       "<AxesSubplot:>"
      ]
     },
     "execution_count": 23,
     "metadata": {},
     "output_type": "execute_result"
    },
    {
     "data": {
      "image/png": "[encoded data removed]",
      "text/plain": [
       "<Figure size 720x432 with 1 Axes>"
      ]
     },
     "metadata": {},
     "output_type": "display_data"
    }
   ],
   "source": [
    "df3.isnull().sum().nlargest(20).plot(kind='bar', figsize=(10, 6))"
   ]
  },
  {
   "cell_type": "code",
   "execution_count": 24,
   "id": "1e4716af",
   "metadata": {
    "colab": {
     "base_uri": "https://localhost:8080/"
    },
    "id": "1e4716af",
    "outputId": "753ebde4-a9a9-4869-e566-5f15b968efc7"
   },
   "outputs": [
    {
     "data": {
      "text/plain": [
       "classification    False\n",
       "aa_000            False\n",
       "ab_000             True\n",
       "ac_000             True\n",
       "ad_000             True\n",
       "                  ...  \n",
       "ee_007             True\n",
       "ee_008             True\n",
       "ee_009             True\n",
       "ef_000             True\n",
       "eg_000             True\n",
       "Length: 171, dtype: bool"
      ]
     },
     "execution_count": 24,
     "metadata": {},
     "output_type": "execute_result"
    }
   ],
   "source": [
    "df3.isnull().any()"
   ]
  },
  {
   "cell_type": "code",
   "execution_count": 25,
   "id": "3cf7c50f",
   "metadata": {
    "colab": {
     "base_uri": "https://localhost:8080/"
    },
    "id": "3cf7c50f",
    "outputId": "cb9b8f61-ae64-4e5a-c80a-0b92b2ba1bf2"
   },
   "outputs": [
    {
     "data": {
      "text/plain": [
       "True     169\n",
       "False      2\n",
       "dtype: int64"
      ]
     },
     "execution_count": 25,
     "metadata": {},
     "output_type": "execute_result"
    }
   ],
   "source": [
    "df3.isnull().any().value_counts()"
   ]
  },
  {
   "cell_type": "code",
   "execution_count": 26,
   "id": "5a1fe3d2",
   "metadata": {
    "colab": {
     "base_uri": "https://localhost:8080/"
    },
    "id": "5a1fe3d2",
    "outputId": "dcea0f8a-4117-407d-a0c4-e58907bdad7d"
   },
   "outputs": [
    {
     "data": {
      "text/plain": [
       "classification        0\n",
       "aa_000                0\n",
       "ab_000            46329\n",
       "ac_000             3335\n",
       "ad_000            14861\n",
       "                  ...  \n",
       "ee_007              671\n",
       "ee_008              671\n",
       "ee_009              671\n",
       "ef_000             2724\n",
       "eg_000             2723\n",
       "Length: 171, dtype: int64"
      ]
     },
     "execution_count": 26,
     "metadata": {},
     "output_type": "execute_result"
    }
   ],
   "source": [
    "df3.isnull().sum()"
   ]
  },
  {
   "cell_type": "code",
   "execution_count": 27,
   "id": "76b9d695",
   "metadata": {
    "colab": {
     "base_uri": "https://localhost:8080/"
    },
    "id": "76b9d695",
    "outputId": "31043cbf-feba-42df-a1c3-6118c23f9864"
   },
   "outputs": [
    {
     "data": {
      "text/plain": [
       "br_000    49264\n",
       "bq_000    48722\n",
       "bp_000    47740\n",
       "bo_000    46333\n",
       "ab_000    46329\n",
       "cr_000    46329\n",
       "bn_000    44009\n",
       "bm_000    39549\n",
       "bl_000    27277\n",
       "bk_000    23034\n",
       "dtype: int64"
      ]
     },
     "execution_count": 27,
     "metadata": {},
     "output_type": "execute_result"
    }
   ],
   "source": [
    "df3.isnull().sum().nlargest(10)"
   ]
  },
  {
   "cell_type": "markdown",
   "id": "aZohQDCH44br",
   "metadata": {
    "id": "aZohQDCH44br"
   },
   "source": [
    "### We have decided to removed those columns where the amount of Nan values is more than 70%, in order to have a database the most clear possible to our prediction."
   ]
  },
  {
   "cell_type": "markdown",
   "id": "8f7b4bb4",
   "metadata": {
    "id": "8f7b4bb4"
   },
   "source": [
    "### Columns where missing values are more than 70% -> 60000x0.7=42000"
   ]
  },
  {
   "cell_type": "code",
   "execution_count": 28,
   "id": "1b2f8af5",
   "metadata": {
    "id": "1b2f8af5"
   },
   "outputs": [],
   "source": [
    "min_non_null = 60000*0.7\n",
    "\n",
    "df4 = df3.dropna(axis=1, thresh=min_non_null)"
   ]
  },
  {
   "cell_type": "code",
   "execution_count": 29,
   "id": "0bf7f398",
   "metadata": {},
   "outputs": [
    {
     "name": "stdout",
     "output_type": "stream",
     "text": [
      "<class 'pandas.core.frame.DataFrame'>\n",
      "Int64Index: 60000 entries, 0 to 59999\n",
      "Columns: 161 entries, classification to eg_000\n",
      "dtypes: int64(2), object(159)\n",
      "memory usage: 74.2+ MB\n"
     ]
    }
   ],
   "source": [
    "df4.info()"
   ]
  },
  {
   "cell_type": "code",
   "execution_count": 30,
   "id": "5e8789e8",
   "metadata": {},
   "outputs": [
    {
     "data": {
      "text/plain": [
       "0    59000\n",
       "1     1000\n",
       "Name: classification, dtype: int64"
      ]
     },
     "execution_count": 30,
     "metadata": {},
     "output_type": "execute_result"
    }
   ],
   "source": [
    "df4['classification'].value_counts()"
   ]
  },
  {
   "cell_type": "code",
   "execution_count": 31,
   "id": "3acdbed8",
   "metadata": {
    "colab": {
     "base_uri": "https://localhost:8080/"
    },
    "id": "3acdbed8",
    "outputId": "a6059abe-4f55-4335-a885-831c439312c8"
   },
   "outputs": [
    {
     "name": "stdout",
     "output_type": "stream",
     "text": [
      "<class 'pandas.core.frame.DataFrame'>\n",
      "Int64Index: 60000 entries, 0 to 59999\n",
      "Columns: 161 entries, classification to eg_000\n",
      "dtypes: int64(2), object(159)\n",
      "memory usage: 74.2+ MB\n"
     ]
    }
   ],
   "source": [
    "df4.info()"
   ]
  },
  {
   "cell_type": "code",
   "execution_count": 32,
   "id": "8cd09922",
   "metadata": {
    "colab": {
     "base_uri": "https://localhost:8080/",
     "height": 349
    },
    "id": "8cd09922",
    "outputId": "6451163c-8875-4285-d8f5-e492c729d579"
   },
   "outputs": [
    {
     "data": {
      "text/html": [
       "<div>\n",
       "<style scoped>\n",
       "    .dataframe tbody tr th:only-of-type {\n",
       "        vertical-align: middle;\n",
       "    }\n",
       "\n",
       "    .dataframe tbody tr th {\n",
       "        vertical-align: top;\n",
       "    }\n",
       "\n",
       "    .dataframe thead th {\n",
       "        text-align: right;\n",
       "    }\n",
       "</style>\n",
       "<table border=\"1\" class=\"dataframe\">\n",
       "  <thead>\n",
       "    <tr style=\"text-align: right;\">\n",
       "      <th></th>\n",
       "      <th>classification</th>\n",
       "      <th>aa_000</th>\n",
       "    </tr>\n",
       "  </thead>\n",
       "  <tbody>\n",
       "    <tr>\n",
       "      <th>count</th>\n",
       "      <td>60000.000000</td>\n",
       "      <td>6.000000e+04</td>\n",
       "    </tr>\n",
       "    <tr>\n",
       "      <th>mean</th>\n",
       "      <td>0.016667</td>\n",
       "      <td>5.933650e+04</td>\n",
       "    </tr>\n",
       "    <tr>\n",
       "      <th>std</th>\n",
       "      <td>0.128020</td>\n",
       "      <td>1.454301e+05</td>\n",
       "    </tr>\n",
       "    <tr>\n",
       "      <th>min</th>\n",
       "      <td>0.000000</td>\n",
       "      <td>0.000000e+00</td>\n",
       "    </tr>\n",
       "    <tr>\n",
       "      <th>25%</th>\n",
       "      <td>0.000000</td>\n",
       "      <td>8.340000e+02</td>\n",
       "    </tr>\n",
       "    <tr>\n",
       "      <th>50%</th>\n",
       "      <td>0.000000</td>\n",
       "      <td>3.077600e+04</td>\n",
       "    </tr>\n",
       "    <tr>\n",
       "      <th>75%</th>\n",
       "      <td>0.000000</td>\n",
       "      <td>4.866800e+04</td>\n",
       "    </tr>\n",
       "    <tr>\n",
       "      <th>max</th>\n",
       "      <td>1.000000</td>\n",
       "      <td>2.746564e+06</td>\n",
       "    </tr>\n",
       "  </tbody>\n",
       "</table>\n",
       "</div>"
      ],
      "text/plain": [
       "       classification        aa_000\n",
       "count    60000.000000  6.000000e+04\n",
       "mean         0.016667  5.933650e+04\n",
       "std          0.128020  1.454301e+05\n",
       "min          0.000000  0.000000e+00\n",
       "25%          0.000000  8.340000e+02\n",
       "50%          0.000000  3.077600e+04\n",
       "75%          0.000000  4.866800e+04\n",
       "max          1.000000  2.746564e+06"
      ]
     },
     "execution_count": 32,
     "metadata": {},
     "output_type": "execute_result"
    }
   ],
   "source": [
    "df4.describe()"
   ]
  },
  {
   "cell_type": "code",
   "execution_count": 33,
   "id": "ae146dea",
   "metadata": {
    "colab": {
     "base_uri": "https://localhost:8080/"
    },
    "id": "ae146dea",
    "outputId": "028abbdf-e525-4e44-c35d-f1d7d3c47e60"
   },
   "outputs": [
    {
     "data": {
      "text/plain": [
       "(60000, 171)"
      ]
     },
     "execution_count": 33,
     "metadata": {},
     "output_type": "execute_result"
    }
   ],
   "source": [
    "df3.shape"
   ]
  },
  {
   "cell_type": "code",
   "execution_count": 34,
   "id": "296914e2",
   "metadata": {
    "colab": {
     "base_uri": "https://localhost:8080/"
    },
    "id": "296914e2",
    "outputId": "ad22ab97-412f-48e2-8063-cc7bf207f6ae"
   },
   "outputs": [
    {
     "data": {
      "text/plain": [
       "(60000, 161)"
      ]
     },
     "execution_count": 34,
     "metadata": {},
     "output_type": "execute_result"
    }
   ],
   "source": [
    "df4.shape"
   ]
  },
  {
   "cell_type": "code",
   "execution_count": 35,
   "id": "18c84f2a",
   "metadata": {
    "colab": {
     "base_uri": "https://localhost:8080/"
    },
    "id": "18c84f2a",
    "outputId": "cb23f04c-d1db-4aa2-90be-c098a68bbd67"
   },
   "outputs": [
    {
     "data": {
      "text/plain": [
       "ad_000    14861\n",
       "cf_000    14861\n",
       "cg_000    14861\n",
       "ch_000    14861\n",
       "co_000    14861\n",
       "ct_000    13808\n",
       "cu_000    13808\n",
       "cv_000    13808\n",
       "cx_000    13808\n",
       "cy_000    13808\n",
       "dtype: int64"
      ]
     },
     "execution_count": 35,
     "metadata": {},
     "output_type": "execute_result"
    }
   ],
   "source": [
    "df4.isnull().sum().nlargest(10)"
   ]
  },
  {
   "cell_type": "markdown",
   "id": "58e1c5c7",
   "metadata": {
    "id": "58e1c5c7"
   },
   "source": [
    "> 2.6. Conversion of NaN values using the median."
   ]
  },
  {
   "cell_type": "markdown",
   "id": "DkrDljAmyexJ",
   "metadata": {
    "id": "DkrDljAmyexJ"
   },
   "source": [
    "### We chose to use the median to deal with NaN values because it is more robust, not sensitive to outliers, and therefore used when data is skewed."
   ]
  },
  {
   "cell_type": "code",
   "execution_count": 36,
   "id": "d246c08d",
   "metadata": {
    "id": "d246c08d"
   },
   "outputs": [],
   "source": [
    "df5 = df4\n",
    "medians = df4.median()\n",
    "#df4=df4.fillna(medians, inplace=True)\n",
    "df5=df5.fillna(medians)"
   ]
  },
  {
   "cell_type": "code",
   "execution_count": 37,
   "id": "91b89db2",
   "metadata": {
    "colab": {
     "base_uri": "https://localhost:8080/"
    },
    "id": "91b89db2",
    "outputId": "9c6fbd65-0a27-405e-add0-4b72abec34e4"
   },
   "outputs": [
    {
     "name": "stdout",
     "output_type": "stream",
     "text": [
      "<class 'pandas.core.frame.DataFrame'>\n",
      "Int64Index: 60000 entries, 0 to 59999\n",
      "Columns: 161 entries, classification to eg_000\n",
      "dtypes: int64(2), object(159)\n",
      "memory usage: 74.2+ MB\n"
     ]
    }
   ],
   "source": [
    "df5.info()"
   ]
  },
  {
   "cell_type": "code",
   "execution_count": 38,
   "id": "9c6b9712",
   "metadata": {
    "colab": {
     "base_uri": "https://localhost:8080/"
    },
    "id": "9c6b9712",
    "outputId": "13ae12a3-f3e7-436c-bea9-3520e0f51cf0"
   },
   "outputs": [],
   "source": [
    "df5['classification']=df3['classification']"
   ]
  },
  {
   "cell_type": "code",
   "execution_count": 39,
   "id": "77e647b2",
   "metadata": {
    "colab": {
     "base_uri": "https://localhost:8080/"
    },
    "id": "77e647b2",
    "outputId": "45bf0b1b-faef-4a89-b675-4d9d82a121a4"
   },
   "outputs": [
    {
     "data": {
      "text/plain": [
       "Index(['classification', 'aa_000', 'ac_000', 'ad_000', 'ae_000', 'af_000',\n",
       "       'ag_000', 'ag_001', 'ag_002', 'ag_003',\n",
       "       ...\n",
       "       'ee_002', 'ee_003', 'ee_004', 'ee_005', 'ee_006', 'ee_007', 'ee_008',\n",
       "       'ee_009', 'ef_000', 'eg_000'],\n",
       "      dtype='object', length=161)"
      ]
     },
     "execution_count": 39,
     "metadata": {},
     "output_type": "execute_result"
    }
   ],
   "source": [
    "df5.columns"
   ]
  },
  {
   "cell_type": "code",
   "execution_count": 40,
   "id": "5ef3c5fd",
   "metadata": {
    "colab": {
     "base_uri": "https://localhost:8080/"
    },
    "id": "5ef3c5fd",
    "outputId": "b30c284d-1123-4d20-d402-68b30c277a25"
   },
   "outputs": [
    {
     "name": "stdout",
     "output_type": "stream",
     "text": [
      "<class 'pandas.core.frame.DataFrame'>\n",
      "Int64Index: 60000 entries, 0 to 59999\n",
      "Columns: 161 entries, classification to eg_000\n",
      "dtypes: int64(2), object(159)\n",
      "memory usage: 74.2+ MB\n"
     ]
    }
   ],
   "source": [
    "df5.info()"
   ]
  },
  {
   "cell_type": "code",
   "execution_count": 41,
   "id": "454e835e",
   "metadata": {
    "colab": {
     "base_uri": "https://localhost:8080/"
    },
    "id": "454e835e",
    "outputId": "ba66693c-739e-47ea-d66f-cf160bb50931"
   },
   "outputs": [
    {
     "name": "stdout",
     "output_type": "stream",
     "text": [
      "Percentage of Scania trucks with failures for components not related to the APS \n",
      " 98.33333333333333\n",
      "Percentage of Scania trucks with failures for components related to the APS \n",
      " 1.6666666666666667\n"
     ]
    }
   ],
   "source": [
    "print(\"Percentage of Scania trucks with failures for components not related to the APS \\n\", (df5[df5['classification']== 0].shape[0] / df5.shape[0]) * 100)\n",
    "print(\"Percentage of Scania trucks with failures for components related to the APS \\n\", (df5[df5['classification']== 1].shape[0] / df5.shape[0]) * 100)"
   ]
  },
  {
   "cell_type": "code",
   "execution_count": 42,
   "id": "e34aa985",
   "metadata": {
    "colab": {
     "base_uri": "https://localhost:8080/",
     "height": 1000
    },
    "id": "e34aa985",
    "outputId": "7c2e08d1-1771-4ccc-bece-bfcda114b492"
   },
   "outputs": [
    {
     "data": {
      "image/png": "[encoded data removed]",
      "text/plain": [
       "<Figure size 1440x1440 with 1 Axes>"
      ]
     },
     "metadata": {},
     "output_type": "display_data"
    }
   ],
   "source": [
    "Count = pd.value_counts(df5['classification'], sort = True).sort_index()\n",
    "Count.plot(kind = 'bar')\n",
    "plt.title(\"Components Failure \\n (0) Failures for components not related to the APS | (1) Failures for components related to the APS \")\n",
    "plt.xlabel(\"classification\")\n",
    "plt.ylabel(\"Frecuency\")\n",
    "\n",
    "for index, value in enumerate(Count):\n",
    "    plt.text(index, value, str(value), ha='center', va='bottom')\n",
    "\n",
    "plt.xticks(rotation=360)\n",
    "plt.show()"
   ]
  },
  {
   "cell_type": "markdown",
   "id": "BfFvhU7e2K4E",
   "metadata": {
    "id": "BfFvhU7e2K4E"
   },
   "source": [
    "> 2.8. Data normalization."
   ]
  },
  {
   "cell_type": "markdown",
   "id": "H9Rv5xCE6rvt",
   "metadata": {
    "id": "H9Rv5xCE6rvt"
   },
   "source": [
    "### We have decided to perform data normalization techniques as we aim to use linear classification algorithms that perform better under these conditions."
   ]
  },
  {
   "cell_type": "code",
   "execution_count": 43,
   "id": "6a78f0f9",
   "metadata": {
    "id": "6a78f0f9"
   },
   "outputs": [],
   "source": [
    "scaler = MinMaxScaler()\n",
    "\n",
    "# Fit and transform the numerical data\n",
    "df5[df5.columns] = scaler.fit_transform(df5)"
   ]
  },
  {
   "cell_type": "code",
   "execution_count": 44,
   "id": "17e2e4fd",
   "metadata": {
    "colab": {
     "base_uri": "https://localhost:8080/"
    },
    "id": "17e2e4fd",
    "outputId": "0c69a7db-02bb-426d-fbe1-0f0c8fc2da4f"
   },
   "outputs": [
    {
     "name": "stdout",
     "output_type": "stream",
     "text": [
      "<class 'pandas.core.frame.DataFrame'>\n",
      "Int64Index: 60000 entries, 0 to 59999\n",
      "Columns: 161 entries, classification to eg_000\n",
      "dtypes: float64(161)\n",
      "memory usage: 74.2 MB\n"
     ]
    }
   ],
   "source": [
    "df5.info()"
   ]
  },
  {
   "cell_type": "markdown",
   "id": "vgOUJnEV3mfc",
   "metadata": {
    "id": "vgOUJnEV3mfc"
   },
   "source": [
    "> 2.9. PCA Analysis."
   ]
  },
  {
   "cell_type": "markdown",
   "id": "VLrkCjq07OFq",
   "metadata": {
    "id": "VLrkCjq07OFq"
   },
   "source": [
    "### PCA is a technique that seeks the optimal number of features to achieve the best outcome from our algorithms. Having too many features may lead to poor algorithm performance."
   ]
  },
  {
   "cell_type": "code",
   "execution_count": 45,
   "id": "3710a2ee",
   "metadata": {
    "colab": {
     "base_uri": "https://localhost:8080/",
     "height": 1000
    },
    "id": "3710a2ee",
    "outputId": "46a1b7d5-55e4-4820-b108-640b72dec253"
   },
   "outputs": [
    {
     "data": {
      "image/png": "[encoded data removed]",
      "text/plain": [
       "<Figure size 1440x1440 with 1 Axes>"
      ]
     },
     "metadata": {},
     "output_type": "display_data"
    }
   ],
   "source": [
    "df5_no_label = df5.drop(df5[\"classification\"])\n",
    "pca = PCA().fit(df5_no_label)\n",
    "plt.plot(np.cumsum(pca.explained_variance_ratio_))\n",
    "plt.xlabel('number of components')\n",
    "plt.ylabel('cumulative explained variance');"
   ]
  },
  {
   "cell_type": "markdown",
   "id": "8s5lsutF4_jX",
   "metadata": {
    "id": "8s5lsutF4_jX"
   },
   "source": [
    "### From our PCA analysis, we have determined that the optimal number of features is 80."
   ]
  },
  {
   "cell_type": "code",
   "execution_count": 46,
   "id": "3fdb2e67",
   "metadata": {
    "id": "3fdb2e67"
   },
   "outputs": [],
   "source": [
    "pca = PCA(80)\n",
    "projected = pca.fit_transform(df5_no_label)"
   ]
  },
  {
   "cell_type": "code",
   "execution_count": 47,
   "id": "cadbb45d",
   "metadata": {
    "colab": {
     "base_uri": "https://localhost:8080/"
    },
    "id": "cadbb45d",
    "outputId": "89585e89-9816-4bc0-f813-7246bbf430c1"
   },
   "outputs": [
    {
     "data": {
      "text/plain": [
       "(59998, 80)"
      ]
     },
     "execution_count": 47,
     "metadata": {},
     "output_type": "execute_result"
    }
   ],
   "source": [
    "projected.shape"
   ]
  },
  {
   "cell_type": "code",
   "execution_count": 48,
   "id": "5c07e32a",
   "metadata": {
    "id": "5c07e32a"
   },
   "outputs": [],
   "source": [
    "df5_pca= pd.DataFrame(projected)\n",
    "\n",
    "df5_pca[\"classification\"] = df5[\"classification\"]"
   ]
  },
  {
   "cell_type": "code",
   "execution_count": 49,
   "id": "34d2df96",
   "metadata": {
    "colab": {
     "base_uri": "https://localhost:8080/",
     "height": 235
    },
    "id": "34d2df96",
    "outputId": "c5050872-ea2a-4d5e-b481-9a9134b22c03"
   },
   "outputs": [
    {
     "name": "stdout",
     "output_type": "stream",
     "text": [
      "<class 'pandas.core.frame.DataFrame'>\n",
      "RangeIndex: 59998 entries, 0 to 59997\n",
      "Data columns (total 81 columns):\n",
      " #   Column          Non-Null Count  Dtype  \n",
      "---  ------          --------------  -----  \n",
      " 0   0               59998 non-null  float64\n",
      " 1   1               59998 non-null  float64\n",
      " 2   2               59998 non-null  float64\n",
      " 3   3               59998 non-null  float64\n",
      " 4   4               59998 non-null  float64\n",
      " 5   5               59998 non-null  float64\n",
      " 6   6               59998 non-null  float64\n",
      " 7   7               59998 non-null  float64\n",
      " 8   8               59998 non-null  float64\n",
      " 9   9               59998 non-null  float64\n",
      " 10  10              59998 non-null  float64\n",
      " 11  11              59998 non-null  float64\n",
      " 12  12              59998 non-null  float64\n",
      " 13  13              59998 non-null  float64\n",
      " 14  14              59998 non-null  float64\n",
      " 15  15              59998 non-null  float64\n",
      " 16  16              59998 non-null  float64\n",
      " 17  17              59998 non-null  float64\n",
      " 18  18              59998 non-null  float64\n",
      " 19  19              59998 non-null  float64\n",
      " 20  20              59998 non-null  float64\n",
      " 21  21              59998 non-null  float64\n",
      " 22  22              59998 non-null  float64\n",
      " 23  23              59998 non-null  float64\n",
      " 24  24              59998 non-null  float64\n",
      " 25  25              59998 non-null  float64\n",
      " 26  26              59998 non-null  float64\n",
      " 27  27              59998 non-null  float64\n",
      " 28  28              59998 non-null  float64\n",
      " 29  29              59998 non-null  float64\n",
      " 30  30              59998 non-null  float64\n",
      " 31  31              59998 non-null  float64\n",
      " 32  32              59998 non-null  float64\n",
      " 33  33              59998 non-null  float64\n",
      " 34  34              59998 non-null  float64\n",
      " 35  35              59998 non-null  float64\n",
      " 36  36              59998 non-null  float64\n",
      " 37  37              59998 non-null  float64\n",
      " 38  38              59998 non-null  float64\n",
      " 39  39              59998 non-null  float64\n",
      " 40  40              59998 non-null  float64\n",
      " 41  41              59998 non-null  float64\n",
      " 42  42              59998 non-null  float64\n",
      " 43  43              59998 non-null  float64\n",
      " 44  44              59998 non-null  float64\n",
      " 45  45              59998 non-null  float64\n",
      " 46  46              59998 non-null  float64\n",
      " 47  47              59998 non-null  float64\n",
      " 48  48              59998 non-null  float64\n",
      " 49  49              59998 non-null  float64\n",
      " 50  50              59998 non-null  float64\n",
      " 51  51              59998 non-null  float64\n",
      " 52  52              59998 non-null  float64\n",
      " 53  53              59998 non-null  float64\n",
      " 54  54              59998 non-null  float64\n",
      " 55  55              59998 non-null  float64\n",
      " 56  56              59998 non-null  float64\n",
      " 57  57              59998 non-null  float64\n",
      " 58  58              59998 non-null  float64\n",
      " 59  59              59998 non-null  float64\n",
      " 60  60              59998 non-null  float64\n",
      " 61  61              59998 non-null  float64\n",
      " 62  62              59998 non-null  float64\n",
      " 63  63              59998 non-null  float64\n",
      " 64  64              59998 non-null  float64\n",
      " 65  65              59998 non-null  float64\n",
      " 66  66              59998 non-null  float64\n",
      " 67  67              59998 non-null  float64\n",
      " 68  68              59998 non-null  float64\n",
      " 69  69              59998 non-null  float64\n",
      " 70  70              59998 non-null  float64\n",
      " 71  71              59998 non-null  float64\n",
      " 72  72              59998 non-null  float64\n",
      " 73  73              59998 non-null  float64\n",
      " 74  74              59998 non-null  float64\n",
      " 75  75              59998 non-null  float64\n",
      " 76  76              59998 non-null  float64\n",
      " 77  77              59998 non-null  float64\n",
      " 78  78              59998 non-null  float64\n",
      " 79  79              59998 non-null  float64\n",
      " 80  classification  59998 non-null  float64\n",
      "dtypes: float64(81)\n",
      "memory usage: 37.1 MB\n"
     ]
    }
   ],
   "source": [
    "df5_pca.info()"
   ]
  },
  {
   "cell_type": "code",
   "execution_count": 50,
   "id": "29bf5393",
   "metadata": {
    "colab": {
     "base_uri": "https://localhost:8080/",
     "height": 1000
    },
    "id": "29bf5393",
    "outputId": "83746ff0-881b-4f1d-e453-a4485628acf8"
   },
   "outputs": [
    {
     "data": {
      "image/png": "[encoded data removed]",
      "text/plain": [
       "<Figure size 1440x1440 with 1 Axes>"
      ]
     },
     "metadata": {},
     "output_type": "display_data"
    }
   ],
   "source": [
    "Count = pd.value_counts(df5_pca['classification'], sort = True).sort_index()\n",
    "Count.plot(kind = 'bar')\n",
    "plt.title(\"Components Failure \\n (0) Failures for components not related to the APS | (1) Failures for components related to the APS \")\n",
    "plt.xlabel(\"classification\")\n",
    "plt.ylabel(\"Frecuency\")\n",
    "\n",
    "for index, value in enumerate(Count):\n",
    "    plt.text(index, value, str(value), ha='center', va='bottom')\n",
    "\n",
    "plt.xticks(rotation=360)\n",
    "plt.show()"
   ]
  },
  {
   "cell_type": "code",
   "execution_count": 51,
   "id": "47ca6cdd",
   "metadata": {
    "colab": {
     "base_uri": "https://localhost:8080/"
    },
    "id": "47ca6cdd",
    "outputId": "82bfd36b-4f42-459d-defb-09ce2fbf6bba"
   },
   "outputs": [
    {
     "data": {
      "text/plain": [
       "(59998, 81)"
      ]
     },
     "execution_count": 51,
     "metadata": {},
     "output_type": "execute_result"
    }
   ],
   "source": [
    "df5_pca.shape"
   ]
  },
  {
   "cell_type": "markdown",
   "id": "swbR4sap5UYq",
   "metadata": {
    "id": "swbR4sap5UYq"
   },
   "source": [
    "3. Machine learning classification algorithms analysis."
   ]
  },
  {
   "cell_type": "markdown",
   "id": "RePvs8HB5zEn",
   "metadata": {
    "id": "RePvs8HB5zEn"
   },
   "source": [
    "> 3.1. Classification algorithms performance comparison."
   ]
  },
  {
   "cell_type": "code",
   "execution_count": 52,
   "id": "21bfad2c",
   "metadata": {
    "id": "21bfad2c"
   },
   "outputs": [],
   "source": [
    "df5_array = df5_pca.values"
   ]
  },
  {
   "cell_type": "code",
   "execution_count": 53,
   "id": "53f013e5",
   "metadata": {
    "id": "53f013e5"
   },
   "outputs": [],
   "source": [
    "X = df5_array[:,0:80]\n",
    "y = df5_array[:,80]\n",
    "X_train, X_validation, Y_train, Y_validation = train_test_split(X, y, test_size=0.20, random_state=1)"
   ]
  },
  {
   "cell_type": "code",
   "execution_count": 54,
   "id": "3f8e898b",
   "metadata": {
    "id": "3f8e898b"
   },
   "outputs": [],
   "source": [
    "models = []\n",
    "# models.append(('LR', LogisticRegression(solver='liblinear', multi_class='ovr')))\n",
    "# # models.append(('LDA', LinearDiscriminantAnalysis()))\n",
    "# models.append(('KNN', KNeighborsClassifier()))\n",
    "# models.append(('CART', DecisionTreeClassifier()))\n",
    "# models.append(('NB', GaussianNB()))\n",
    "# models.append(('SVM', SVC(gamma='auto')))\n",
    "models.append(('RF',RandomForestClassifier(n_estimators= 500 , max_depth=10)))"
   ]
  },
  {
   "cell_type": "code",
   "execution_count": null,
   "id": "1be4fbbb",
   "metadata": {
    "colab": {
     "base_uri": "https://localhost:8080/"
    },
    "id": "1be4fbbb",
    "outputId": "5429ebe9-5fa2-4037-cb36-7ba124423ae4"
   },
   "outputs": [],
   "source": [
    "results = []\n",
    "names = []\n",
    "for name, model in models:\n",
    "    kfold = StratifiedKFold(n_splits=10, random_state=1, shuffle=True)\n",
    "    cv_results = cross_val_score(model, X_train, Y_train, cv=kfold, scoring='accuracy')\n",
    "    results.append(cv_results)\n",
    "    names.append(name)\n",
    "    print('%s: %f (%f)' % (name, cv_results.mean(), cv_results.std()))"
   ]
  },
  {
   "cell_type": "code",
   "execution_count": null,
   "id": "4a791256",
   "metadata": {
    "colab": {
     "base_uri": "https://localhost:8080/",
     "height": 1000
    },
    "id": "4a791256",
    "outputId": "43d65953-c31b-4759-d0d3-02fc3814b890"
   },
   "outputs": [],
   "source": [
    "pyplot.boxplot(results, labels=names)\n",
    "pyplot.title('Algorithm Comparison')\n",
    "pyplot.show()"
   ]
  },
  {
   "cell_type": "code",
   "execution_count": null,
   "id": "1c00a690",
   "metadata": {
    "id": "1c00a690"
   },
   "outputs": [],
   "source": [
    "# modelLR = LogisticRegression(solver='liblinear', multi_class='ovr')\n",
    "# modelLR.fit(X_train, Y_train)\n",
    "# predictions = modelLR.predict(X_validation)"
   ]
  },
  {
   "cell_type": "code",
   "execution_count": null,
   "id": "33c09ad9",
   "metadata": {
    "colab": {
     "base_uri": "https://localhost:8080/"
    },
    "id": "33c09ad9",
    "outputId": "a5034797-f8f5-44f8-cbad-000d81ebca70"
   },
   "outputs": [],
   "source": [
    "# accuracy = accuracy_score(Y_validation, predictions)\n",
    "# print(\"{:.2f}%\".format(accuracy*100))\n",
    "# confusion_mat=confusion_matrix(Y_validation, predictions)\n",
    "# print(confusion_mat)\n",
    "# print(\"Total cost = \", confusion_mat[0][1] * 10 + confusion_mat[1][0] * 500)"
   ]
  },
  {
   "cell_type": "code",
   "execution_count": null,
   "id": "d640d427",
   "metadata": {
    "id": "d640d427"
   },
   "outputs": [],
   "source": [
    "# modelKK = KNeighborsClassifier()\n",
    "# modelKK.fit(X_train, Y_train)\n",
    "# predictions = modelKK.predict(X_validation)"
   ]
  },
  {
   "cell_type": "code",
   "execution_count": null,
   "id": "6b913f63",
   "metadata": {
    "colab": {
     "base_uri": "https://localhost:8080/"
    },
    "id": "6b913f63",
    "outputId": "51f51e46-06c6-470c-af12-93b986cb3258"
   },
   "outputs": [],
   "source": [
    "# accuracy = accuracy_score(Y_validation, predictions)\n",
    "# print(\"{:.2f}%\".format(accuracy*100))\n",
    "# confusion_mat=confusion_matrix(Y_validation, predictions)\n",
    "# print(confusion_mat)\n",
    "# print(\"Total cost = \", confusion_mat[0][1] * 10 + confusion_mat[1][0] * 500)"
   ]
  },
  {
   "cell_type": "markdown",
   "id": "SQk3obZT6TMH",
   "metadata": {
    "id": "SQk3obZT6TMH"
   },
   "source": [
    "### We have decided to use Random forest algorithms to classify our data.\n",
    "### The Random Forest algorithms have accurately predicted 98.31% of the data test set. It is worth noting that the algorithms have shown a tendency to mispredict false negatives rather than false positives, with 203 out of 12,000 values being incorrectly identified.\n",
    "### (12000 values=20% dataset=Test Data)"
   ]
  },
  {
   "cell_type": "markdown",
   "id": "j7bI7uEt6Lq6",
   "metadata": {
    "id": "j7bI7uEt6Lq6"
   },
   "source": [
    "> 3.2. Random forest classification Analysis."
   ]
  },
  {
   "cell_type": "code",
   "execution_count": null,
   "id": "339c7605",
   "metadata": {
    "id": "339c7605"
   },
   "outputs": [],
   "source": [
    "modelRF = RandomForestClassifier(n_estimators= 500 , max_depth=10)\n",
    "modelRF.fit(X_train, Y_train)\n",
    "predictions = modelRF.predict(X_validation)"
   ]
  },
  {
   "cell_type": "code",
   "execution_count": null,
   "id": "f08fb8d4",
   "metadata": {
    "colab": {
     "base_uri": "https://localhost:8080/"
    },
    "id": "f08fb8d4",
    "outputId": "271b1fd8-17e2-4ef1-d380-7374e5bd3c34"
   },
   "outputs": [],
   "source": [
    "accuracy = accuracy_score(Y_validation, predictions)\n",
    "print(\"{:.2f}%\".format(accuracy*100))\n",
    "confusion_mat=confusion_matrix(Y_validation, predictions)\n",
    "print(confusion_mat)\n",
    "print(\"Total cost = \", confusion_mat[0][1] * 10 + confusion_mat[1][0] * 500)"
   ]
  },
  {
   "cell_type": "markdown",
   "id": "BWrbQM45-yca",
   "metadata": {
    "id": "BWrbQM45-yca"
   },
   "source": [
    "> 3.3.1 ROC and Precision-Recall curves."
   ]
  },
  {
   "cell_type": "markdown",
   "id": "fQNbdwZ3_4rO",
   "metadata": {
    "id": "fQNbdwZ3_4rO"
   },
   "source": [
    "We are applaying this technique in order to reduce the amount of False Negatives."
   ]
  },
  {
   "cell_type": "markdown",
   "id": "EuV_Jc0l-0h0",
   "metadata": {
    "id": "EuV_Jc0l-0h0"
   },
   "source": [
    "### Precision means how correctly our model predict the label column.\n",
    "### Recall means how correctly our model find all objects of the label column.\n",
    "### ROC Curves summarize the trade-off between the true positive rate and false positive rate for a predictive model using different probability thresholds.\n",
    "### Precision-Recall curves summarize the trade-off between the true positive rate and the positive predictive value for a predictive model using different probability thresholds.\n",
    "### ROC curves are appropriate when the observations are balanced between each class, whereas precision-recall curves are appropriate for imbalanced datasets."
   ]
  },
  {
   "cell_type": "code",
   "execution_count": null,
   "id": "b8e76c1a",
   "metadata": {
    "colab": {
     "base_uri": "https://localhost:8080/",
     "height": 476
    },
    "id": "b8e76c1a",
    "outputId": "4b84940f-1898-48b8-a491-e0bb90332fa3"
   },
   "outputs": [],
   "source": [
    "#CV for determining the best threshold\n",
    "trail = 10\n",
    "plot = []\n",
    "for x in range(0,trail):\n",
    "    train, test, y_tr, y_ts = train_test_split(X_train, Y_train, stratify = Y_train, train_size = 0.7)\n",
    "    modelRF.fit(train,y_tr)\n",
    "    pred = modelRF.predict_proba(test)[:,1]\n",
    "    precision, recall, thresholds = precision_recall_curve(y_ts, pred)\n",
    "    thresholds = np.append(thresholds,1)\n",
    "\n",
    "    costs = []\n",
    "    for threshold in thresholds:\n",
    "        y_pred_thres = pred > threshold\n",
    "        c = confusion_matrix(y_ts,y_pred_thres)\n",
    "        cost = c[0,1] * 10 + c[1,0] * 500\n",
    "        costs.append(cost)\n",
    "\n",
    "    plot.append({'threshold': thresholds, 'precision':precision,'recall': recall, 'costs':costs})\n",
    "\n",
    "\n",
    "plt.figure(figsize=(15,5))\n",
    "plt.subplot(1,3,1)\n",
    "for x in plot:\n",
    "    plt.plot(x['threshold'],x['precision'],'r')\n",
    "    plt.plot(x['threshold'],x['recall'],'g')\n",
    "\n",
    "plt.legend(('precision','recall'))\n",
    "plt.xlabel('Threshold')\n",
    "plt.ylabel(\"Precision/Recall\")\n",
    "\n",
    "plt.subplot(1,3,3)\n",
    "for x in plot:\n",
    "    plt.plot(x['threshold'],x['costs'],'y')\n",
    "plt.legend(('costs'))\n",
    "plt.xlabel('Threshold')\n",
    "plt.ylabel(\"cost\")\n",
    "plt.show()"
   ]
  },
  {
   "cell_type": "markdown",
   "id": "tcDE6LcH_O-N",
   "metadata": {
    "id": "tcDE6LcH_O-N"
   },
   "source": [
    "### Due to a luck of knowledge on this topic, we aim to develop a more solid knowledge on how to analyse and perform ROC and Precision-Recall curves.\n",
    "### We are deciding to skip this analisys and concluding with the performance obtained from our Random Forest algorithm in previous steps."
   ]
  },
  {
   "cell_type": "code",
   "execution_count": null,
   "id": "-78qwzjv_jf_",
   "metadata": {
    "id": "-78qwzjv_jf_"
   },
   "outputs": [],
   "source": [
    "modelRF = RandomForestClassifier(n_estimators= 500 , max_depth=10)\n",
    "modelRF.fit(X_train, Y_train)\n",
    "predictions = modelRF.predict(X_validation)"
   ]
  },
  {
   "cell_type": "code",
   "execution_count": null,
   "id": "EMekAG3H_l8D",
   "metadata": {
    "colab": {
     "base_uri": "https://localhost:8080/"
    },
    "id": "EMekAG3H_l8D",
    "outputId": "9b83f6bd-c203-4b16-f9bc-510e1b3468fd"
   },
   "outputs": [],
   "source": [
    "accuracy = accuracy_score(Y_validation, predictions)\n",
    "print(\"{:.2f}%\".format(accuracy*100))\n",
    "confusion_mat=confusion_matrix(Y_validation, predictions)\n",
    "print(confusion_mat)\n",
    "print(\"Total cost = \", confusion_mat[0][1] * 10 + confusion_mat[1][0] * 500)"
   ]
  },
  {
   "cell_type": "markdown",
   "id": "Wx56rP5b_rGB",
   "metadata": {
    "id": "Wx56rP5b_rGB"
   },
   "source": [
    "### 4. Conclusion\n",
    "\n",
    "### Performing machine learning and classification algorithms, we have developed an analysis that has enabled us to create a model with the ability to:\n",
    "- Minimise the occurrence of missed maintenance of our lorries with specific APS system component failures by bringing them to the mechanic promptly and regularly.\n",
    "- Identify that this happens in only 1.72% (where 12000=100% and 203=1.72%) of the occasions when we miss a faulty tuck.\n",
    "\n",
    "### Considering that every time we send our trucks to the mechanic by mistake it costs us €10 (false positives), and missing faulty trucks cost €500 (false negatives) in the long term.\n",
    "## Cost=0x10+203x500=€101500\n",
    "\n"
   ]
  },
  {
   "cell_type": "markdown",
   "id": "10963c1d",
   "metadata": {},
   "source": [
    "### 5. Machine learning classification algorithms analysis with dataset balanced"
   ]
  },
  {
   "cell_type": "code",
   "execution_count": null,
   "id": "03b321e0",
   "metadata": {},
   "outputs": [],
   "source": [
    "X = df5_pca.drop(['classification'], axis=1)\n",
    "y = df5_pca['classification']\n",
    "X_train, X_validation, Y_train, Y_validation = train_test_split(X, y, test_size=0.30, random_state=1)"
   ]
  },
  {
   "cell_type": "code",
   "execution_count": null,
   "id": "c5ab3300",
   "metadata": {},
   "outputs": [],
   "source": [
    "df5_pca.columns = df5_pca.columns.astype(str)"
   ]
  },
  {
   "cell_type": "markdown",
   "id": "ac06b88b",
   "metadata": {},
   "source": [
    "### 5.1 Undersampling the negative class"
   ]
  },
  {
   "cell_type": "code",
   "execution_count": null,
   "id": "b4ab4b5f",
   "metadata": {},
   "outputs": [],
   "source": [
    "# train_neg_sampled = X_train[X_train['classification'] == 0].sample(n = 1000,random_state = 42)\n",
    "# train_Sampled = X_train[X_train['classification'] == 1].append(train_neg_sampled)"
   ]
  },
  {
   "cell_type": "code",
   "execution_count": null,
   "id": "df24b232",
   "metadata": {},
   "outputs": [],
   "source": [
    "neg_sample_size = 3 * len(df5_pca[df5_pca['classification'] == 1])\n",
    "train_neg_sampled = df5_pca[df5_pca['classification'] == 0].sample(n=neg_sample_size, random_state=42)\n",
    "train_sampled = pd.concat([df5_pca[df5_pca['classification'] == 1], train_neg_sampled])"
   ]
  },
  {
   "cell_type": "code",
   "execution_count": null,
   "id": "574cff52",
   "metadata": {},
   "outputs": [],
   "source": [
    "Count = pd.value_counts(train_sampled['classification'], sort = True).sort_index()\n",
    "Count.plot(kind = 'bar')\n",
    "plt.title(\"Components Failure \\n (0) Failures for components not related to the APS | (1) Failures for components related to the APS \")\n",
    "plt.xlabel(\"classification\")\n",
    "plt.ylabel(\"Frecuency\")\n",
    "\n",
    "for index, value in enumerate(Count):\n",
    "    plt.text(index, value, str(value), ha='center', va='bottom')\n",
    "\n",
    "plt.xticks(rotation=360)\n",
    "plt.show()"
   ]
  },
  {
   "cell_type": "code",
   "execution_count": null,
   "id": "0578b016",
   "metadata": {},
   "outputs": [],
   "source": [
    "print(\"Shape of the train data after under sampling the negative class\", train_sampled.shape[0])"
   ]
  },
  {
   "cell_type": "markdown",
   "id": "81207ead",
   "metadata": {},
   "source": [
    "### 5.2 Upsampling the positive class using Smote Technique"
   ]
  },
  {
   "cell_type": "code",
   "execution_count": null,
   "id": "9b32f7e1",
   "metadata": {},
   "outputs": [],
   "source": [
    "sm = over_sampling.SMOTE(sampling_strategy= 1.0)\n",
    "train_sampled_smote, Y_train = sm.fit_resample(X_train,Y_train)"
   ]
  },
  {
   "cell_type": "code",
   "execution_count": null,
   "id": "3b03fea8",
   "metadata": {},
   "outputs": [],
   "source": [
    "print(\"Shape of train data after upsampling the positive class by smote\", train_sampled_smote.shape)"
   ]
  },
  {
   "cell_type": "markdown",
   "id": "7368f9a0",
   "metadata": {},
   "source": [
    "### 5.3 Standardizing the data"
   ]
  },
  {
   "cell_type": "code",
   "execution_count": null,
   "id": "0b0c4ab6",
   "metadata": {},
   "outputs": [],
   "source": [
    "std = StandardScaler()\n",
    "train_std = std.fit_transform(train_sampled_smote)\n",
    "test_std = std.transform(X_validation)"
   ]
  },
  {
   "cell_type": "markdown",
   "id": "f9e75186",
   "metadata": {},
   "source": [
    "### 5.4 Random Forest"
   ]
  },
  {
   "cell_type": "code",
   "execution_count": null,
   "id": "9583c7b4",
   "metadata": {},
   "outputs": [],
   "source": [
    "# model fitting and hyperparameter tuning using gridsearch\n",
    "x_cfl=RandomForestClassifier()\n",
    "#weights = np.linspace(0.05, 0.95, 20)\n",
    "prams={\n",
    "     'n_estimators':[100,200,500,1000,2000],\n",
    "     'max_depth':[3,5,10]#,'class_weight': [{0: x, 1: 1.0-x} for x in weights]\n",
    "    \n",
    "    \n",
    "}\n",
    "model=GridSearchCV(x_cfl,param_grid=prams,verbose=10,n_jobs=-1,scoring='f1',cv=5)\n",
    "model.fit(train_std,Y_train)\n",
    "print(\"Best estimator is\", model.best_params_)"
   ]
  },
  {
   "cell_type": "code",
   "execution_count": null,
   "id": "ca8de353",
   "metadata": {},
   "outputs": [],
   "source": [
    "# model fitting using the best parameter\n",
    "clf = RandomForestClassifier(n_estimators= 1000 , max_depth=10)\n",
    "clf.fit(train_std,Y_train)\n",
    "# Predict labels for the validation set\n",
    "y_pred = clf.predict(test_std)\n",
    "\n",
    "# Calculate the confusion matrix for the validation set\n",
    "con_mat = confusion_matrix(Y_validation, y_pred)\n",
    "\n",
    "# Print the confusion matrix and other statistics\n",
    "print(\"-\"*117)\n",
    "print('Confusion Matrix: ', '\\n', con_mat)\n",
    "print(\"-\"*117)\n",
    "print(\"Type 1 error (False Positive) = \", con_mat[0][1])\n",
    "print(\"Type 2 error (False Negative) = \", con_mat[1][0])\n",
    "print(\"-\"*117)\n",
    "print(\"Total cost = \", con_mat[0][1] * 10 + con_mat[1][0] * 500)\n",
    "print(\"-\"*117)"
   ]
  },
  {
   "cell_type": "code",
   "execution_count": null,
   "id": "4ca726e3",
   "metadata": {},
   "outputs": [],
   "source": [
    "#CV for determining the best threshold\n",
    "trail = 10\n",
    "plot = []\n",
    "for x in range(0,trail):\n",
    "    train, test, y_tr, y_ts = train_test_split(train_std, Y_train, stratify = Y_train, train_size = 0.7)\n",
    "    clf.fit(train,y_tr)\n",
    "    pred = clf.predict_proba(test)[:,1]\n",
    "    precision, recall, thresholds = precision_recall_curve(y_ts, pred)\n",
    "    thresholds = np.append(thresholds,1)\n",
    "      \n",
    "    costs = []\n",
    "    for threshold in thresholds:\n",
    "        y_pred_thres = pred > threshold\n",
    "        c = confusion_matrix(y_ts,y_pred_thres)\n",
    "        cost = c[0,1] * 10 + c[1,0] * 500\n",
    "        costs.append(cost)\n",
    "        \n",
    "    plot.append({'threshold': thresholds, 'precision':precision,'recall': recall, 'costs':costs})\n",
    "    \n",
    "\n",
    "plt.figure(figsize=(15,5))\n",
    "plt.subplot(1,3,1)\n",
    "for x in plot:\n",
    "    plt.plot(x['threshold'],x['precision'],'r')\n",
    "    plt.plot(x['threshold'],x['recall'],'g')\n",
    "    \n",
    "plt.legend(('precision','recall'))\n",
    "plt.xlabel('Threshold')\n",
    "plt.ylabel(\"Precision/Recall\")\n",
    "\n",
    "plt.subplot(1,3,3)\n",
    "for x in plot:\n",
    "    plt.plot(x['threshold'],x['costs'],'y')\n",
    "plt.legend(('costs'))\n",
    "plt.xlabel('Threshold')\n",
    "plt.ylabel(\"cost\")\n",
    "plt.show()"
   ]
  },
  {
   "cell_type": "markdown",
   "id": "c5c181c8",
   "metadata": {},
   "source": [
    "- At 0.63, we observe that precision is almost more than 95% and recall is almost around 95%. We want our recall to be near to 100% and at the same time we also want our precision to be high."
   ]
  },
  {
   "cell_type": "code",
   "execution_count": null,
   "id": "2d4367d8",
   "metadata": {},
   "outputs": [],
   "source": [
    "clf.fit(train_std,Y_train)\n",
    "y_pred_prob = clf.predict_proba(test_std)[:,1]  > 0.63\n",
    "con_mat =confusion_matrix (Y_validation, y_pred_prob)\n",
    "print(\"-\"*117)\n",
    "print(\"Type 1 error (False Positive) = \", con_mat[0][1])\n",
    "print(\"Type 2 error (False Negative) = \", con_mat[1][0])\n",
    "print(\"-\"*117)\n",
    "print(\"Total cost = \", con_mat[0][1] * 10 + con_mat[1][0] * 500)\n",
    "print(\"-\"*117)"
   ]
  },
  {
   "cell_type": "code",
   "execution_count": null,
   "id": "92c419d5",
   "metadata": {},
   "outputs": [],
   "source": []
  },
  {
   "cell_type": "code",
   "execution_count": null,
   "id": "0c7fea20",
   "metadata": {},
   "outputs": [],
   "source": []
  },
  {
   "cell_type": "code",
   "execution_count": null,
   "id": "c198fe3c",
   "metadata": {},
   "outputs": [],
   "source": []
  },
  {
   "cell_type": "markdown",
   "id": "c34008bd",
   "metadata": {
    "id": "c34008bd"
   },
   "source": [
    "### References"
   ]
  },
  {
   "cell_type": "markdown",
   "id": "64d118d1",
   "metadata": {
    "id": "64d118d1"
   },
   "source": [
    "matplotlib.org. (n.d.). matplotlib.pyplot.legend — Matplotlib 3.3.4 documentation. [online] Available at: https://matplotlib.org/stable/api/_as_gen/matplotlib.pyplot.legend.html  [Accessed 27 Oct. 2023]."
   ]
  },
  {
   "cell_type": "markdown",
   "id": "795c52cb",
   "metadata": {
    "id": "795c52cb"
   },
   "source": [
    "seaborn.pydata.org. (n.d.). seaborn.heatmap — seaborn 0.10.1 documentation. [online] Available at: https://seaborn.pydata.org/generated/seaborn.heatmap.html [Accessed 30 Oct. 2023]."
   ]
  },
  {
   "cell_type": "markdown",
   "id": "69d3deaa",
   "metadata": {
    "id": "69d3deaa"
   },
   "source": [
    "Zach (2021). Pandas: How to Find Unique Values in a Column. [online] Statology. Available at: https://www.statology.org/pandas-unique-values-in-column [Accessed 1 Nov. 2023]."
   ]
  },
  {
   "cell_type": "markdown",
   "id": "f6ff1e67",
   "metadata": {
    "id": "f6ff1e67"
   },
   "source": [
    "Scikit-learn (2018). sklearn.ensemble.RandomForestClassifier — scikit-learn 0.20.3 documentation. [online] Scikit-learn.org. Available at: https://scikit-learn.org/stable/modules/generated/sklearn.ensemble.RandomForestClassifier.html  [Accessed 1 Nov. 2023]."
   ]
  },
  {
   "cell_type": "markdown",
   "id": "pX-u_BP0E551",
   "metadata": {
    "id": "pX-u_BP0E551"
   },
   "source": [
    "Brownlee, J. (2018). How to Use ROC Curves and Precision-Recall Curves for Classification in Python. [online] MachineLearningMastery.com. Available at: https://machinelearningmastery.com/roc-curves-and-precision-recall-curves-for-classification-in-python  [Accessed 2 Nov. 2023]."
   ]
  },
  {
   "cell_type": "markdown",
   "id": "52c553c4",
   "metadata": {
    "id": "_ECqvCAPE8c2"
   },
   "source": [
    "GitHub. (n.d.). APS-Failure-at-Scania-Trucks/aps_model.ipynb at master · mrunal46/APS-Failure-at-Scania-Trucks. [online] Available at: https://github.com/mrunal46/APS-Failure-at-Scania-Trucks/blob/master/aps_model.ipynb [Accessed 3 Nov. 2023]."
   ]
  },
  {
   "cell_type": "code",
   "execution_count": null,
   "id": "75b7183c",
   "metadata": {},
   "outputs": [],
   "source": []
  }
 ],
 "metadata": {
  "accelerator": "GPU",
  "colab": {
   "gpuType": "T4",
   "provenance": []
  },
  "kernelspec": {
   "display_name": "Python 3 (ipykernel)",
   "language": "python",
   "name": "python3"
  },
  "language_info": {
   "codemirror_mode": {
    "name": "ipython",
    "version": 3
   },
   "file_extension": ".py",
   "mimetype": "text/x-python",
   "name": "python",
   "nbconvert_exporter": "python",
   "pygments_lexer": "ipython3",
   "version": "3.9.7"
  }
 },
 "nbformat": 4,
 "nbformat_minor": 5
}
